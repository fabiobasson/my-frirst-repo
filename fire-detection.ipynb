{
  "nbformat": 4,
  "nbformat_minor": 0,
  "metadata": {
    "kernelspec": {
      "language": "python",
      "display_name": "Python 3",
      "name": "python3"
    },
    "language_info": {
      "pygments_lexer": "ipython3",
      "nbconvert_exporter": "python",
      "version": "3.6.4",
      "file_extension": ".py",
      "codemirror_mode": {
        "name": "ipython",
        "version": 3
      },
      "name": "python",
      "mimetype": "text/x-python"
    },
    "colab": {
      "name": "fire-detection.ipynb",
      "provenance": []
    },
    "accelerator": "GPU"
  },
  "cells": [
    {
      "cell_type": "code",
      "metadata": {
        "execution": {
          "iopub.status.busy": "2021-06-19T10:28:41.348008Z",
          "iopub.execute_input": "2021-06-19T10:28:41.348616Z",
          "iopub.status.idle": "2021-06-19T10:28:48.147825Z",
          "shell.execute_reply.started": "2021-06-19T10:28:41.348548Z",
          "shell.execute_reply": "2021-06-19T10:28:48.146763Z"
        },
        "trusted": true,
        "id": "hAuKKJc9pfe8"
      },
      "source": [
        "import os\n",
        "import tensorflow as tf\n",
        "from tensorflow.keras import layers\n",
        "from tensorflow.keras import Model\n",
        "from os import getcwd\n",
        "import zipfile\n",
        "import shutil\n",
        "import numpy as np\n",
        "import glob\n",
        "import random\n",
        "import pandas as pd\n",
        "\n",
        "from tensorflow.keras.optimizers import RMSprop, Adam\n",
        "from tensorflow.keras.applications.inception_v3 import InceptionV3\n",
        "from tensorflow.keras.preprocessing.image import ImageDataGenerator\n",
        "\n",
        "from sklearn.metrics import confusion_matrix,accuracy_score\n",
        "from sklearn.model_selection import train_test_split"
      ],
      "execution_count": 17,
      "outputs": []
    },
    {
      "cell_type": "code",
      "metadata": {
        "colab": {
          "base_uri": "https://localhost:8080/"
        },
        "id": "ECFUeNjx-Dp8",
        "outputId": "07209740-4bb9-4beb-cd5e-40e0a4822269"
      },
      "source": [
        "from google.colab import drive\n",
        "drive.mount('/content/drive')"
      ],
      "execution_count": null,
      "outputs": [
        {
          "output_type": "stream",
          "name": "stdout",
          "text": [
            "Drive already mounted at /content/drive; to attempt to forcibly remount, call drive.mount(\"/content/drive\", force_remount=True).\n"
          ]
        }
      ]
    },
    {
      "cell_type": "code",
      "metadata": {
        "colab": {
          "resources": {
            "http://localhost:8080/nbextensions/google.colab/files.js": {
              "data": "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",
              "ok": true,
              "headers": [
                [
                  "content-type",
                  "application/javascript"
                ]
              ],
              "status": 200,
              "status_text": ""
            }
          },
          "base_uri": "https://localhost:8080/",
          "height": 90
        },
        "id": "OXd_4MGikKc5",
        "outputId": "366d4c64-e9e9-46e3-cdf5-78ca03e51681"
      },
      "source": [
        "from google.colab import files\n",
        "files.upload()"
      ],
      "execution_count": null,
      "outputs": [
        {
          "output_type": "display_data",
          "data": {
            "text/html": [
              "\n",
              "     <input type=\"file\" id=\"files-f04bc348-3f1b-46a4-b85b-fae62cd40be4\" name=\"files[]\" multiple disabled\n",
              "        style=\"border:none\" />\n",
              "     <output id=\"result-f04bc348-3f1b-46a4-b85b-fae62cd40be4\">\n",
              "      Upload widget is only available when the cell has been executed in the\n",
              "      current browser session. Please rerun this cell to enable.\n",
              "      </output>\n",
              "      <script src=\"/nbextensions/google.colab/files.js\"></script> "
            ],
            "text/plain": [
              "<IPython.core.display.HTML object>"
            ]
          },
          "metadata": {}
        },
        {
          "output_type": "stream",
          "name": "stdout",
          "text": [
            "Saving kaggle.json to kaggle.json\n"
          ]
        },
        {
          "output_type": "execute_result",
          "data": {
            "text/plain": [
              "{'kaggle.json': b'{\"username\":\"fabiobasson\",\"key\":\"d71cbfdfd23379909173204eac74cf96\"}'}"
            ]
          },
          "metadata": {},
          "execution_count": 2
        }
      ]
    },
    {
      "cell_type": "code",
      "metadata": {
        "id": "wfvF0GijkLWZ"
      },
      "source": [
        "!mkdir ~/.kaggle\n",
        "!cp kaggle.json ~/.kaggle/\n",
        "!chmod 600 ~/.kaggle/kaggle.json"
      ],
      "execution_count": null,
      "outputs": []
    },
    {
      "cell_type": "code",
      "metadata": {
        "colab": {
          "base_uri": "https://localhost:8080/"
        },
        "id": "LKM57r_jkNZY",
        "outputId": "157861a1-8978-49a2-a6a4-748d8f519fa8"
      },
      "source": [
        "!kaggle datasets download phylake1337/fire-dataset"
      ],
      "execution_count": null,
      "outputs": [
        {
          "output_type": "stream",
          "name": "stdout",
          "text": [
            "Downloading fire-dataset.zip to /content\n",
            " 99% 385M/387M [00:09<00:00, 43.4MB/s]\n",
            "100% 387M/387M [00:09<00:00, 44.2MB/s]\n"
          ]
        }
      ]
    },
    {
      "cell_type": "code",
      "metadata": {
        "id": "nYcDzz4R0Mmz"
      },
      "source": [
        "!unzip -qq fire-dataset.zip"
      ],
      "execution_count": 18,
      "outputs": []
    },
    {
      "cell_type": "markdown",
      "metadata": {
        "id": "SHjo6hLTpffB"
      },
      "source": [
        "### Data Preprocessing"
      ]
    },
    {
      "cell_type": "code",
      "metadata": {
        "execution": {
          "iopub.status.busy": "2021-06-19T10:28:48.149596Z",
          "iopub.execute_input": "2021-06-19T10:28:48.150191Z",
          "iopub.status.idle": "2021-06-19T10:28:48.25419Z",
          "shell.execute_reply.started": "2021-06-19T10:28:48.150144Z",
          "shell.execute_reply": "2021-06-19T10:28:48.253066Z"
        },
        "trusted": true,
        "colab": {
          "base_uri": "https://localhost:8080/"
        },
        "id": "awgMfBN_pffC",
        "outputId": "a04234b0-a388-415d-9bee-28c2a4ca9031"
      },
      "source": [
        "fire_dir = glob.glob('fire_dataset/fire_images/*.png')\n",
        "non_fire_dir = glob.glob('fire_dataset/non_fire_images/*.png')\n",
        "\n",
        "fire_dir"
      ],
      "execution_count": 5,
      "outputs": [
        {
          "output_type": "execute_result",
          "data": {
            "text/plain": [
              "['fire_dataset/fire_images/fire.59.png',\n",
              " 'fire_dataset/fire_images/fire.601.png',\n",
              " 'fire_dataset/fire_images/fire.433.png',\n",
              " 'fire_dataset/fire_images/fire.121.png',\n",
              " 'fire_dataset/fire_images/fire.671.png',\n",
              " 'fire_dataset/fire_images/fire.685.png',\n",
              " 'fire_dataset/fire_images/fire.156.png',\n",
              " 'fire_dataset/fire_images/fire.249.png',\n",
              " 'fire_dataset/fire_images/fire.382.png',\n",
              " 'fire_dataset/fire_images/fire.418.png',\n",
              " 'fire_dataset/fire_images/fire.459.png',\n",
              " 'fire_dataset/fire_images/fire.633.png',\n",
              " 'fire_dataset/fire_images/fire.322.png',\n",
              " 'fire_dataset/fire_images/fire.722.png',\n",
              " 'fire_dataset/fire_images/fire.507.png',\n",
              " 'fire_dataset/fire_images/fire.327.png',\n",
              " 'fire_dataset/fire_images/fire.664.png',\n",
              " 'fire_dataset/fire_images/fire.506.png',\n",
              " 'fire_dataset/fire_images/fire.739.png',\n",
              " 'fire_dataset/fire_images/fire.470.png',\n",
              " 'fire_dataset/fire_images/fire.711.png',\n",
              " 'fire_dataset/fire_images/fire.242.png',\n",
              " 'fire_dataset/fire_images/fire.536.png',\n",
              " 'fire_dataset/fire_images/fire.377.png',\n",
              " 'fire_dataset/fire_images/fire.405.png',\n",
              " 'fire_dataset/fire_images/fire.471.png',\n",
              " 'fire_dataset/fire_images/fire.58.png',\n",
              " 'fire_dataset/fire_images/fire.194.png',\n",
              " 'fire_dataset/fire_images/fire.331.png',\n",
              " 'fire_dataset/fire_images/fire.73.png',\n",
              " 'fire_dataset/fire_images/fire.582.png',\n",
              " 'fire_dataset/fire_images/fire.197.png',\n",
              " 'fire_dataset/fire_images/fire.18.png',\n",
              " 'fire_dataset/fire_images/fire.690.png',\n",
              " 'fire_dataset/fire_images/fire.125.png',\n",
              " 'fire_dataset/fire_images/fire.468.png',\n",
              " 'fire_dataset/fire_images/fire.573.png',\n",
              " 'fire_dataset/fire_images/fire.453.png',\n",
              " 'fire_dataset/fire_images/fire.80.png',\n",
              " 'fire_dataset/fire_images/fire.232.png',\n",
              " 'fire_dataset/fire_images/fire.692.png',\n",
              " 'fire_dataset/fire_images/fire.430.png',\n",
              " 'fire_dataset/fire_images/fire.245.png',\n",
              " 'fire_dataset/fire_images/fire.512.png',\n",
              " 'fire_dataset/fire_images/fire.139.png',\n",
              " 'fire_dataset/fire_images/fire.103.png',\n",
              " 'fire_dataset/fire_images/fire.753.png',\n",
              " 'fire_dataset/fire_images/fire.408.png',\n",
              " 'fire_dataset/fire_images/fire.353.png',\n",
              " 'fire_dataset/fire_images/fire.446.png',\n",
              " 'fire_dataset/fire_images/fire.172.png',\n",
              " 'fire_dataset/fire_images/fire.253.png',\n",
              " 'fire_dataset/fire_images/fire.182.png',\n",
              " 'fire_dataset/fire_images/fire.588.png',\n",
              " 'fire_dataset/fire_images/fire.256.png',\n",
              " 'fire_dataset/fire_images/fire.744.png',\n",
              " 'fire_dataset/fire_images/fire.122.png',\n",
              " 'fire_dataset/fire_images/fire.508.png',\n",
              " 'fire_dataset/fire_images/fire.161.png',\n",
              " 'fire_dataset/fire_images/fire.730.png',\n",
              " 'fire_dataset/fire_images/fire.279.png',\n",
              " 'fire_dataset/fire_images/fire.98.png',\n",
              " 'fire_dataset/fire_images/fire.15.png',\n",
              " 'fire_dataset/fire_images/fire.643.png',\n",
              " 'fire_dataset/fire_images/fire.52.png',\n",
              " 'fire_dataset/fire_images/fire.655.png',\n",
              " 'fire_dataset/fire_images/fire.40.png',\n",
              " 'fire_dataset/fire_images/fire.585.png',\n",
              " 'fire_dataset/fire_images/fire.442.png',\n",
              " 'fire_dataset/fire_images/fire.379.png',\n",
              " 'fire_dataset/fire_images/fire.531.png',\n",
              " 'fire_dataset/fire_images/fire.669.png',\n",
              " 'fire_dataset/fire_images/fire.362.png',\n",
              " 'fire_dataset/fire_images/fire.447.png',\n",
              " 'fire_dataset/fire_images/fire.525.png',\n",
              " 'fire_dataset/fire_images/fire.590.png',\n",
              " 'fire_dataset/fire_images/fire.387.png',\n",
              " 'fire_dataset/fire_images/fire.587.png',\n",
              " 'fire_dataset/fire_images/fire.342.png',\n",
              " 'fire_dataset/fire_images/fire.225.png',\n",
              " 'fire_dataset/fire_images/fire.361.png',\n",
              " 'fire_dataset/fire_images/fire.641.png',\n",
              " 'fire_dataset/fire_images/fire.30.png',\n",
              " 'fire_dataset/fire_images/fire.514.png',\n",
              " 'fire_dataset/fire_images/fire.734.png',\n",
              " 'fire_dataset/fire_images/fire.666.png',\n",
              " 'fire_dataset/fire_images/fire.20.png',\n",
              " 'fire_dataset/fire_images/fire.710.png',\n",
              " 'fire_dataset/fire_images/fire.37.png',\n",
              " 'fire_dataset/fire_images/fire.164.png',\n",
              " 'fire_dataset/fire_images/fire.743.png',\n",
              " 'fire_dataset/fire_images/fire.591.png',\n",
              " 'fire_dataset/fire_images/fire.350.png',\n",
              " 'fire_dataset/fire_images/fire.271.png',\n",
              " 'fire_dataset/fire_images/fire.222.png',\n",
              " 'fire_dataset/fire_images/fire.3.png',\n",
              " 'fire_dataset/fire_images/fire.181.png',\n",
              " 'fire_dataset/fire_images/fire.277.png',\n",
              " 'fire_dataset/fire_images/fire.498.png',\n",
              " 'fire_dataset/fire_images/fire.320.png',\n",
              " 'fire_dataset/fire_images/fire.214.png',\n",
              " 'fire_dataset/fire_images/fire.612.png',\n",
              " 'fire_dataset/fire_images/fire.486.png',\n",
              " 'fire_dataset/fire_images/fire.611.png',\n",
              " 'fire_dataset/fire_images/fire.533.png',\n",
              " 'fire_dataset/fire_images/fire.274.png',\n",
              " 'fire_dataset/fire_images/fire.640.png',\n",
              " 'fire_dataset/fire_images/fire.262.png',\n",
              " 'fire_dataset/fire_images/fire.596.png',\n",
              " 'fire_dataset/fire_images/fire.572.png',\n",
              " 'fire_dataset/fire_images/fire.299.png',\n",
              " 'fire_dataset/fire_images/fire.314.png',\n",
              " 'fire_dataset/fire_images/fire.638.png',\n",
              " 'fire_dataset/fire_images/fire.202.png',\n",
              " 'fire_dataset/fire_images/fire.28.png',\n",
              " 'fire_dataset/fire_images/fire.332.png',\n",
              " 'fire_dataset/fire_images/fire.702.png',\n",
              " 'fire_dataset/fire_images/fire.110.png',\n",
              " 'fire_dataset/fire_images/fire.21.png',\n",
              " 'fire_dataset/fire_images/fire.360.png',\n",
              " 'fire_dataset/fire_images/fire.396.png',\n",
              " 'fire_dataset/fire_images/fire.219.png',\n",
              " 'fire_dataset/fire_images/fire.714.png',\n",
              " 'fire_dataset/fire_images/fire.251.png',\n",
              " 'fire_dataset/fire_images/fire.679.png',\n",
              " 'fire_dataset/fire_images/fire.323.png',\n",
              " 'fire_dataset/fire_images/fire.661.png',\n",
              " 'fire_dataset/fire_images/fire.308.png',\n",
              " 'fire_dataset/fire_images/fire.216.png',\n",
              " 'fire_dataset/fire_images/fire.165.png',\n",
              " 'fire_dataset/fire_images/fire.403.png',\n",
              " 'fire_dataset/fire_images/fire.169.png',\n",
              " 'fire_dataset/fire_images/fire.303.png',\n",
              " 'fire_dataset/fire_images/fire.719.png',\n",
              " 'fire_dataset/fire_images/fire.705.png',\n",
              " 'fire_dataset/fire_images/fire.143.png',\n",
              " 'fire_dataset/fire_images/fire.14.png',\n",
              " 'fire_dataset/fire_images/fire.424.png',\n",
              " 'fire_dataset/fire_images/fire.510.png',\n",
              " 'fire_dataset/fire_images/fire.461.png',\n",
              " 'fire_dataset/fire_images/fire.432.png',\n",
              " 'fire_dataset/fire_images/fire.501.png',\n",
              " 'fire_dataset/fire_images/fire.441.png',\n",
              " 'fire_dataset/fire_images/fire.667.png',\n",
              " 'fire_dataset/fire_images/fire.119.png',\n",
              " 'fire_dataset/fire_images/fire.728.png',\n",
              " 'fire_dataset/fire_images/fire.499.png',\n",
              " 'fire_dataset/fire_images/fire.210.png',\n",
              " 'fire_dataset/fire_images/fire.133.png',\n",
              " 'fire_dataset/fire_images/fire.733.png',\n",
              " 'fire_dataset/fire_images/fire.698.png',\n",
              " 'fire_dataset/fire_images/fire.273.png',\n",
              " 'fire_dataset/fire_images/fire.195.png',\n",
              " 'fire_dataset/fire_images/fire.112.png',\n",
              " 'fire_dataset/fire_images/fire.414.png',\n",
              " 'fire_dataset/fire_images/fire.238.png',\n",
              " 'fire_dataset/fire_images/fire.286.png',\n",
              " 'fire_dataset/fire_images/fire.284.png',\n",
              " 'fire_dataset/fire_images/fire.415.png',\n",
              " 'fire_dataset/fire_images/fire.148.png',\n",
              " 'fire_dataset/fire_images/fire.220.png',\n",
              " 'fire_dataset/fire_images/fire.154.png',\n",
              " 'fire_dataset/fire_images/fire.584.png',\n",
              " 'fire_dataset/fire_images/fire.619.png',\n",
              " 'fire_dataset/fire_images/fire.173.png',\n",
              " 'fire_dataset/fire_images/fire.87.png',\n",
              " 'fire_dataset/fire_images/fire.464.png',\n",
              " 'fire_dataset/fire_images/fire.150.png',\n",
              " 'fire_dataset/fire_images/fire.205.png',\n",
              " 'fire_dataset/fire_images/fire.107.png',\n",
              " 'fire_dataset/fire_images/fire.57.png',\n",
              " 'fire_dataset/fire_images/fire.213.png',\n",
              " 'fire_dataset/fire_images/fire.581.png',\n",
              " 'fire_dataset/fire_images/fire.365.png',\n",
              " 'fire_dataset/fire_images/fire.307.png',\n",
              " 'fire_dataset/fire_images/fire.237.png',\n",
              " 'fire_dataset/fire_images/fire.267.png',\n",
              " 'fire_dataset/fire_images/fire.695.png',\n",
              " 'fire_dataset/fire_images/fire.200.png',\n",
              " 'fire_dataset/fire_images/fire.207.png',\n",
              " 'fire_dataset/fire_images/fire.602.png',\n",
              " 'fire_dataset/fire_images/fire.576.png',\n",
              " 'fire_dataset/fire_images/fire.656.png',\n",
              " 'fire_dataset/fire_images/fire.494.png',\n",
              " 'fire_dataset/fire_images/fire.123.png',\n",
              " 'fire_dataset/fire_images/fire.458.png',\n",
              " 'fire_dataset/fire_images/fire.511.png',\n",
              " 'fire_dataset/fire_images/fire.528.png',\n",
              " 'fire_dataset/fire_images/fire.490.png',\n",
              " 'fire_dataset/fire_images/fire.485.png',\n",
              " 'fire_dataset/fire_images/fire.32.png',\n",
              " 'fire_dataset/fire_images/fire.94.png',\n",
              " 'fire_dataset/fire_images/fire.206.png',\n",
              " 'fire_dataset/fire_images/fire.114.png',\n",
              " 'fire_dataset/fire_images/fire.42.png',\n",
              " 'fire_dataset/fire_images/fire.604.png',\n",
              " 'fire_dataset/fire_images/fire.478.png',\n",
              " 'fire_dataset/fire_images/fire.345.png',\n",
              " 'fire_dataset/fire_images/fire.315.png',\n",
              " 'fire_dataset/fire_images/fire.115.png',\n",
              " 'fire_dataset/fire_images/fire.257.png',\n",
              " 'fire_dataset/fire_images/fire.609.png',\n",
              " 'fire_dataset/fire_images/fire.496.png',\n",
              " 'fire_dataset/fire_images/fire.493.png',\n",
              " 'fire_dataset/fire_images/fire.291.png',\n",
              " 'fire_dataset/fire_images/fire.13.png',\n",
              " 'fire_dataset/fire_images/fire.290.png',\n",
              " 'fire_dataset/fire_images/fire.316.png',\n",
              " 'fire_dataset/fire_images/fire.646.png',\n",
              " 'fire_dataset/fire_images/fire.462.png',\n",
              " 'fire_dataset/fire_images/fire.439.png',\n",
              " 'fire_dataset/fire_images/fire.363.png',\n",
              " 'fire_dataset/fire_images/fire.301.png',\n",
              " 'fire_dataset/fire_images/fire.326.png',\n",
              " 'fire_dataset/fire_images/fire.550.png',\n",
              " 'fire_dataset/fire_images/fire.489.png',\n",
              " 'fire_dataset/fire_images/fire.642.png',\n",
              " 'fire_dataset/fire_images/fire.311.png',\n",
              " 'fire_dataset/fire_images/fire.83.png',\n",
              " 'fire_dataset/fire_images/fire.344.png',\n",
              " 'fire_dataset/fire_images/fire.231.png',\n",
              " 'fire_dataset/fire_images/fire.293.png',\n",
              " 'fire_dataset/fire_images/fire.364.png',\n",
              " 'fire_dataset/fire_images/fire.278.png',\n",
              " 'fire_dataset/fire_images/fire.635.png',\n",
              " 'fire_dataset/fire_images/fire.450.png',\n",
              " 'fire_dataset/fire_images/fire.254.png',\n",
              " 'fire_dataset/fire_images/fire.580.png',\n",
              " 'fire_dataset/fire_images/fire.96.png',\n",
              " 'fire_dataset/fire_images/fire.171.png',\n",
              " 'fire_dataset/fire_images/fire.63.png',\n",
              " 'fire_dataset/fire_images/fire.306.png',\n",
              " 'fire_dataset/fire_images/fire.706.png',\n",
              " 'fire_dataset/fire_images/fire.145.png',\n",
              " 'fire_dataset/fire_images/fire.88.png',\n",
              " 'fire_dataset/fire_images/fire.124.png',\n",
              " 'fire_dataset/fire_images/fire.563.png',\n",
              " 'fire_dataset/fire_images/fire.175.png',\n",
              " 'fire_dataset/fire_images/fire.241.png',\n",
              " 'fire_dataset/fire_images/fire.577.png',\n",
              " 'fire_dataset/fire_images/fire.53.png',\n",
              " 'fire_dataset/fire_images/fire.159.png',\n",
              " 'fire_dataset/fire_images/fire.174.png',\n",
              " 'fire_dataset/fire_images/fire.648.png',\n",
              " 'fire_dataset/fire_images/fire.157.png',\n",
              " 'fire_dataset/fire_images/fire.352.png',\n",
              " 'fire_dataset/fire_images/fire.404.png',\n",
              " 'fire_dataset/fire_images/fire.100.png',\n",
              " 'fire_dataset/fire_images/fire.560.png',\n",
              " 'fire_dataset/fire_images/fire.23.png',\n",
              " 'fire_dataset/fire_images/fire.85.png',\n",
              " 'fire_dataset/fire_images/fire.569.png',\n",
              " 'fire_dataset/fire_images/fire.627.png',\n",
              " 'fire_dataset/fire_images/fire.598.png',\n",
              " 'fire_dataset/fire_images/fire.726.png',\n",
              " 'fire_dataset/fire_images/fire.4.png',\n",
              " 'fire_dataset/fire_images/fire.721.png',\n",
              " 'fire_dataset/fire_images/fire.497.png',\n",
              " 'fire_dataset/fire_images/fire.113.png',\n",
              " 'fire_dataset/fire_images/fire.27.png',\n",
              " 'fire_dataset/fire_images/fire.622.png',\n",
              " 'fire_dataset/fire_images/fire.519.png',\n",
              " 'fire_dataset/fire_images/fire.77.png',\n",
              " 'fire_dataset/fire_images/fire.523.png',\n",
              " 'fire_dataset/fire_images/fire.358.png',\n",
              " 'fire_dataset/fire_images/fire.729.png',\n",
              " 'fire_dataset/fire_images/fire.644.png',\n",
              " 'fire_dataset/fire_images/fire.629.png',\n",
              " 'fire_dataset/fire_images/fire.673.png',\n",
              " 'fire_dataset/fire_images/fire.141.png',\n",
              " 'fire_dataset/fire_images/fire.626.png',\n",
              " 'fire_dataset/fire_images/fire.502.png',\n",
              " 'fire_dataset/fire_images/fire.166.png',\n",
              " 'fire_dataset/fire_images/fire.749.png',\n",
              " 'fire_dataset/fire_images/fire.540.png',\n",
              " 'fire_dataset/fire_images/fire.381.png',\n",
              " 'fire_dataset/fire_images/fire.33.png',\n",
              " 'fire_dataset/fire_images/fire.554.png',\n",
              " 'fire_dataset/fire_images/fire.167.png',\n",
              " 'fire_dataset/fire_images/fire.105.png',\n",
              " 'fire_dataset/fire_images/fire.324.png',\n",
              " 'fire_dataset/fire_images/fire.296.png',\n",
              " 'fire_dataset/fire_images/fire.334.png',\n",
              " 'fire_dataset/fire_images/fire.70.png',\n",
              " 'fire_dataset/fire_images/fire.632.png',\n",
              " 'fire_dataset/fire_images/fire.372.png',\n",
              " 'fire_dataset/fire_images/fire.26.png',\n",
              " 'fire_dataset/fire_images/fire.11.png',\n",
              " 'fire_dataset/fire_images/fire.289.png',\n",
              " 'fire_dataset/fire_images/fire.469.png',\n",
              " 'fire_dataset/fire_images/fire.380.png',\n",
              " 'fire_dataset/fire_images/fire.106.png',\n",
              " 'fire_dataset/fire_images/fire.595.png',\n",
              " 'fire_dataset/fire_images/fire.283.png',\n",
              " 'fire_dataset/fire_images/fire.618.png',\n",
              " 'fire_dataset/fire_images/fire.488.png',\n",
              " 'fire_dataset/fire_images/fire.699.png',\n",
              " 'fire_dataset/fire_images/fire.670.png',\n",
              " 'fire_dataset/fire_images/fire.606.png',\n",
              " 'fire_dataset/fire_images/fire.515.png',\n",
              " 'fire_dataset/fire_images/fire.700.png',\n",
              " 'fire_dataset/fire_images/fire.297.png',\n",
              " 'fire_dataset/fire_images/fire.693.png',\n",
              " 'fire_dataset/fire_images/fire.583.png',\n",
              " 'fire_dataset/fire_images/fire.517.png',\n",
              " 'fire_dataset/fire_images/fire.12.png',\n",
              " 'fire_dataset/fire_images/fire.129.png',\n",
              " 'fire_dataset/fire_images/fire.429.png',\n",
              " 'fire_dataset/fire_images/fire.475.png',\n",
              " 'fire_dataset/fire_images/fire.45.png',\n",
              " 'fire_dataset/fire_images/fire.347.png',\n",
              " 'fire_dataset/fire_images/fire.5.png',\n",
              " 'fire_dataset/fire_images/fire.608.png',\n",
              " 'fire_dataset/fire_images/fire.209.png',\n",
              " 'fire_dataset/fire_images/fire.54.png',\n",
              " 'fire_dataset/fire_images/fire.66.png',\n",
              " 'fire_dataset/fire_images/fire.483.png',\n",
              " 'fire_dataset/fire_images/fire.443.png',\n",
              " 'fire_dataset/fire_images/fire.131.png',\n",
              " 'fire_dataset/fire_images/fire.217.png',\n",
              " 'fire_dataset/fire_images/fire.370.png',\n",
              " 'fire_dataset/fire_images/fire.330.png',\n",
              " 'fire_dataset/fire_images/fire.75.png',\n",
              " 'fire_dataset/fire_images/fire.532.png',\n",
              " 'fire_dataset/fire_images/fire.654.png',\n",
              " 'fire_dataset/fire_images/fire.474.png',\n",
              " 'fire_dataset/fire_images/fire.178.png',\n",
              " 'fire_dataset/fire_images/fire.163.png',\n",
              " 'fire_dataset/fire_images/fire.615.png',\n",
              " 'fire_dataset/fire_images/fire.605.png',\n",
              " 'fire_dataset/fire_images/fire.401.png',\n",
              " 'fire_dataset/fire_images/fire.191.png',\n",
              " 'fire_dataset/fire_images/fire.234.png',\n",
              " 'fire_dataset/fire_images/fire.298.png',\n",
              " 'fire_dataset/fire_images/fire.190.png',\n",
              " 'fire_dataset/fire_images/fire.522.png',\n",
              " 'fire_dataset/fire_images/fire.265.png',\n",
              " 'fire_dataset/fire_images/fire.312.png',\n",
              " 'fire_dataset/fire_images/fire.93.png',\n",
              " 'fire_dataset/fire_images/fire.600.png',\n",
              " 'fire_dataset/fire_images/fire.244.png',\n",
              " 'fire_dataset/fire_images/fire.47.png',\n",
              " 'fire_dataset/fire_images/fire.614.png',\n",
              " 'fire_dataset/fire_images/fire.373.png',\n",
              " 'fire_dataset/fire_images/fire.357.png',\n",
              " 'fire_dataset/fire_images/fire.484.png',\n",
              " 'fire_dataset/fire_images/fire.272.png',\n",
              " 'fire_dataset/fire_images/fire.313.png',\n",
              " 'fire_dataset/fire_images/fire.697.png',\n",
              " 'fire_dataset/fire_images/fire.49.png',\n",
              " 'fire_dataset/fire_images/fire.454.png',\n",
              " 'fire_dataset/fire_images/fire.676.png',\n",
              " 'fire_dataset/fire_images/fire.709.png',\n",
              " 'fire_dataset/fire_images/fire.235.png',\n",
              " 'fire_dataset/fire_images/fire.137.png',\n",
              " 'fire_dataset/fire_images/fire.193.png',\n",
              " 'fire_dataset/fire_images/fire.288.png',\n",
              " 'fire_dataset/fire_images/fire.71.png',\n",
              " 'fire_dataset/fire_images/fire.546.png',\n",
              " 'fire_dataset/fire_images/fire.735.png',\n",
              " 'fire_dataset/fire_images/fire.712.png',\n",
              " 'fire_dataset/fire_images/fire.620.png',\n",
              " 'fire_dataset/fire_images/fire.168.png',\n",
              " 'fire_dataset/fire_images/fire.255.png',\n",
              " 'fire_dataset/fire_images/fire.427.png',\n",
              " 'fire_dataset/fire_images/fire.389.png',\n",
              " 'fire_dataset/fire_images/fire.374.png',\n",
              " 'fire_dataset/fire_images/fire.329.png',\n",
              " 'fire_dataset/fire_images/fire.551.png',\n",
              " 'fire_dataset/fire_images/fire.607.png',\n",
              " 'fire_dataset/fire_images/fire.566.png',\n",
              " 'fire_dataset/fire_images/fire.196.png',\n",
              " 'fire_dataset/fire_images/fire.437.png',\n",
              " 'fire_dataset/fire_images/fire.198.png',\n",
              " 'fire_dataset/fire_images/fire.727.png',\n",
              " 'fire_dataset/fire_images/fire.149.png',\n",
              " 'fire_dataset/fire_images/fire.276.png',\n",
              " 'fire_dataset/fire_images/fire.491.png',\n",
              " 'fire_dataset/fire_images/fire.548.png',\n",
              " 'fire_dataset/fire_images/fire.707.png',\n",
              " 'fire_dataset/fire_images/fire.2.png',\n",
              " 'fire_dataset/fire_images/fire.126.png',\n",
              " 'fire_dataset/fire_images/fire.716.png',\n",
              " 'fire_dataset/fire_images/fire.338.png',\n",
              " 'fire_dataset/fire_images/fire.376.png',\n",
              " 'fire_dataset/fire_images/fire.67.png',\n",
              " 'fire_dataset/fire_images/fire.180.png',\n",
              " 'fire_dataset/fire_images/fire.392.png',\n",
              " 'fire_dataset/fire_images/fire.6.png',\n",
              " 'fire_dataset/fire_images/fire.295.png',\n",
              " 'fire_dataset/fire_images/fire.541.png',\n",
              " 'fire_dataset/fire_images/fire.420.png',\n",
              " 'fire_dataset/fire_images/fire.428.png',\n",
              " 'fire_dataset/fire_images/fire.680.png',\n",
              " 'fire_dataset/fire_images/fire.390.png',\n",
              " 'fire_dataset/fire_images/fire.440.png',\n",
              " 'fire_dataset/fire_images/fire.68.png',\n",
              " 'fire_dataset/fire_images/fire.425.png',\n",
              " 'fire_dataset/fire_images/fire.452.png',\n",
              " 'fire_dataset/fire_images/fire.668.png',\n",
              " 'fire_dataset/fire_images/fire.50.png',\n",
              " 'fire_dataset/fire_images/fire.503.png',\n",
              " 'fire_dataset/fire_images/fire.261.png',\n",
              " 'fire_dataset/fire_images/fire.720.png',\n",
              " 'fire_dataset/fire_images/fire.647.png',\n",
              " 'fire_dataset/fire_images/fire.186.png',\n",
              " 'fire_dataset/fire_images/fire.325.png',\n",
              " 'fire_dataset/fire_images/fire.132.png',\n",
              " 'fire_dataset/fire_images/fire.230.png',\n",
              " 'fire_dataset/fire_images/fire.48.png',\n",
              " 'fire_dataset/fire_images/fire.179.png',\n",
              " 'fire_dataset/fire_images/fire.738.png',\n",
              " 'fire_dataset/fire_images/fire.423.png',\n",
              " 'fire_dataset/fire_images/fire.155.png',\n",
              " 'fire_dataset/fire_images/fire.653.png',\n",
              " 'fire_dataset/fire_images/fire.426.png',\n",
              " 'fire_dataset/fire_images/fire.400.png',\n",
              " 'fire_dataset/fire_images/fire.384.png',\n",
              " 'fire_dataset/fire_images/fire.628.png',\n",
              " 'fire_dataset/fire_images/fire.682.png',\n",
              " 'fire_dataset/fire_images/fire.579.png',\n",
              " 'fire_dataset/fire_images/fire.677.png',\n",
              " 'fire_dataset/fire_images/fire.466.png',\n",
              " 'fire_dataset/fire_images/fire.336.png',\n",
              " 'fire_dataset/fire_images/fire.704.png',\n",
              " 'fire_dataset/fire_images/fire.349.png',\n",
              " 'fire_dataset/fire_images/fire.333.png',\n",
              " 'fire_dataset/fire_images/fire.321.png',\n",
              " 'fire_dataset/fire_images/fire.78.png',\n",
              " 'fire_dataset/fire_images/fire.467.png',\n",
              " 'fire_dataset/fire_images/fire.247.png',\n",
              " 'fire_dataset/fire_images/fire.35.png',\n",
              " 'fire_dataset/fire_images/fire.665.png',\n",
              " 'fire_dataset/fire_images/fire.260.png',\n",
              " 'fire_dataset/fire_images/fire.354.png',\n",
              " 'fire_dataset/fire_images/fire.539.png',\n",
              " 'fire_dataset/fire_images/fire.69.png',\n",
              " 'fire_dataset/fire_images/fire.593.png',\n",
              " 'fire_dataset/fire_images/fire.481.png',\n",
              " 'fire_dataset/fire_images/fire.29.png',\n",
              " 'fire_dataset/fire_images/fire.480.png',\n",
              " 'fire_dataset/fire_images/fire.412.png',\n",
              " 'fire_dataset/fire_images/fire.127.png',\n",
              " 'fire_dataset/fire_images/fire.567.png',\n",
              " 'fire_dataset/fire_images/fire.547.png',\n",
              " 'fire_dataset/fire_images/fire.208.png',\n",
              " 'fire_dataset/fire_images/fire.359.png',\n",
              " 'fire_dataset/fire_images/fire.599.png',\n",
              " 'fire_dataset/fire_images/fire.287.png',\n",
              " 'fire_dataset/fire_images/fire.243.png',\n",
              " 'fire_dataset/fire_images/fire.391.png',\n",
              " 'fire_dataset/fire_images/fire.678.png',\n",
              " 'fire_dataset/fire_images/fire.134.png',\n",
              " 'fire_dataset/fire_images/fire.212.png',\n",
              " 'fire_dataset/fire_images/fire.263.png',\n",
              " 'fire_dataset/fire_images/fire.339.png',\n",
              " 'fire_dataset/fire_images/fire.388.png',\n",
              " 'fire_dataset/fire_images/fire.639.png',\n",
              " 'fire_dataset/fire_images/fire.211.png',\n",
              " 'fire_dataset/fire_images/fire.144.png',\n",
              " 'fire_dataset/fire_images/fire.310.png',\n",
              " 'fire_dataset/fire_images/fire.375.png',\n",
              " 'fire_dataset/fire_images/fire.675.png',\n",
              " 'fire_dataset/fire_images/fire.259.png',\n",
              " 'fire_dataset/fire_images/fire.436.png',\n",
              " 'fire_dataset/fire_images/fire.185.png',\n",
              " 'fire_dataset/fire_images/fire.90.png',\n",
              " 'fire_dataset/fire_images/fire.62.png',\n",
              " 'fire_dataset/fire_images/fire.305.png',\n",
              " 'fire_dataset/fire_images/fire.92.png',\n",
              " 'fire_dataset/fire_images/fire.136.png',\n",
              " 'fire_dataset/fire_images/fire.662.png',\n",
              " 'fire_dataset/fire_images/fire.189.png',\n",
              " 'fire_dataset/fire_images/fire.140.png',\n",
              " 'fire_dataset/fire_images/fire.542.png',\n",
              " 'fire_dataset/fire_images/fire.248.png',\n",
              " 'fire_dataset/fire_images/fire.192.png',\n",
              " 'fire_dataset/fire_images/fire.44.png',\n",
              " 'fire_dataset/fire_images/fire.61.png',\n",
              " 'fire_dataset/fire_images/fire.46.png',\n",
              " 'fire_dataset/fire_images/fire.118.png',\n",
              " 'fire_dataset/fire_images/fire.589.png',\n",
              " 'fire_dataset/fire_images/fire.215.png',\n",
              " 'fire_dataset/fire_images/fire.201.png',\n",
              " 'fire_dataset/fire_images/fire.36.png',\n",
              " 'fire_dataset/fire_images/fire.250.png',\n",
              " 'fire_dataset/fire_images/fire.109.png',\n",
              " 'fire_dataset/fire_images/fire.22.png',\n",
              " 'fire_dataset/fire_images/fire.101.png',\n",
              " 'fire_dataset/fire_images/fire.529.png',\n",
              " 'fire_dataset/fire_images/fire.300.png',\n",
              " 'fire_dataset/fire_images/fire.258.png',\n",
              " 'fire_dataset/fire_images/fire.565.png',\n",
              " 'fire_dataset/fire_images/fire.476.png',\n",
              " 'fire_dataset/fire_images/fire.410.png',\n",
              " 'fire_dataset/fire_images/fire.457.png',\n",
              " 'fire_dataset/fire_images/fire.578.png',\n",
              " 'fire_dataset/fire_images/fire.455.png',\n",
              " 'fire_dataset/fire_images/fire.224.png',\n",
              " 'fire_dataset/fire_images/fire.521.png',\n",
              " 'fire_dataset/fire_images/fire.74.png',\n",
              " 'fire_dataset/fire_images/fire.142.png',\n",
              " 'fire_dataset/fire_images/fire.610.png',\n",
              " 'fire_dataset/fire_images/fire.95.png',\n",
              " 'fire_dataset/fire_images/fire.723.png',\n",
              " 'fire_dataset/fire_images/fire.25.png',\n",
              " 'fire_dataset/fire_images/fire.504.png',\n",
              " 'fire_dataset/fire_images/fire.597.png',\n",
              " 'fire_dataset/fire_images/fire.747.png',\n",
              " 'fire_dataset/fire_images/fire.223.png',\n",
              " 'fire_dataset/fire_images/fire.158.png',\n",
              " 'fire_dataset/fire_images/fire.438.png',\n",
              " 'fire_dataset/fire_images/fire.43.png',\n",
              " 'fire_dataset/fire_images/fire.187.png',\n",
              " 'fire_dataset/fire_images/fire.416.png',\n",
              " 'fire_dataset/fire_images/fire.534.png',\n",
              " 'fire_dataset/fire_images/fire.623.png',\n",
              " 'fire_dataset/fire_images/fire.221.png',\n",
              " 'fire_dataset/fire_images/fire.431.png',\n",
              " 'fire_dataset/fire_images/fire.449.png',\n",
              " 'fire_dataset/fire_images/fire.135.png',\n",
              " 'fire_dataset/fire_images/fire.366.png',\n",
              " 'fire_dataset/fire_images/fire.460.png',\n",
              " 'fire_dataset/fire_images/fire.482.png',\n",
              " 'fire_dataset/fire_images/fire.537.png',\n",
              " 'fire_dataset/fire_images/fire.553.png',\n",
              " 'fire_dataset/fire_images/fire.748.png',\n",
              " 'fire_dataset/fire_images/fire.188.png',\n",
              " 'fire_dataset/fire_images/fire.317.png',\n",
              " 'fire_dataset/fire_images/fire.651.png',\n",
              " 'fire_dataset/fire_images/fire.422.png',\n",
              " 'fire_dataset/fire_images/fire.555.png',\n",
              " 'fire_dataset/fire_images/fire.246.png',\n",
              " 'fire_dataset/fire_images/fire.672.png',\n",
              " 'fire_dataset/fire_images/fire.177.png',\n",
              " 'fire_dataset/fire_images/fire.407.png',\n",
              " 'fire_dataset/fire_images/fire.732.png',\n",
              " 'fire_dataset/fire_images/fire.64.png',\n",
              " 'fire_dataset/fire_images/fire.752.png',\n",
              " 'fire_dataset/fire_images/fire.368.png',\n",
              " 'fire_dataset/fire_images/fire.755.png',\n",
              " 'fire_dataset/fire_images/fire.280.png',\n",
              " 'fire_dataset/fire_images/fire.60.png',\n",
              " 'fire_dataset/fire_images/fire.341.png',\n",
              " 'fire_dataset/fire_images/fire.717.png',\n",
              " 'fire_dataset/fire_images/fire.637.png',\n",
              " 'fire_dataset/fire_images/fire.552.png',\n",
              " 'fire_dataset/fire_images/fire.570.png',\n",
              " 'fire_dataset/fire_images/fire.530.png',\n",
              " 'fire_dataset/fire_images/fire.97.png',\n",
              " 'fire_dataset/fire_images/fire.518.png',\n",
              " 'fire_dataset/fire_images/fire.8.png',\n",
              " 'fire_dataset/fire_images/fire.479.png',\n",
              " 'fire_dataset/fire_images/fire.549.png',\n",
              " 'fire_dataset/fire_images/fire.658.png',\n",
              " 'fire_dataset/fire_images/fire.226.png',\n",
              " 'fire_dataset/fire_images/fire.686.png',\n",
              " 'fire_dataset/fire_images/fire.340.png',\n",
              " 'fire_dataset/fire_images/fire.147.png',\n",
              " 'fire_dataset/fire_images/fire.239.png',\n",
              " 'fire_dataset/fire_images/fire.741.png',\n",
              " 'fire_dataset/fire_images/fire.111.png',\n",
              " 'fire_dataset/fire_images/fire.751.png',\n",
              " 'fire_dataset/fire_images/fire.463.png',\n",
              " 'fire_dataset/fire_images/fire.568.png',\n",
              " 'fire_dataset/fire_images/fire.558.png',\n",
              " 'fire_dataset/fire_images/fire.371.png',\n",
              " 'fire_dataset/fire_images/fire.417.png',\n",
              " 'fire_dataset/fire_images/fire.451.png',\n",
              " 'fire_dataset/fire_images/fire.575.png',\n",
              " 'fire_dataset/fire_images/fire.742.png',\n",
              " 'fire_dataset/fire_images/fire.72.png',\n",
              " 'fire_dataset/fire_images/fire.116.png',\n",
              " 'fire_dataset/fire_images/fire.102.png',\n",
              " 'fire_dataset/fire_images/fire.151.png',\n",
              " 'fire_dataset/fire_images/fire.571.png',\n",
              " 'fire_dataset/fire_images/fire.240.png',\n",
              " 'fire_dataset/fire_images/fire.538.png',\n",
              " 'fire_dataset/fire_images/fire.616.png',\n",
              " 'fire_dataset/fire_images/fire.603.png',\n",
              " 'fire_dataset/fire_images/fire.435.png',\n",
              " 'fire_dataset/fire_images/fire.737.png',\n",
              " 'fire_dataset/fire_images/fire.645.png',\n",
              " 'fire_dataset/fire_images/fire.343.png',\n",
              " 'fire_dataset/fire_images/fire.445.png',\n",
              " 'fire_dataset/fire_images/fire.84.png',\n",
              " 'fire_dataset/fire_images/fire.309.png',\n",
              " 'fire_dataset/fire_images/fire.176.png',\n",
              " 'fire_dataset/fire_images/fire.399.png',\n",
              " 'fire_dataset/fire_images/fire.448.png',\n",
              " 'fire_dataset/fire_images/fire.275.png',\n",
              " 'fire_dataset/fire_images/fire.304.png',\n",
              " 'fire_dataset/fire_images/fire.282.png',\n",
              " 'fire_dataset/fire_images/fire.500.png',\n",
              " 'fire_dataset/fire_images/fire.524.png',\n",
              " 'fire_dataset/fire_images/fire.184.png',\n",
              " 'fire_dataset/fire_images/fire.285.png',\n",
              " 'fire_dataset/fire_images/fire.634.png',\n",
              " 'fire_dataset/fire_images/fire.674.png',\n",
              " 'fire_dataset/fire_images/fire.696.png',\n",
              " 'fire_dataset/fire_images/fire.82.png',\n",
              " 'fire_dataset/fire_images/fire.81.png',\n",
              " 'fire_dataset/fire_images/fire.397.png',\n",
              " 'fire_dataset/fire_images/fire.183.png',\n",
              " 'fire_dataset/fire_images/fire.516.png',\n",
              " 'fire_dataset/fire_images/fire.160.png',\n",
              " 'fire_dataset/fire_images/fire.355.png',\n",
              " 'fire_dataset/fire_images/fire.419.png',\n",
              " 'fire_dataset/fire_images/fire.337.png',\n",
              " 'fire_dataset/fire_images/fire.472.png',\n",
              " 'fire_dataset/fire_images/fire.659.png',\n",
              " 'fire_dataset/fire_images/fire.754.png',\n",
              " 'fire_dataset/fire_images/fire.694.png',\n",
              " 'fire_dataset/fire_images/fire.736.png',\n",
              " 'fire_dataset/fire_images/fire.218.png',\n",
              " 'fire_dataset/fire_images/fire.636.png',\n",
              " 'fire_dataset/fire_images/fire.487.png',\n",
              " 'fire_dataset/fire_images/fire.630.png',\n",
              " 'fire_dataset/fire_images/fire.625.png',\n",
              " 'fire_dataset/fire_images/fire.56.png',\n",
              " 'fire_dataset/fire_images/fire.236.png',\n",
              " 'fire_dataset/fire_images/fire.574.png',\n",
              " 'fire_dataset/fire_images/fire.746.png',\n",
              " 'fire_dataset/fire_images/fire.413.png',\n",
              " 'fire_dataset/fire_images/fire.65.png',\n",
              " 'fire_dataset/fire_images/fire.660.png',\n",
              " 'fire_dataset/fire_images/fire.421.png',\n",
              " 'fire_dataset/fire_images/fire.130.png',\n",
              " 'fire_dataset/fire_images/fire.91.png',\n",
              " 'fire_dataset/fire_images/fire.557.png',\n",
              " 'fire_dataset/fire_images/fire.395.png',\n",
              " 'fire_dataset/fire_images/fire.520.png',\n",
              " 'fire_dataset/fire_images/fire.369.png',\n",
              " 'fire_dataset/fire_images/fire.99.png',\n",
              " 'fire_dataset/fire_images/fire.526.png',\n",
              " 'fire_dataset/fire_images/fire.89.png',\n",
              " 'fire_dataset/fire_images/fire.170.png',\n",
              " 'fire_dataset/fire_images/fire.1.png',\n",
              " 'fire_dataset/fire_images/fire.434.png',\n",
              " 'fire_dataset/fire_images/fire.473.png',\n",
              " 'fire_dataset/fire_images/fire.86.png',\n",
              " 'fire_dataset/fire_images/fire.9.png',\n",
              " 'fire_dataset/fire_images/fire.328.png',\n",
              " 'fire_dataset/fire_images/fire.120.png',\n",
              " 'fire_dataset/fire_images/fire.621.png',\n",
              " 'fire_dataset/fire_images/fire.31.png',\n",
              " 'fire_dataset/fire_images/fire.335.png',\n",
              " 'fire_dataset/fire_images/fire.199.png',\n",
              " 'fire_dataset/fire_images/fire.346.png',\n",
              " 'fire_dataset/fire_images/fire.564.png',\n",
              " 'fire_dataset/fire_images/fire.505.png',\n",
              " 'fire_dataset/fire_images/fire.718.png',\n",
              " 'fire_dataset/fire_images/fire.731.png',\n",
              " 'fire_dataset/fire_images/fire.402.png',\n",
              " 'fire_dataset/fire_images/fire.684.png',\n",
              " 'fire_dataset/fire_images/fire.586.png',\n",
              " 'fire_dataset/fire_images/fire.617.png',\n",
              " 'fire_dataset/fire_images/fire.146.png',\n",
              " 'fire_dataset/fire_images/fire.38.png',\n",
              " 'fire_dataset/fire_images/fire.631.png',\n",
              " 'fire_dataset/fire_images/fire.492.png',\n",
              " 'fire_dataset/fire_images/fire.681.png',\n",
              " 'fire_dataset/fire_images/fire.594.png',\n",
              " 'fire_dataset/fire_images/fire.725.png',\n",
              " 'fire_dataset/fire_images/fire.229.png',\n",
              " 'fire_dataset/fire_images/fire.24.png',\n",
              " 'fire_dataset/fire_images/fire.51.png',\n",
              " 'fire_dataset/fire_images/fire.294.png',\n",
              " 'fire_dataset/fire_images/fire.465.png',\n",
              " 'fire_dataset/fire_images/fire.228.png',\n",
              " 'fire_dataset/fire_images/fire.406.png',\n",
              " 'fire_dataset/fire_images/fire.456.png',\n",
              " 'fire_dataset/fire_images/fire.128.png',\n",
              " 'fire_dataset/fire_images/fire.292.png',\n",
              " 'fire_dataset/fire_images/fire.513.png',\n",
              " 'fire_dataset/fire_images/fire.398.png',\n",
              " 'fire_dataset/fire_images/fire.543.png',\n",
              " 'fire_dataset/fire_images/fire.16.png',\n",
              " 'fire_dataset/fire_images/fire.7.png',\n",
              " 'fire_dataset/fire_images/fire.264.png',\n",
              " 'fire_dataset/fire_images/fire.252.png',\n",
              " 'fire_dataset/fire_images/fire.688.png',\n",
              " 'fire_dataset/fire_images/fire.385.png',\n",
              " 'fire_dataset/fire_images/fire.663.png',\n",
              " 'fire_dataset/fire_images/fire.227.png',\n",
              " 'fire_dataset/fire_images/fire.527.png',\n",
              " 'fire_dataset/fire_images/fire.76.png',\n",
              " 'fire_dataset/fire_images/fire.624.png',\n",
              " 'fire_dataset/fire_images/fire.689.png',\n",
              " 'fire_dataset/fire_images/fire.495.png',\n",
              " 'fire_dataset/fire_images/fire.556.png',\n",
              " 'fire_dataset/fire_images/fire.394.png',\n",
              " 'fire_dataset/fire_images/fire.750.png',\n",
              " 'fire_dataset/fire_images/fire.108.png',\n",
              " 'fire_dataset/fire_images/fire.393.png',\n",
              " 'fire_dataset/fire_images/fire.740.png',\n",
              " 'fire_dataset/fire_images/fire.302.png',\n",
              " 'fire_dataset/fire_images/fire.10.png',\n",
              " 'fire_dataset/fire_images/fire.319.png',\n",
              " 'fire_dataset/fire_images/fire.104.png',\n",
              " 'fire_dataset/fire_images/fire.281.png',\n",
              " 'fire_dataset/fire_images/fire.713.png',\n",
              " 'fire_dataset/fire_images/fire.41.png',\n",
              " 'fire_dataset/fire_images/fire.367.png',\n",
              " 'fire_dataset/fire_images/fire.383.png',\n",
              " 'fire_dataset/fire_images/fire.117.png',\n",
              " 'fire_dataset/fire_images/fire.561.png',\n",
              " 'fire_dataset/fire_images/fire.444.png',\n",
              " 'fire_dataset/fire_images/fire.701.png',\n",
              " 'fire_dataset/fire_images/fire.562.png',\n",
              " 'fire_dataset/fire_images/fire.559.png',\n",
              " 'fire_dataset/fire_images/fire.544.png',\n",
              " 'fire_dataset/fire_images/fire.657.png',\n",
              " 'fire_dataset/fire_images/fire.269.png',\n",
              " 'fire_dataset/fire_images/fire.650.png',\n",
              " 'fire_dataset/fire_images/fire.703.png',\n",
              " 'fire_dataset/fire_images/fire.683.png',\n",
              " 'fire_dataset/fire_images/fire.691.png',\n",
              " 'fire_dataset/fire_images/fire.386.png',\n",
              " 'fire_dataset/fire_images/fire.55.png',\n",
              " 'fire_dataset/fire_images/fire.162.png',\n",
              " 'fire_dataset/fire_images/fire.356.png',\n",
              " 'fire_dataset/fire_images/fire.592.png',\n",
              " 'fire_dataset/fire_images/fire.266.png',\n",
              " 'fire_dataset/fire_images/fire.138.png',\n",
              " 'fire_dataset/fire_images/fire.204.png',\n",
              " 'fire_dataset/fire_images/fire.649.png',\n",
              " 'fire_dataset/fire_images/fire.318.png',\n",
              " 'fire_dataset/fire_images/fire.724.png',\n",
              " 'fire_dataset/fire_images/fire.378.png',\n",
              " 'fire_dataset/fire_images/fire.477.png',\n",
              " 'fire_dataset/fire_images/fire.545.png',\n",
              " 'fire_dataset/fire_images/fire.79.png',\n",
              " 'fire_dataset/fire_images/fire.268.png',\n",
              " 'fire_dataset/fire_images/fire.509.png',\n",
              " 'fire_dataset/fire_images/fire.153.png',\n",
              " 'fire_dataset/fire_images/fire.39.png',\n",
              " 'fire_dataset/fire_images/fire.652.png',\n",
              " 'fire_dataset/fire_images/fire.687.png',\n",
              " 'fire_dataset/fire_images/fire.270.png',\n",
              " 'fire_dataset/fire_images/fire.409.png',\n",
              " 'fire_dataset/fire_images/fire.34.png',\n",
              " 'fire_dataset/fire_images/fire.715.png',\n",
              " 'fire_dataset/fire_images/fire.152.png',\n",
              " 'fire_dataset/fire_images/fire.745.png',\n",
              " 'fire_dataset/fire_images/fire.351.png',\n",
              " 'fire_dataset/fire_images/fire.535.png',\n",
              " 'fire_dataset/fire_images/fire.411.png',\n",
              " 'fire_dataset/fire_images/fire.233.png',\n",
              " 'fire_dataset/fire_images/fire.203.png',\n",
              " 'fire_dataset/fire_images/fire.19.png',\n",
              " 'fire_dataset/fire_images/fire.17.png',\n",
              " 'fire_dataset/fire_images/fire.613.png',\n",
              " 'fire_dataset/fire_images/fire.348.png',\n",
              " 'fire_dataset/fire_images/fire.708.png']"
            ]
          },
          "metadata": {},
          "execution_count": 5
        }
      ]
    },
    {
      "cell_type": "code",
      "metadata": {
        "execution": {
          "iopub.status.busy": "2021-06-19T10:28:48.256705Z",
          "iopub.execute_input": "2021-06-19T10:28:48.257158Z",
          "iopub.status.idle": "2021-06-19T10:28:48.267031Z",
          "shell.execute_reply.started": "2021-06-19T10:28:48.257117Z",
          "shell.execute_reply": "2021-06-19T10:28:48.265956Z"
        },
        "trusted": true,
        "id": "7LCibkHRpffD"
      },
      "source": [
        "fire_df = []\n",
        "non_fire_df = []\n",
        "for i in fire_dir:\n",
        "    fire_df.append([i,'fire'])\n",
        "for j in non_fire_dir:\n",
        "    non_fire_df.append([j,'non-fire'])\n",
        "df = fire_df + non_fire_df\n",
        "random.shuffle(df)"
      ],
      "execution_count": 6,
      "outputs": []
    },
    {
      "cell_type": "code",
      "metadata": {
        "id": "i1yYmXg11z4-",
        "colab": {
          "base_uri": "https://localhost:8080/"
        },
        "outputId": "1ecda9d8-8c39-45b6-ba52-8cdb452ec07a"
      },
      "source": [
        "print (df)"
      ],
      "execution_count": 7,
      "outputs": [
        {
          "output_type": "stream",
          "name": "stdout",
          "text": [
            "[['fire_dataset/non_fire_images/non_fire.195.png', 'non-fire'], ['fire_dataset/fire_images/fire.755.png', 'fire'], ['fire_dataset/fire_images/fire.249.png', 'fire'], ['fire_dataset/fire_images/fire.590.png', 'fire'], ['fire_dataset/fire_images/fire.289.png', 'fire'], ['fire_dataset/non_fire_images/non_fire.107.png', 'non-fire'], ['fire_dataset/fire_images/fire.359.png', 'fire'], ['fire_dataset/fire_images/fire.56.png', 'fire'], ['fire_dataset/fire_images/fire.694.png', 'fire'], ['fire_dataset/fire_images/fire.111.png', 'fire'], ['fire_dataset/non_fire_images/non_fire.100.png', 'non-fire'], ['fire_dataset/fire_images/fire.573.png', 'fire'], ['fire_dataset/fire_images/fire.43.png', 'fire'], ['fire_dataset/fire_images/fire.714.png', 'fire'], ['fire_dataset/fire_images/fire.544.png', 'fire'], ['fire_dataset/non_fire_images/non_fire.70.png', 'non-fire'], ['fire_dataset/non_fire_images/non_fire.176.png', 'non-fire'], ['fire_dataset/non_fire_images/non_fire.106.png', 'non-fire'], ['fire_dataset/fire_images/fire.734.png', 'fire'], ['fire_dataset/fire_images/fire.745.png', 'fire'], ['fire_dataset/non_fire_images/non_fire.183.png', 'non-fire'], ['fire_dataset/fire_images/fire.117.png', 'fire'], ['fire_dataset/fire_images/fire.609.png', 'fire'], ['fire_dataset/fire_images/fire.392.png', 'fire'], ['fire_dataset/fire_images/fire.73.png', 'fire'], ['fire_dataset/fire_images/fire.314.png', 'fire'], ['fire_dataset/fire_images/fire.642.png', 'fire'], ['fire_dataset/fire_images/fire.689.png', 'fire'], ['fire_dataset/fire_images/fire.579.png', 'fire'], ['fire_dataset/fire_images/fire.13.png', 'fire'], ['fire_dataset/fire_images/fire.566.png', 'fire'], ['fire_dataset/fire_images/fire.139.png', 'fire'], ['fire_dataset/fire_images/fire.541.png', 'fire'], ['fire_dataset/fire_images/fire.431.png', 'fire'], ['fire_dataset/fire_images/fire.163.png', 'fire'], ['fire_dataset/non_fire_images/non_fire.109.png', 'non-fire'], ['fire_dataset/non_fire_images/non_fire.138.png', 'non-fire'], ['fire_dataset/non_fire_images/non_fire.50.png', 'non-fire'], ['fire_dataset/non_fire_images/non_fire.34.png', 'non-fire'], ['fire_dataset/fire_images/fire.325.png', 'fire'], ['fire_dataset/non_fire_images/non_fire.227.png', 'non-fire'], ['fire_dataset/fire_images/fire.160.png', 'fire'], ['fire_dataset/fire_images/fire.352.png', 'fire'], ['fire_dataset/non_fire_images/non_fire.122.png', 'non-fire'], ['fire_dataset/non_fire_images/non_fire.7.png', 'non-fire'], ['fire_dataset/non_fire_images/non_fire.131.png', 'non-fire'], ['fire_dataset/non_fire_images/non_fire.152.png', 'non-fire'], ['fire_dataset/fire_images/fire.385.png', 'fire'], ['fire_dataset/fire_images/fire.631.png', 'fire'], ['fire_dataset/fire_images/fire.145.png', 'fire'], ['fire_dataset/non_fire_images/non_fire.200.png', 'non-fire'], ['fire_dataset/fire_images/fire.229.png', 'fire'], ['fire_dataset/fire_images/fire.589.png', 'fire'], ['fire_dataset/fire_images/fire.381.png', 'fire'], ['fire_dataset/fire_images/fire.357.png', 'fire'], ['fire_dataset/non_fire_images/non_fire.117.png', 'non-fire'], ['fire_dataset/fire_images/fire.144.png', 'fire'], ['fire_dataset/non_fire_images/non_fire.54.png', 'non-fire'], ['fire_dataset/fire_images/fire.84.png', 'fire'], ['fire_dataset/non_fire_images/non_fire.178.png', 'non-fire'], ['fire_dataset/non_fire_images/non_fire.95.png', 'non-fire'], ['fire_dataset/non_fire_images/non_fire.128.png', 'non-fire'], ['fire_dataset/non_fire_images/non_fire.25.png', 'non-fire'], ['fire_dataset/fire_images/fire.644.png', 'fire'], ['fire_dataset/non_fire_images/non_fire.35.png', 'non-fire'], ['fire_dataset/fire_images/fire.90.png', 'fire'], ['fire_dataset/fire_images/fire.316.png', 'fire'], ['fire_dataset/non_fire_images/non_fire.77.png', 'non-fire'], ['fire_dataset/fire_images/fire.446.png', 'fire'], ['fire_dataset/fire_images/fire.358.png', 'fire'], ['fire_dataset/fire_images/fire.303.png', 'fire'], ['fire_dataset/non_fire_images/non_fire.198.png', 'non-fire'], ['fire_dataset/fire_images/fire.459.png', 'fire'], ['fire_dataset/fire_images/fire.213.png', 'fire'], ['fire_dataset/fire_images/fire.181.png', 'fire'], ['fire_dataset/fire_images/fire.693.png', 'fire'], ['fire_dataset/non_fire_images/non_fire.222.png', 'non-fire'], ['fire_dataset/fire_images/fire.377.png', 'fire'], ['fire_dataset/fire_images/fire.369.png', 'fire'], ['fire_dataset/fire_images/fire.605.png', 'fire'], ['fire_dataset/fire_images/fire.110.png', 'fire'], ['fire_dataset/fire_images/fire.521.png', 'fire'], ['fire_dataset/non_fire_images/non_fire.123.png', 'non-fire'], ['fire_dataset/fire_images/fire.150.png', 'fire'], ['fire_dataset/fire_images/fire.624.png', 'fire'], ['fire_dataset/fire_images/fire.21.png', 'fire'], ['fire_dataset/fire_images/fire.247.png', 'fire'], ['fire_dataset/fire_images/fire.732.png', 'fire'], ['fire_dataset/fire_images/fire.502.png', 'fire'], ['fire_dataset/fire_images/fire.543.png', 'fire'], ['fire_dataset/fire_images/fire.436.png', 'fire'], ['fire_dataset/fire_images/fire.440.png', 'fire'], ['fire_dataset/fire_images/fire.413.png', 'fire'], ['fire_dataset/fire_images/fire.646.png', 'fire'], ['fire_dataset/non_fire_images/non_fire.153.png', 'non-fire'], ['fire_dataset/non_fire_images/non_fire.240.png', 'non-fire'], ['fire_dataset/fire_images/fire.143.png', 'fire'], ['fire_dataset/fire_images/fire.723.png', 'fire'], ['fire_dataset/fire_images/fire.615.png', 'fire'], ['fire_dataset/fire_images/fire.251.png', 'fire'], ['fire_dataset/fire_images/fire.85.png', 'fire'], ['fire_dataset/fire_images/fire.557.png', 'fire'], ['fire_dataset/fire_images/fire.74.png', 'fire'], ['fire_dataset/fire_images/fire.701.png', 'fire'], ['fire_dataset/fire_images/fire.753.png', 'fire'], ['fire_dataset/fire_images/fire.82.png', 'fire'], ['fire_dataset/fire_images/fire.633.png', 'fire'], ['fire_dataset/fire_images/fire.709.png', 'fire'], ['fire_dataset/fire_images/fire.621.png', 'fire'], ['fire_dataset/non_fire_images/non_fire.67.png', 'non-fire'], ['fire_dataset/fire_images/fire.737.png', 'fire'], ['fire_dataset/non_fire_images/non_fire.216.png', 'non-fire'], ['fire_dataset/fire_images/fire.220.png', 'fire'], ['fire_dataset/fire_images/fire.350.png', 'fire'], ['fire_dataset/non_fire_images/non_fire.154.png', 'non-fire'], ['fire_dataset/fire_images/fire.597.png', 'fire'], ['fire_dataset/fire_images/fire.507.png', 'fire'], ['fire_dataset/fire_images/fire.212.png', 'fire'], ['fire_dataset/fire_images/fire.319.png', 'fire'], ['fire_dataset/non_fire_images/non_fire.148.png', 'non-fire'], ['fire_dataset/fire_images/fire.136.png', 'fire'], ['fire_dataset/non_fire_images/non_fire.6.png', 'non-fire'], ['fire_dataset/fire_images/fire.427.png', 'fire'], ['fire_dataset/fire_images/fire.680.png', 'fire'], ['fire_dataset/non_fire_images/non_fire.76.png', 'non-fire'], ['fire_dataset/fire_images/fire.718.png', 'fire'], ['fire_dataset/fire_images/fire.18.png', 'fire'], ['fire_dataset/fire_images/fire.248.png', 'fire'], ['fire_dataset/fire_images/fire.520.png', 'fire'], ['fire_dataset/fire_images/fire.60.png', 'fire'], ['fire_dataset/fire_images/fire.716.png', 'fire'], ['fire_dataset/fire_images/fire.378.png', 'fire'], ['fire_dataset/fire_images/fire.184.png', 'fire'], ['fire_dataset/fire_images/fire.715.png', 'fire'], ['fire_dataset/fire_images/fire.482.png', 'fire'], ['fire_dataset/fire_images/fire.224.png', 'fire'], ['fire_dataset/fire_images/fire.365.png', 'fire'], ['fire_dataset/fire_images/fire.332.png', 'fire'], ['fire_dataset/non_fire_images/non_fire.199.png', 'non-fire'], ['fire_dataset/fire_images/fire.389.png', 'fire'], ['fire_dataset/non_fire_images/non_fire.205.png', 'non-fire'], ['fire_dataset/non_fire_images/non_fire.170.png', 'non-fire'], ['fire_dataset/fire_images/fire.339.png', 'fire'], ['fire_dataset/fire_images/fire.382.png', 'fire'], ['fire_dataset/fire_images/fire.438.png', 'fire'], ['fire_dataset/non_fire_images/non_fire.85.png', 'non-fire'], ['fire_dataset/fire_images/fire.291.png', 'fire'], ['fire_dataset/fire_images/fire.36.png', 'fire'], ['fire_dataset/fire_images/fire.387.png', 'fire'], ['fire_dataset/non_fire_images/non_fire.210.png', 'non-fire'], ['fire_dataset/fire_images/fire.635.png', 'fire'], ['fire_dataset/fire_images/fire.669.png', 'fire'], ['fire_dataset/fire_images/fire.109.png', 'fire'], ['fire_dataset/fire_images/fire.679.png', 'fire'], ['fire_dataset/fire_images/fire.300.png', 'fire'], ['fire_dataset/non_fire_images/non_fire.32.png', 'non-fire'], ['fire_dataset/fire_images/fire.257.png', 'fire'], ['fire_dataset/fire_images/fire.225.png', 'fire'], ['fire_dataset/fire_images/fire.399.png', 'fire'], ['fire_dataset/non_fire_images/non_fire.234.png', 'non-fire'], ['fire_dataset/fire_images/fire.487.png', 'fire'], ['fire_dataset/fire_images/fire.115.png', 'fire'], ['fire_dataset/fire_images/fire.555.png', 'fire'], ['fire_dataset/fire_images/fire.312.png', 'fire'], ['fire_dataset/fire_images/fire.330.png', 'fire'], ['fire_dataset/non_fire_images/non_fire.232.png', 'non-fire'], ['fire_dataset/fire_images/fire.297.png', 'fire'], ['fire_dataset/fire_images/fire.204.png', 'fire'], ['fire_dataset/fire_images/fire.34.png', 'fire'], ['fire_dataset/fire_images/fire.719.png', 'fire'], ['fire_dataset/fire_images/fire.55.png', 'fire'], ['fire_dataset/fire_images/fire.324.png', 'fire'], ['fire_dataset/fire_images/fire.278.png', 'fire'], ['fire_dataset/fire_images/fire.464.png', 'fire'], ['fire_dataset/fire_images/fire.20.png', 'fire'], ['fire_dataset/fire_images/fire.391.png', 'fire'], ['fire_dataset/fire_images/fire.429.png', 'fire'], ['fire_dataset/fire_images/fire.690.png', 'fire'], ['fire_dataset/fire_images/fire.30.png', 'fire'], ['fire_dataset/fire_images/fire.87.png', 'fire'], ['fire_dataset/fire_images/fire.533.png', 'fire'], ['fire_dataset/non_fire_images/non_fire.38.png', 'non-fire'], ['fire_dataset/non_fire_images/non_fire.2.png', 'non-fire'], ['fire_dataset/fire_images/fire.493.png', 'fire'], ['fire_dataset/fire_images/fire.725.png', 'fire'], ['fire_dataset/fire_images/fire.342.png', 'fire'], ['fire_dataset/fire_images/fire.748.png', 'fire'], ['fire_dataset/non_fire_images/non_fire.92.png', 'non-fire'], ['fire_dataset/fire_images/fire.318.png', 'fire'], ['fire_dataset/fire_images/fire.28.png', 'fire'], ['fire_dataset/fire_images/fire.141.png', 'fire'], ['fire_dataset/fire_images/fire.620.png', 'fire'], ['fire_dataset/fire_images/fire.559.png', 'fire'], ['fire_dataset/fire_images/fire.416.png', 'fire'], ['fire_dataset/fire_images/fire.206.png', 'fire'], ['fire_dataset/fire_images/fire.245.png', 'fire'], ['fire_dataset/fire_images/fire.550.png', 'fire'], ['fire_dataset/fire_images/fire.403.png', 'fire'], ['fire_dataset/non_fire_images/non_fire.212.png', 'non-fire'], ['fire_dataset/fire_images/fire.534.png', 'fire'], ['fire_dataset/fire_images/fire.263.png', 'fire'], ['fire_dataset/non_fire_images/non_fire.8.png', 'non-fire'], ['fire_dataset/non_fire_images/non_fire.11.png', 'non-fire'], ['fire_dataset/non_fire_images/non_fire.189.png', 'non-fire'], ['fire_dataset/non_fire_images/non_fire.188.png', 'non-fire'], ['fire_dataset/fire_images/fire.530.png', 'fire'], ['fire_dataset/fire_images/fire.546.png', 'fire'], ['fire_dataset/fire_images/fire.567.png', 'fire'], ['fire_dataset/non_fire_images/non_fire.157.png', 'non-fire'], ['fire_dataset/non_fire_images/non_fire.241.png', 'non-fire'], ['fire_dataset/fire_images/fire.348.png', 'fire'], ['fire_dataset/fire_images/fire.668.png', 'fire'], ['fire_dataset/fire_images/fire.5.png', 'fire'], ['fire_dataset/fire_images/fire.581.png', 'fire'], ['fire_dataset/fire_images/fire.157.png', 'fire'], ['fire_dataset/non_fire_images/non_fire.4.png', 'non-fire'], ['fire_dataset/fire_images/fire.637.png', 'fire'], ['fire_dataset/fire_images/fire.648.png', 'fire'], ['fire_dataset/fire_images/fire.335.png', 'fire'], ['fire_dataset/fire_images/fire.167.png', 'fire'], ['fire_dataset/fire_images/fire.40.png', 'fire'], ['fire_dataset/fire_images/fire.12.png', 'fire'], ['fire_dataset/fire_images/fire.594.png', 'fire'], ['fire_dataset/non_fire_images/non_fire.13.png', 'non-fire'], ['fire_dataset/fire_images/fire.401.png', 'fire'], ['fire_dataset/non_fire_images/non_fire.20.png', 'non-fire'], ['fire_dataset/fire_images/fire.539.png', 'fire'], ['fire_dataset/fire_images/fire.159.png', 'fire'], ['fire_dataset/fire_images/fire.480.png', 'fire'], ['fire_dataset/fire_images/fire.395.png', 'fire'], ['fire_dataset/fire_images/fire.349.png', 'fire'], ['fire_dataset/non_fire_images/non_fire.103.png', 'non-fire'], ['fire_dataset/non_fire_images/non_fire.233.png', 'non-fire'], ['fire_dataset/fire_images/fire.7.png', 'fire'], ['fire_dataset/fire_images/fire.424.png', 'fire'], ['fire_dataset/non_fire_images/non_fire.75.png', 'non-fire'], ['fire_dataset/fire_images/fire.726.png', 'fire'], ['fire_dataset/fire_images/fire.244.png', 'fire'], ['fire_dataset/fire_images/fire.8.png', 'fire'], ['fire_dataset/fire_images/fire.478.png', 'fire'], ['fire_dataset/fire_images/fire.222.png', 'fire'], ['fire_dataset/non_fire_images/non_fire.88.png', 'non-fire'], ['fire_dataset/non_fire_images/non_fire.173.png', 'non-fire'], ['fire_dataset/fire_images/fire.103.png', 'fire'], ['fire_dataset/fire_images/fire.518.png', 'fire'], ['fire_dataset/fire_images/fire.549.png', 'fire'], ['fire_dataset/fire_images/fire.656.png', 'fire'], ['fire_dataset/non_fire_images/non_fire.142.png', 'non-fire'], ['fire_dataset/fire_images/fire.537.png', 'fire'], ['fire_dataset/fire_images/fire.593.png', 'fire'], ['fire_dataset/fire_images/fire.545.png', 'fire'], ['fire_dataset/fire_images/fire.69.png', 'fire'], ['fire_dataset/fire_images/fire.564.png', 'fire'], ['fire_dataset/fire_images/fire.728.png', 'fire'], ['fire_dataset/fire_images/fire.169.png', 'fire'], ['fire_dataset/fire_images/fire.223.png', 'fire'], ['fire_dataset/fire_images/fire.116.png', 'fire'], ['fire_dataset/fire_images/fire.683.png', 'fire'], ['fire_dataset/fire_images/fire.422.png', 'fire'], ['fire_dataset/fire_images/fire.50.png', 'fire'], ['fire_dataset/non_fire_images/non_fire.101.png', 'non-fire'], ['fire_dataset/fire_images/fire.712.png', 'fire'], ['fire_dataset/non_fire_images/non_fire.132.png', 'non-fire'], ['fire_dataset/fire_images/fire.356.png', 'fire'], ['fire_dataset/fire_images/fire.443.png', 'fire'], ['fire_dataset/fire_images/fire.353.png', 'fire'], ['fire_dataset/fire_images/fire.713.png', 'fire'], ['fire_dataset/fire_images/fire.308.png', 'fire'], ['fire_dataset/non_fire_images/non_fire.18.png', 'non-fire'], ['fire_dataset/non_fire_images/non_fire.52.png', 'non-fire'], ['fire_dataset/fire_images/fire.607.png', 'fire'], ['fire_dataset/non_fire_images/non_fire.1.png', 'non-fire'], ['fire_dataset/fire_images/fire.274.png', 'fire'], ['fire_dataset/fire_images/fire.560.png', 'fire'], ['fire_dataset/fire_images/fire.501.png', 'fire'], ['fire_dataset/non_fire_images/non_fire.181.png', 'non-fire'], ['fire_dataset/fire_images/fire.525.png', 'fire'], ['fire_dataset/fire_images/fire.462.png', 'fire'], ['fire_dataset/fire_images/fire.38.png', 'fire'], ['fire_dataset/non_fire_images/non_fire.125.png', 'non-fire'], ['fire_dataset/fire_images/fire.108.png', 'fire'], ['fire_dataset/fire_images/fire.435.png', 'fire'], ['fire_dataset/fire_images/fire.355.png', 'fire'], ['fire_dataset/fire_images/fire.299.png', 'fire'], ['fire_dataset/non_fire_images/non_fire.91.png', 'non-fire'], ['fire_dataset/non_fire_images/non_fire.219.png', 'non-fire'], ['fire_dataset/non_fire_images/non_fire.158.png', 'non-fire'], ['fire_dataset/fire_images/fire.558.png', 'fire'], ['fire_dataset/fire_images/fire.396.png', 'fire'], ['fire_dataset/fire_images/fire.25.png', 'fire'], ['fire_dataset/fire_images/fire.414.png', 'fire'], ['fire_dataset/non_fire_images/non_fire.45.png', 'non-fire'], ['fire_dataset/non_fire_images/non_fire.115.png', 'non-fire'], ['fire_dataset/fire_images/fire.643.png', 'fire'], ['fire_dataset/fire_images/fire.301.png', 'fire'], ['fire_dataset/non_fire_images/non_fire.36.png', 'non-fire'], ['fire_dataset/fire_images/fire.79.png', 'fire'], ['fire_dataset/fire_images/fire.449.png', 'fire'], ['fire_dataset/non_fire_images/non_fire.9.png', 'non-fire'], ['fire_dataset/fire_images/fire.252.png', 'fire'], ['fire_dataset/fire_images/fire.613.png', 'fire'], ['fire_dataset/fire_images/fire.700.png', 'fire'], ['fire_dataset/fire_images/fire.343.png', 'fire'], ['fire_dataset/fire_images/fire.404.png', 'fire'], ['fire_dataset/non_fire_images/non_fire.21.png', 'non-fire'], ['fire_dataset/fire_images/fire.329.png', 'fire'], ['fire_dataset/fire_images/fire.277.png', 'fire'], ['fire_dataset/fire_images/fire.302.png', 'fire'], ['fire_dataset/non_fire_images/non_fire.31.png', 'non-fire'], ['fire_dataset/fire_images/fire.486.png', 'fire'], ['fire_dataset/fire_images/fire.78.png', 'fire'], ['fire_dataset/non_fire_images/non_fire.130.png', 'non-fire'], ['fire_dataset/non_fire_images/non_fire.238.png', 'non-fire'], ['fire_dataset/fire_images/fire.516.png', 'fire'], ['fire_dataset/non_fire_images/non_fire.81.png', 'non-fire'], ['fire_dataset/fire_images/fire.130.png', 'fire'], ['fire_dataset/fire_images/fire.3.png', 'fire'], ['fire_dataset/fire_images/fire.708.png', 'fire'], ['fire_dataset/fire_images/fire.750.png', 'fire'], ['fire_dataset/fire_images/fire.666.png', 'fire'], ['fire_dataset/non_fire_images/non_fire.56.png', 'non-fire'], ['fire_dataset/fire_images/fire.580.png', 'fire'], ['fire_dataset/fire_images/fire.411.png', 'fire'], ['fire_dataset/non_fire_images/non_fire.26.png', 'non-fire'], ['fire_dataset/fire_images/fire.540.png', 'fire'], ['fire_dataset/non_fire_images/non_fire.164.png', 'non-fire'], ['fire_dataset/fire_images/fire.367.png', 'fire'], ['fire_dataset/non_fire_images/non_fire.202.png', 'non-fire'], ['fire_dataset/non_fire_images/non_fire.61.png', 'non-fire'], ['fire_dataset/fire_images/fire.670.png', 'fire'], ['fire_dataset/fire_images/fire.259.png', 'fire'], ['fire_dataset/fire_images/fire.503.png', 'fire'], ['fire_dataset/non_fire_images/non_fire.145.png', 'non-fire'], ['fire_dataset/fire_images/fire.752.png', 'fire'], ['fire_dataset/fire_images/fire.736.png', 'fire'], ['fire_dataset/fire_images/fire.121.png', 'fire'], ['fire_dataset/fire_images/fire.233.png', 'fire'], ['fire_dataset/fire_images/fire.390.png', 'fire'], ['fire_dataset/fire_images/fire.298.png', 'fire'], ['fire_dataset/non_fire_images/non_fire.80.png', 'non-fire'], ['fire_dataset/fire_images/fire.364.png', 'fire'], ['fire_dataset/fire_images/fire.210.png', 'fire'], ['fire_dataset/non_fire_images/non_fire.185.png', 'non-fire'], ['fire_dataset/fire_images/fire.270.png', 'fire'], ['fire_dataset/fire_images/fire.311.png', 'fire'], ['fire_dataset/fire_images/fire.483.png', 'fire'], ['fire_dataset/fire_images/fire.721.png', 'fire'], ['fire_dataset/fire_images/fire.598.png', 'fire'], ['fire_dataset/fire_images/fire.437.png', 'fire'], ['fire_dataset/fire_images/fire.426.png', 'fire'], ['fire_dataset/non_fire_images/non_fire.225.png', 'non-fire'], ['fire_dataset/fire_images/fire.722.png', 'fire'], ['fire_dataset/non_fire_images/non_fire.111.png', 'non-fire'], ['fire_dataset/non_fire_images/non_fire.163.png', 'non-fire'], ['fire_dataset/fire_images/fire.133.png', 'fire'], ['fire_dataset/non_fire_images/non_fire.197.png', 'non-fire'], ['fire_dataset/fire_images/fire.406.png', 'fire'], ['fire_dataset/non_fire_images/non_fire.134.png', 'non-fire'], ['fire_dataset/non_fire_images/non_fire.165.png', 'non-fire'], ['fire_dataset/fire_images/fire.320.png', 'fire'], ['fire_dataset/non_fire_images/non_fire.60.png', 'non-fire'], ['fire_dataset/fire_images/fire.236.png', 'fire'], ['fire_dataset/fire_images/fire.22.png', 'fire'], ['fire_dataset/fire_images/fire.510.png', 'fire'], ['fire_dataset/fire_images/fire.409.png', 'fire'], ['fire_dataset/fire_images/fire.588.png', 'fire'], ['fire_dataset/fire_images/fire.433.png', 'fire'], ['fire_dataset/fire_images/fire.584.png', 'fire'], ['fire_dataset/fire_images/fire.95.png', 'fire'], ['fire_dataset/fire_images/fire.405.png', 'fire'], ['fire_dataset/fire_images/fire.571.png', 'fire'], ['fire_dataset/fire_images/fire.362.png', 'fire'], ['fire_dataset/fire_images/fire.717.png', 'fire'], ['fire_dataset/non_fire_images/non_fire.243.png', 'non-fire'], ['fire_dataset/fire_images/fire.640.png', 'fire'], ['fire_dataset/fire_images/fire.193.png', 'fire'], ['fire_dataset/fire_images/fire.528.png', 'fire'], ['fire_dataset/fire_images/fire.127.png', 'fire'], ['fire_dataset/fire_images/fire.386.png', 'fire'], ['fire_dataset/non_fire_images/non_fire.136.png', 'non-fire'], ['fire_dataset/fire_images/fire.49.png', 'fire'], ['fire_dataset/non_fire_images/non_fire.90.png', 'non-fire'], ['fire_dataset/fire_images/fire.35.png', 'fire'], ['fire_dataset/fire_images/fire.125.png', 'fire'], ['fire_dataset/fire_images/fire.2.png', 'fire'], ['fire_dataset/fire_images/fire.59.png', 'fire'], ['fire_dataset/fire_images/fire.625.png', 'fire'], ['fire_dataset/fire_images/fire.491.png', 'fire'], ['fire_dataset/fire_images/fire.174.png', 'fire'], ['fire_dataset/fire_images/fire.489.png', 'fire'], ['fire_dataset/non_fire_images/non_fire.86.png', 'non-fire'], ['fire_dataset/fire_images/fire.749.png', 'fire'], ['fire_dataset/fire_images/fire.57.png', 'fire'], ['fire_dataset/non_fire_images/non_fire.129.png', 'non-fire'], ['fire_dataset/non_fire_images/non_fire.94.png', 'non-fire'], ['fire_dataset/fire_images/fire.601.png', 'fire'], ['fire_dataset/non_fire_images/non_fire.58.png', 'non-fire'], ['fire_dataset/fire_images/fire.11.png', 'fire'], ['fire_dataset/fire_images/fire.439.png', 'fire'], ['fire_dataset/non_fire_images/non_fire.206.png', 'non-fire'], ['fire_dataset/fire_images/fire.659.png', 'fire'], ['fire_dataset/fire_images/fire.451.png', 'fire'], ['fire_dataset/fire_images/fire.408.png', 'fire'], ['fire_dataset/fire_images/fire.606.png', 'fire'], ['fire_dataset/fire_images/fire.273.png', 'fire'], ['fire_dataset/non_fire_images/non_fire.143.png', 'non-fire'], ['fire_dataset/fire_images/fire.305.png', 'fire'], ['fire_dataset/non_fire_images/non_fire.93.png', 'non-fire'], ['fire_dataset/fire_images/fire.177.png', 'fire'], ['fire_dataset/fire_images/fire.585.png', 'fire'], ['fire_dataset/non_fire_images/non_fire.231.png', 'non-fire'], ['fire_dataset/fire_images/fire.519.png', 'fire'], ['fire_dataset/fire_images/fire.746.png', 'fire'], ['fire_dataset/fire_images/fire.587.png', 'fire'], ['fire_dataset/fire_images/fire.471.png', 'fire'], ['fire_dataset/non_fire_images/non_fire.63.png', 'non-fire'], ['fire_dataset/fire_images/fire.246.png', 'fire'], ['fire_dataset/non_fire_images/non_fire.151.png', 'non-fire'], ['fire_dataset/fire_images/fire.168.png', 'fire'], ['fire_dataset/fire_images/fire.547.png', 'fire'], ['fire_dataset/fire_images/fire.262.png', 'fire'], ['fire_dataset/fire_images/fire.675.png', 'fire'], ['fire_dataset/fire_images/fire.452.png', 'fire'], ['fire_dataset/fire_images/fire.661.png', 'fire'], ['fire_dataset/fire_images/fire.747.png', 'fire'], ['fire_dataset/fire_images/fire.658.png', 'fire'], ['fire_dataset/fire_images/fire.660.png', 'fire'], ['fire_dataset/fire_images/fire.279.png', 'fire'], ['fire_dataset/fire_images/fire.617.png', 'fire'], ['fire_dataset/fire_images/fire.678.png', 'fire'], ['fire_dataset/non_fire_images/non_fire.42.png', 'non-fire'], ['fire_dataset/fire_images/fire.374.png', 'fire'], ['fire_dataset/fire_images/fire.234.png', 'fire'], ['fire_dataset/fire_images/fire.135.png', 'fire'], ['fire_dataset/fire_images/fire.572.png', 'fire'], ['fire_dataset/non_fire_images/non_fire.69.png', 'non-fire'], ['fire_dataset/fire_images/fire.681.png', 'fire'], ['fire_dataset/non_fire_images/non_fire.72.png', 'non-fire'], ['fire_dataset/fire_images/fire.696.png', 'fire'], ['fire_dataset/non_fire_images/non_fire.171.png', 'non-fire'], ['fire_dataset/fire_images/fire.211.png', 'fire'], ['fire_dataset/fire_images/fire.553.png', 'fire'], ['fire_dataset/fire_images/fire.515.png', 'fire'], ['fire_dataset/fire_images/fire.235.png', 'fire'], ['fire_dataset/fire_images/fire.285.png', 'fire'], ['fire_dataset/fire_images/fire.458.png', 'fire'], ['fire_dataset/fire_images/fire.152.png', 'fire'], ['fire_dataset/non_fire_images/non_fire.102.png', 'non-fire'], ['fire_dataset/fire_images/fire.338.png', 'fire'], ['fire_dataset/fire_images/fire.45.png', 'fire'], ['fire_dataset/fire_images/fire.205.png', 'fire'], ['fire_dataset/fire_images/fire.448.png', 'fire'], ['fire_dataset/fire_images/fire.363.png', 'fire'], ['fire_dataset/fire_images/fire.147.png', 'fire'], ['fire_dataset/fire_images/fire.149.png', 'fire'], ['fire_dataset/fire_images/fire.207.png', 'fire'], ['fire_dataset/fire_images/fire.632.png', 'fire'], ['fire_dataset/fire_images/fire.720.png', 'fire'], ['fire_dataset/fire_images/fire.466.png', 'fire'], ['fire_dataset/non_fire_images/non_fire.16.png', 'non-fire'], ['fire_dataset/non_fire_images/non_fire.155.png', 'non-fire'], ['fire_dataset/fire_images/fire.68.png', 'fire'], ['fire_dataset/fire_images/fire.307.png', 'fire'], ['fire_dataset/non_fire_images/non_fire.139.png', 'non-fire'], ['fire_dataset/fire_images/fire.16.png', 'fire'], ['fire_dataset/fire_images/fire.261.png', 'fire'], ['fire_dataset/fire_images/fire.599.png', 'fire'], ['fire_dataset/fire_images/fire.474.png', 'fire'], ['fire_dataset/fire_images/fire.685.png', 'fire'], ['fire_dataset/non_fire_images/non_fire.15.png', 'non-fire'], ['fire_dataset/fire_images/fire.576.png', 'fire'], ['fire_dataset/fire_images/fire.512.png', 'fire'], ['fire_dataset/non_fire_images/non_fire.239.png', 'non-fire'], ['fire_dataset/fire_images/fire.469.png', 'fire'], ['fire_dataset/fire_images/fire.275.png', 'fire'], ['fire_dataset/non_fire_images/non_fire.120.png', 'non-fire'], ['fire_dataset/fire_images/fire.58.png', 'fire'], ['fire_dataset/fire_images/fire.731.png', 'fire'], ['fire_dataset/fire_images/fire.457.png', 'fire'], ['fire_dataset/fire_images/fire.754.png', 'fire'], ['fire_dataset/fire_images/fire.639.png', 'fire'], ['fire_dataset/non_fire_images/non_fire.237.png', 'non-fire'], ['fire_dataset/fire_images/fire.228.png', 'fire'], ['fire_dataset/fire_images/fire.146.png', 'fire'], ['fire_dataset/fire_images/fire.360.png', 'fire'], ['fire_dataset/fire_images/fire.294.png', 'fire'], ['fire_dataset/fire_images/fire.260.png', 'fire'], ['fire_dataset/fire_images/fire.100.png', 'fire'], ['fire_dataset/fire_images/fire.202.png', 'fire'], ['fire_dataset/fire_images/fire.208.png', 'fire'], ['fire_dataset/non_fire_images/non_fire.110.png', 'non-fire'], ['fire_dataset/fire_images/fire.19.png', 'fire'], ['fire_dataset/fire_images/fire.120.png', 'fire'], ['fire_dataset/fire_images/fire.76.png', 'fire'], ['fire_dataset/fire_images/fire.242.png', 'fire'], ['fire_dataset/fire_images/fire.513.png', 'fire'], ['fire_dataset/fire_images/fire.742.png', 'fire'], ['fire_dataset/non_fire_images/non_fire.221.png', 'non-fire'], ['fire_dataset/non_fire_images/non_fire.113.png', 'non-fire'], ['fire_dataset/fire_images/fire.340.png', 'fire'], ['fire_dataset/fire_images/fire.532.png', 'fire'], ['fire_dataset/fire_images/fire.595.png', 'fire'], ['fire_dataset/non_fire_images/non_fire.14.png', 'non-fire'], ['fire_dataset/fire_images/fire.175.png', 'fire'], ['fire_dataset/fire_images/fire.705.png', 'fire'], ['fire_dataset/fire_images/fire.475.png', 'fire'], ['fire_dataset/fire_images/fire.551.png', 'fire'], ['fire_dataset/fire_images/fire.627.png', 'fire'], ['fire_dataset/fire_images/fire.113.png', 'fire'], ['fire_dataset/fire_images/fire.738.png', 'fire'], ['fire_dataset/non_fire_images/non_fire.242.png', 'non-fire'], ['fire_dataset/fire_images/fire.199.png', 'fire'], ['fire_dataset/fire_images/fire.479.png', 'fire'], ['fire_dataset/fire_images/fire.645.png', 'fire'], ['fire_dataset/non_fire_images/non_fire.215.png', 'non-fire'], ['fire_dataset/fire_images/fire.293.png', 'fire'], ['fire_dataset/fire_images/fire.192.png', 'fire'], ['fire_dataset/fire_images/fire.376.png', 'fire'], ['fire_dataset/fire_images/fire.509.png', 'fire'], ['fire_dataset/non_fire_images/non_fire.47.png', 'non-fire'], ['fire_dataset/fire_images/fire.653.png', 'fire'], ['fire_dataset/fire_images/fire.183.png', 'fire'], ['fire_dataset/non_fire_images/non_fire.133.png', 'non-fire'], ['fire_dataset/fire_images/fire.634.png', 'fire'], ['fire_dataset/fire_images/fire.283.png', 'fire'], ['fire_dataset/fire_images/fire.323.png', 'fire'], ['fire_dataset/fire_images/fire.326.png', 'fire'], ['fire_dataset/fire_images/fire.265.png', 'fire'], ['fire_dataset/non_fire_images/non_fire.78.png', 'non-fire'], ['fire_dataset/fire_images/fire.498.png', 'fire'], ['fire_dataset/fire_images/fire.400.png', 'fire'], ['fire_dataset/fire_images/fire.383.png', 'fire'], ['fire_dataset/fire_images/fire.4.png', 'fire'], ['fire_dataset/non_fire_images/non_fire.196.png', 'non-fire'], ['fire_dataset/fire_images/fire.563.png', 'fire'], ['fire_dataset/non_fire_images/non_fire.40.png', 'non-fire'], ['fire_dataset/non_fire_images/non_fire.33.png', 'non-fire'], ['fire_dataset/fire_images/fire.616.png', 'fire'], ['fire_dataset/non_fire_images/non_fire.82.png', 'non-fire'], ['fire_dataset/fire_images/fire.42.png', 'fire'], ['fire_dataset/fire_images/fire.586.png', 'fire'], ['fire_dataset/fire_images/fire.17.png', 'fire'], ['fire_dataset/fire_images/fire.155.png', 'fire'], ['fire_dataset/non_fire_images/non_fire.177.png', 'non-fire'], ['fire_dataset/fire_images/fire.465.png', 'fire'], ['fire_dataset/fire_images/fire.91.png', 'fire'], ['fire_dataset/fire_images/fire.562.png', 'fire'], ['fire_dataset/fire_images/fire.83.png', 'fire'], ['fire_dataset/non_fire_images/non_fire.201.png', 'non-fire'], ['fire_dataset/fire_images/fire.286.png', 'fire'], ['fire_dataset/fire_images/fire.148.png', 'fire'], ['fire_dataset/non_fire_images/non_fire.119.png', 'non-fire'], ['fire_dataset/fire_images/fire.122.png', 'fire'], ['fire_dataset/fire_images/fire.442.png', 'fire'], ['fire_dataset/fire_images/fire.190.png', 'fire'], ['fire_dataset/fire_images/fire.522.png', 'fire'], ['fire_dataset/fire_images/fire.255.png', 'fire'], ['fire_dataset/non_fire_images/non_fire.149.png', 'non-fire'], ['fire_dataset/fire_images/fire.333.png', 'fire'], ['fire_dataset/fire_images/fire.529.png', 'fire'], ['fire_dataset/fire_images/fire.420.png', 'fire'], ['fire_dataset/fire_images/fire.48.png', 'fire'], ['fire_dataset/non_fire_images/non_fire.68.png', 'non-fire'], ['fire_dataset/fire_images/fire.178.png', 'fire'], ['fire_dataset/fire_images/fire.26.png', 'fire'], ['fire_dataset/fire_images/fire.619.png', 'fire'], ['fire_dataset/fire_images/fire.179.png', 'fire'], ['fire_dataset/fire_images/fire.418.png', 'fire'], ['fire_dataset/fire_images/fire.514.png', 'fire'], ['fire_dataset/fire_images/fire.221.png', 'fire'], ['fire_dataset/non_fire_images/non_fire.3.png', 'non-fire'], ['fire_dataset/non_fire_images/non_fire.213.png', 'non-fire'], ['fire_dataset/fire_images/fire.626.png', 'fire'], ['fire_dataset/fire_images/fire.450.png', 'fire'], ['fire_dataset/fire_images/fire.526.png', 'fire'], ['fire_dataset/fire_images/fire.77.png', 'fire'], ['fire_dataset/fire_images/fire.556.png', 'fire'], ['fire_dataset/non_fire_images/non_fire.121.png', 'non-fire'], ['fire_dataset/fire_images/fire.107.png', 'fire'], ['fire_dataset/fire_images/fire.119.png', 'fire'], ['fire_dataset/fire_images/fire.417.png', 'fire'], ['fire_dataset/non_fire_images/non_fire.105.png', 'non-fire'], ['fire_dataset/fire_images/fire.9.png', 'fire'], ['fire_dataset/fire_images/fire.638.png', 'fire'], ['fire_dataset/fire_images/fire.180.png', 'fire'], ['fire_dataset/fire_images/fire.31.png', 'fire'], ['fire_dataset/fire_images/fire.741.png', 'fire'], ['fire_dataset/fire_images/fire.476.png', 'fire'], ['fire_dataset/fire_images/fire.75.png', 'fire'], ['fire_dataset/fire_images/fire.134.png', 'fire'], ['fire_dataset/fire_images/fire.94.png', 'fire'], ['fire_dataset/fire_images/fire.361.png', 'fire'], ['fire_dataset/non_fire_images/non_fire.207.png', 'non-fire'], ['fire_dataset/fire_images/fire.126.png', 'fire'], ['fire_dataset/fire_images/fire.67.png', 'fire'], ['fire_dataset/fire_images/fire.375.png', 'fire'], ['fire_dataset/fire_images/fire.309.png', 'fire'], ['fire_dataset/non_fire_images/non_fire.48.png', 'non-fire'], ['fire_dataset/fire_images/fire.542.png', 'fire'], ['fire_dataset/non_fire_images/non_fire.159.png', 'non-fire'], ['fire_dataset/fire_images/fire.499.png', 'fire'], ['fire_dataset/fire_images/fire.568.png', 'fire'], ['fire_dataset/fire_images/fire.170.png', 'fire'], ['fire_dataset/non_fire_images/non_fire.37.png', 'non-fire'], ['fire_dataset/fire_images/fire.407.png', 'fire'], ['fire_dataset/fire_images/fire.751.png', 'fire'], ['fire_dataset/non_fire_images/non_fire.118.png', 'non-fire'], ['fire_dataset/non_fire_images/non_fire.209.png', 'non-fire'], ['fire_dataset/fire_images/fire.153.png', 'fire'], ['fire_dataset/non_fire_images/non_fire.150.png', 'non-fire'], ['fire_dataset/fire_images/fire.191.png', 'fire'], ['fire_dataset/fire_images/fire.284.png', 'fire'], ['fire_dataset/fire_images/fire.254.png', 'fire'], ['fire_dataset/fire_images/fire.552.png', 'fire'], ['fire_dataset/fire_images/fire.600.png', 'fire'], ['fire_dataset/fire_images/fire.72.png', 'fire'], ['fire_dataset/fire_images/fire.154.png', 'fire'], ['fire_dataset/fire_images/fire.132.png', 'fire'], ['fire_dataset/fire_images/fire.186.png', 'fire'], ['fire_dataset/non_fire_images/non_fire.28.png', 'non-fire'], ['fire_dataset/non_fire_images/non_fire.53.png', 'non-fire'], ['fire_dataset/non_fire_images/non_fire.83.png', 'non-fire'], ['fire_dataset/non_fire_images/non_fire.39.png', 'non-fire'], ['fire_dataset/fire_images/fire.477.png', 'fire'], ['fire_dataset/fire_images/fire.665.png', 'fire'], ['fire_dataset/fire_images/fire.505.png', 'fire'], ['fire_dataset/fire_images/fire.158.png', 'fire'], ['fire_dataset/fire_images/fire.140.png', 'fire'], ['fire_dataset/fire_images/fire.602.png', 'fire'], ['fire_dataset/fire_images/fire.610.png', 'fire'], ['fire_dataset/fire_images/fire.447.png', 'fire'], ['fire_dataset/non_fire_images/non_fire.135.png', 'non-fire'], ['fire_dataset/fire_images/fire.237.png', 'fire'], ['fire_dataset/fire_images/fire.264.png', 'fire'], ['fire_dataset/fire_images/fire.373.png', 'fire'], ['fire_dataset/fire_images/fire.197.png', 'fire'], ['fire_dataset/fire_images/fire.423.png', 'fire'], ['fire_dataset/non_fire_images/non_fire.137.png', 'non-fire'], ['fire_dataset/fire_images/fire.707.png', 'fire'], ['fire_dataset/fire_images/fire.114.png', 'fire'], ['fire_dataset/fire_images/fire.592.png', 'fire'], ['fire_dataset/non_fire_images/non_fire.23.png', 'non-fire'], ['fire_dataset/non_fire_images/non_fire.73.png', 'non-fire'], ['fire_dataset/fire_images/fire.583.png', 'fire'], ['fire_dataset/fire_images/fire.217.png', 'fire'], ['fire_dataset/non_fire_images/non_fire.169.png', 'non-fire'], ['fire_dataset/fire_images/fire.105.png', 'fire'], ['fire_dataset/fire_images/fire.66.png', 'fire'], ['fire_dataset/fire_images/fire.729.png', 'fire'], ['fire_dataset/non_fire_images/non_fire.98.png', 'non-fire'], ['fire_dataset/fire_images/fire.201.png', 'fire'], ['fire_dataset/fire_images/fire.281.png', 'fire'], ['fire_dataset/fire_images/fire.441.png', 'fire'], ['fire_dataset/non_fire_images/non_fire.168.png', 'non-fire'], ['fire_dataset/fire_images/fire.24.png', 'fire'], ['fire_dataset/non_fire_images/non_fire.214.png', 'non-fire'], ['fire_dataset/fire_images/fire.304.png', 'fire'], ['fire_dataset/fire_images/fire.71.png', 'fire'], ['fire_dataset/fire_images/fire.460.png', 'fire'], ['fire_dataset/fire_images/fire.162.png', 'fire'], ['fire_dataset/fire_images/fire.398.png', 'fire'], ['fire_dataset/fire_images/fire.730.png', 'fire'], ['fire_dataset/fire_images/fire.164.png', 'fire'], ['fire_dataset/fire_images/fire.647.png', 'fire'], ['fire_dataset/fire_images/fire.321.png', 'fire'], ['fire_dataset/non_fire_images/non_fire.141.png', 'non-fire'], ['fire_dataset/fire_images/fire.313.png', 'fire'], ['fire_dataset/fire_images/fire.428.png', 'fire'], ['fire_dataset/fire_images/fire.39.png', 'fire'], ['fire_dataset/fire_images/fire.44.png', 'fire'], ['fire_dataset/non_fire_images/non_fire.126.png', 'non-fire'], ['fire_dataset/fire_images/fire.96.png', 'fire'], ['fire_dataset/fire_images/fire.306.png', 'fire'], ['fire_dataset/non_fire_images/non_fire.66.png', 'non-fire'], ['fire_dataset/non_fire_images/non_fire.172.png', 'non-fire'], ['fire_dataset/fire_images/fire.230.png', 'fire'], ['fire_dataset/fire_images/fire.253.png', 'fire'], ['fire_dataset/fire_images/fire.176.png', 'fire'], ['fire_dataset/fire_images/fire.394.png', 'fire'], ['fire_dataset/non_fire_images/non_fire.114.png', 'non-fire'], ['fire_dataset/fire_images/fire.421.png', 'fire'], ['fire_dataset/non_fire_images/non_fire.49.png', 'non-fire'], ['fire_dataset/fire_images/fire.92.png', 'fire'], ['fire_dataset/fire_images/fire.614.png', 'fire'], ['fire_dataset/fire_images/fire.98.png', 'fire'], ['fire_dataset/fire_images/fire.214.png', 'fire'], ['fire_dataset/fire_images/fire.53.png', 'fire'], ['fire_dataset/fire_images/fire.106.png', 'fire'], ['fire_dataset/non_fire_images/non_fire.144.png', 'non-fire'], ['fire_dataset/fire_images/fire.735.png', 'fire'], ['fire_dataset/fire_images/fire.315.png', 'fire'], ['fire_dataset/non_fire_images/non_fire.191.png', 'non-fire'], ['fire_dataset/fire_images/fire.472.png', 'fire'], ['fire_dataset/non_fire_images/non_fire.193.png', 'non-fire'], ['fire_dataset/non_fire_images/non_fire.194.png', 'non-fire'], ['fire_dataset/fire_images/fire.415.png', 'fire'], ['fire_dataset/fire_images/fire.47.png', 'fire'], ['fire_dataset/non_fire_images/non_fire.228.png', 'non-fire'], ['fire_dataset/fire_images/fire.61.png', 'fire'], ['fire_dataset/fire_images/fire.456.png', 'fire'], ['fire_dataset/fire_images/fire.467.png', 'fire'], ['fire_dataset/non_fire_images/non_fire.71.png', 'non-fire'], ['fire_dataset/non_fire_images/non_fire.44.png', 'non-fire'], ['fire_dataset/fire_images/fire.687.png', 'fire'], ['fire_dataset/fire_images/fire.65.png', 'fire'], ['fire_dataset/non_fire_images/non_fire.99.png', 'non-fire'], ['fire_dataset/non_fire_images/non_fire.167.png', 'non-fire'], ['fire_dataset/fire_images/fire.41.png', 'fire'], ['fire_dataset/fire_images/fire.739.png', 'fire'], ['fire_dataset/non_fire_images/non_fire.182.png', 'non-fire'], ['fire_dataset/non_fire_images/non_fire.62.png', 'non-fire'], ['fire_dataset/fire_images/fire.243.png', 'fire'], ['fire_dataset/fire_images/fire.250.png', 'fire'], ['fire_dataset/fire_images/fire.711.png', 'fire'], ['fire_dataset/fire_images/fire.102.png', 'fire'], ['fire_dataset/fire_images/fire.161.png', 'fire'], ['fire_dataset/fire_images/fire.496.png', 'fire'], ['fire_dataset/fire_images/fire.393.png', 'fire'], ['fire_dataset/non_fire_images/non_fire.192.png', 'non-fire'], ['fire_dataset/fire_images/fire.104.png', 'fire'], ['fire_dataset/non_fire_images/non_fire.156.png', 'non-fire'], ['fire_dataset/fire_images/fire.628.png', 'fire'], ['fire_dataset/fire_images/fire.317.png', 'fire'], ['fire_dataset/fire_images/fire.345.png', 'fire'], ['fire_dataset/fire_images/fire.380.png', 'fire'], ['fire_dataset/fire_images/fire.337.png', 'fire'], ['fire_dataset/fire_images/fire.62.png', 'fire'], ['fire_dataset/non_fire_images/non_fire.46.png', 'non-fire'], ['fire_dataset/non_fire_images/non_fire.236.png', 'non-fire'], ['fire_dataset/fire_images/fire.196.png', 'fire'], ['fire_dataset/fire_images/fire.524.png', 'fire'], ['fire_dataset/fire_images/fire.295.png', 'fire'], ['fire_dataset/fire_images/fire.128.png', 'fire'], ['fire_dataset/fire_images/fire.468.png', 'fire'], ['fire_dataset/fire_images/fire.268.png', 'fire'], ['fire_dataset/non_fire_images/non_fire.229.png', 'non-fire'], ['fire_dataset/fire_images/fire.52.png', 'fire'], ['fire_dataset/fire_images/fire.384.png', 'fire'], ['fire_dataset/fire_images/fire.724.png', 'fire'], ['fire_dataset/non_fire_images/non_fire.140.png', 'non-fire'], ['fire_dataset/fire_images/fire.688.png', 'fire'], ['fire_dataset/fire_images/fire.488.png', 'fire'], ['fire_dataset/fire_images/fire.215.png', 'fire'], ['fire_dataset/fire_images/fire.430.png', 'fire'], ['fire_dataset/fire_images/fire.231.png', 'fire'], ['fire_dataset/fire_images/fire.535.png', 'fire'], ['fire_dataset/fire_images/fire.554.png', 'fire'], ['fire_dataset/non_fire_images/non_fire.108.png', 'non-fire'], ['fire_dataset/non_fire_images/non_fire.244.png', 'non-fire'], ['fire_dataset/fire_images/fire.336.png', 'fire'], ['fire_dataset/fire_images/fire.591.png', 'fire'], ['fire_dataset/non_fire_images/non_fire.161.png', 'non-fire'], ['fire_dataset/fire_images/fire.351.png', 'fire'], ['fire_dataset/fire_images/fire.490.png', 'fire'], ['fire_dataset/non_fire_images/non_fire.179.png', 'non-fire'], ['fire_dataset/non_fire_images/non_fire.89.png', 'non-fire'], ['fire_dataset/fire_images/fire.123.png', 'fire'], ['fire_dataset/fire_images/fire.347.png', 'fire'], ['fire_dataset/fire_images/fire.29.png', 'fire'], ['fire_dataset/non_fire_images/non_fire.186.png', 'non-fire'], ['fire_dataset/fire_images/fire.46.png', 'fire'], ['fire_dataset/fire_images/fire.280.png', 'fire'], ['fire_dataset/fire_images/fire.453.png', 'fire'], ['fire_dataset/fire_images/fire.710.png', 'fire'], ['fire_dataset/fire_images/fire.165.png', 'fire'], ['fire_dataset/fire_images/fire.523.png', 'fire'], ['fire_dataset/fire_images/fire.682.png', 'fire'], ['fire_dataset/fire_images/fire.266.png', 'fire'], ['fire_dataset/fire_images/fire.677.png', 'fire'], ['fire_dataset/fire_images/fire.334.png', 'fire'], ['fire_dataset/fire_images/fire.578.png', 'fire'], ['fire_dataset/fire_images/fire.740.png', 'fire'], ['fire_dataset/fire_images/fire.444.png', 'fire'], ['fire_dataset/fire_images/fire.14.png', 'fire'], ['fire_dataset/fire_images/fire.341.png', 'fire'], ['fire_dataset/fire_images/fire.672.png', 'fire'], ['fire_dataset/fire_images/fire.32.png', 'fire'], ['fire_dataset/fire_images/fire.402.png', 'fire'], ['fire_dataset/fire_images/fire.328.png', 'fire'], ['fire_dataset/fire_images/fire.97.png', 'fire'], ['fire_dataset/fire_images/fire.189.png', 'fire'], ['fire_dataset/non_fire_images/non_fire.175.png', 'non-fire'], ['fire_dataset/fire_images/fire.271.png', 'fire'], ['fire_dataset/fire_images/fire.379.png', 'fire'], ['fire_dataset/fire_images/fire.137.png', 'fire'], ['fire_dataset/non_fire_images/non_fire.187.png', 'non-fire'], ['fire_dataset/fire_images/fire.676.png', 'fire'], ['fire_dataset/fire_images/fire.327.png', 'fire'], ['fire_dataset/non_fire_images/non_fire.124.png', 'non-fire'], ['fire_dataset/fire_images/fire.561.png', 'fire'], ['fire_dataset/fire_images/fire.492.png', 'fire'], ['fire_dataset/non_fire_images/non_fire.74.png', 'non-fire'], ['fire_dataset/fire_images/fire.10.png', 'fire'], ['fire_dataset/fire_images/fire.172.png', 'fire'], ['fire_dataset/fire_images/fire.310.png', 'fire'], ['fire_dataset/fire_images/fire.497.png', 'fire'], ['fire_dataset/non_fire_images/non_fire.84.png', 'non-fire'], ['fire_dataset/fire_images/fire.272.png', 'fire'], ['fire_dataset/fire_images/fire.481.png', 'fire'], ['fire_dataset/fire_images/fire.684.png', 'fire'], ['fire_dataset/fire_images/fire.142.png', 'fire'], ['fire_dataset/fire_images/fire.636.png', 'fire'], ['fire_dataset/fire_images/fire.88.png', 'fire'], ['fire_dataset/fire_images/fire.618.png', 'fire'], ['fire_dataset/fire_images/fire.577.png', 'fire'], ['fire_dataset/fire_images/fire.156.png', 'fire'], ['fire_dataset/fire_images/fire.227.png', 'fire'], ['fire_dataset/non_fire_images/non_fire.112.png', 'non-fire'], ['fire_dataset/fire_images/fire.63.png', 'fire'], ['fire_dataset/fire_images/fire.630.png', 'fire'], ['fire_dataset/fire_images/fire.151.png', 'fire'], ['fire_dataset/fire_images/fire.287.png', 'fire'], ['fire_dataset/fire_images/fire.582.png', 'fire'], ['fire_dataset/fire_images/fire.366.png', 'fire'], ['fire_dataset/fire_images/fire.269.png', 'fire'], ['fire_dataset/fire_images/fire.622.png', 'fire'], ['fire_dataset/fire_images/fire.506.png', 'fire'], ['fire_dataset/fire_images/fire.733.png', 'fire'], ['fire_dataset/fire_images/fire.267.png', 'fire'], ['fire_dataset/fire_images/fire.412.png', 'fire'], ['fire_dataset/fire_images/fire.698.png', 'fire'], ['fire_dataset/fire_images/fire.425.png', 'fire'], ['fire_dataset/fire_images/fire.296.png', 'fire'], ['fire_dataset/non_fire_images/non_fire.160.png', 'non-fire'], ['fire_dataset/fire_images/fire.64.png', 'fire'], ['fire_dataset/fire_images/fire.702.png', 'fire'], ['fire_dataset/fire_images/fire.23.png', 'fire'], ['fire_dataset/fire_images/fire.500.png', 'fire'], ['fire_dataset/fire_images/fire.650.png', 'fire'], ['fire_dataset/non_fire_images/non_fire.127.png', 'non-fire'], ['fire_dataset/fire_images/fire.473.png', 'fire'], ['fire_dataset/fire_images/fire.171.png', 'fire'], ['fire_dataset/fire_images/fire.194.png', 'fire'], ['fire_dataset/fire_images/fire.596.png', 'fire'], ['fire_dataset/fire_images/fire.527.png', 'fire'], ['fire_dataset/fire_images/fire.54.png', 'fire'], ['fire_dataset/fire_images/fire.6.png', 'fire'], ['fire_dataset/fire_images/fire.240.png', 'fire'], ['fire_dataset/fire_images/fire.504.png', 'fire'], ['fire_dataset/fire_images/fire.657.png', 'fire'], ['fire_dataset/fire_images/fire.368.png', 'fire'], ['fire_dataset/non_fire_images/non_fire.5.png', 'non-fire'], ['fire_dataset/fire_images/fire.531.png', 'fire'], ['fire_dataset/fire_images/fire.603.png', 'fire'], ['fire_dataset/fire_images/fire.652.png', 'fire'], ['fire_dataset/non_fire_images/non_fire.184.png', 'non-fire'], ['fire_dataset/non_fire_images/non_fire.166.png', 'non-fire'], ['fire_dataset/fire_images/fire.166.png', 'fire'], ['fire_dataset/fire_images/fire.727.png', 'fire'], ['fire_dataset/fire_images/fire.463.png', 'fire'], ['fire_dataset/non_fire_images/non_fire.204.png', 'non-fire'], ['fire_dataset/fire_images/fire.470.png', 'fire'], ['fire_dataset/fire_images/fire.744.png', 'fire'], ['fire_dataset/fire_images/fire.93.png', 'fire'], ['fire_dataset/fire_images/fire.101.png', 'fire'], ['fire_dataset/fire_images/fire.131.png', 'fire'], ['fire_dataset/fire_images/fire.37.png', 'fire'], ['fire_dataset/fire_images/fire.570.png', 'fire'], ['fire_dataset/fire_images/fire.209.png', 'fire'], ['fire_dataset/fire_images/fire.218.png', 'fire'], ['fire_dataset/non_fire_images/non_fire.235.png', 'non-fire'], ['fire_dataset/fire_images/fire.195.png', 'fire'], ['fire_dataset/fire_images/fire.548.png', 'fire'], ['fire_dataset/non_fire_images/non_fire.147.png', 'non-fire'], ['fire_dataset/fire_images/fire.536.png', 'fire'], ['fire_dataset/fire_images/fire.662.png', 'fire'], ['fire_dataset/fire_images/fire.173.png', 'fire'], ['fire_dataset/fire_images/fire.697.png', 'fire'], ['fire_dataset/fire_images/fire.238.png', 'fire'], ['fire_dataset/non_fire_images/non_fire.180.png', 'non-fire'], ['fire_dataset/fire_images/fire.434.png', 'fire'], ['fire_dataset/fire_images/fire.86.png', 'fire'], ['fire_dataset/fire_images/fire.188.png', 'fire'], ['fire_dataset/non_fire_images/non_fire.208.png', 'non-fire'], ['fire_dataset/non_fire_images/non_fire.17.png', 'non-fire'], ['fire_dataset/fire_images/fire.397.png', 'fire'], ['fire_dataset/fire_images/fire.185.png', 'fire'], ['fire_dataset/fire_images/fire.200.png', 'fire'], ['fire_dataset/fire_images/fire.203.png', 'fire'], ['fire_dataset/fire_images/fire.664.png', 'fire'], ['fire_dataset/fire_images/fire.703.png', 'fire'], ['fire_dataset/fire_images/fire.611.png', 'fire'], ['fire_dataset/non_fire_images/non_fire.19.png', 'non-fire'], ['fire_dataset/fire_images/fire.484.png', 'fire'], ['fire_dataset/fire_images/fire.494.png', 'fire'], ['fire_dataset/non_fire_images/non_fire.79.png', 'non-fire'], ['fire_dataset/fire_images/fire.70.png', 'fire'], ['fire_dataset/fire_images/fire.612.png', 'fire'], ['fire_dataset/fire_images/fire.118.png', 'fire'], ['fire_dataset/non_fire_images/non_fire.224.png', 'non-fire'], ['fire_dataset/fire_images/fire.604.png', 'fire'], ['fire_dataset/fire_images/fire.692.png', 'fire'], ['fire_dataset/fire_images/fire.232.png', 'fire'], ['fire_dataset/fire_images/fire.276.png', 'fire'], ['fire_dataset/non_fire_images/non_fire.97.png', 'non-fire'], ['fire_dataset/non_fire_images/non_fire.203.png', 'non-fire'], ['fire_dataset/non_fire_images/non_fire.223.png', 'non-fire'], ['fire_dataset/non_fire_images/non_fire.190.png', 'non-fire'], ['fire_dataset/fire_images/fire.290.png', 'fire'], ['fire_dataset/non_fire_images/non_fire.174.png', 'non-fire'], ['fire_dataset/fire_images/fire.574.png', 'fire'], ['fire_dataset/fire_images/fire.80.png', 'fire'], ['fire_dataset/fire_images/fire.629.png', 'fire'], ['fire_dataset/fire_images/fire.517.png', 'fire'], ['fire_dataset/fire_images/fire.256.png', 'fire'], ['fire_dataset/fire_images/fire.623.png', 'fire'], ['fire_dataset/fire_images/fire.288.png', 'fire'], ['fire_dataset/fire_images/fire.292.png', 'fire'], ['fire_dataset/fire_images/fire.485.png', 'fire'], ['fire_dataset/fire_images/fire.371.png', 'fire'], ['fire_dataset/non_fire_images/non_fire.24.png', 'non-fire'], ['fire_dataset/fire_images/fire.674.png', 'fire'], ['fire_dataset/fire_images/fire.699.png', 'fire'], ['fire_dataset/fire_images/fire.569.png', 'fire'], ['fire_dataset/fire_images/fire.138.png', 'fire'], ['fire_dataset/fire_images/fire.331.png', 'fire'], ['fire_dataset/non_fire_images/non_fire.55.png', 'non-fire'], ['fire_dataset/non_fire_images/non_fire.230.png', 'non-fire'], ['fire_dataset/fire_images/fire.704.png', 'fire'], ['fire_dataset/fire_images/fire.129.png', 'fire'], ['fire_dataset/non_fire_images/non_fire.116.png', 'non-fire'], ['fire_dataset/fire_images/fire.1.png', 'fire'], ['fire_dataset/fire_images/fire.508.png', 'fire'], ['fire_dataset/fire_images/fire.667.png', 'fire'], ['fire_dataset/fire_images/fire.216.png', 'fire'], ['fire_dataset/fire_images/fire.99.png', 'fire'], ['fire_dataset/fire_images/fire.372.png', 'fire'], ['fire_dataset/fire_images/fire.445.png', 'fire'], ['fire_dataset/fire_images/fire.241.png', 'fire'], ['fire_dataset/fire_images/fire.112.png', 'fire'], ['fire_dataset/fire_images/fire.511.png', 'fire'], ['fire_dataset/fire_images/fire.695.png', 'fire'], ['fire_dataset/non_fire_images/non_fire.65.png', 'non-fire'], ['fire_dataset/fire_images/fire.671.png', 'fire'], ['fire_dataset/non_fire_images/non_fire.30.png', 'non-fire'], ['fire_dataset/fire_images/fire.33.png', 'fire'], ['fire_dataset/fire_images/fire.89.png', 'fire'], ['fire_dataset/fire_images/fire.239.png', 'fire'], ['fire_dataset/fire_images/fire.81.png', 'fire'], ['fire_dataset/fire_images/fire.654.png', 'fire'], ['fire_dataset/fire_images/fire.226.png', 'fire'], ['fire_dataset/non_fire_images/non_fire.226.png', 'non-fire'], ['fire_dataset/fire_images/fire.565.png', 'fire'], ['fire_dataset/fire_images/fire.198.png', 'fire'], ['fire_dataset/non_fire_images/non_fire.43.png', 'non-fire'], ['fire_dataset/fire_images/fire.419.png', 'fire'], ['fire_dataset/non_fire_images/non_fire.41.png', 'non-fire'], ['fire_dataset/fire_images/fire.370.png', 'fire'], ['fire_dataset/fire_images/fire.258.png', 'fire'], ['fire_dataset/non_fire_images/non_fire.27.png', 'non-fire'], ['fire_dataset/non_fire_images/non_fire.57.png', 'non-fire'], ['fire_dataset/fire_images/fire.344.png', 'fire'], ['fire_dataset/fire_images/fire.432.png', 'fire'], ['fire_dataset/fire_images/fire.691.png', 'fire'], ['fire_dataset/fire_images/fire.655.png', 'fire'], ['fire_dataset/fire_images/fire.27.png', 'fire'], ['fire_dataset/fire_images/fire.346.png', 'fire'], ['fire_dataset/non_fire_images/non_fire.10.png', 'non-fire'], ['fire_dataset/fire_images/fire.15.png', 'fire'], ['fire_dataset/fire_images/fire.686.png', 'fire'], ['fire_dataset/fire_images/fire.282.png', 'fire'], ['fire_dataset/fire_images/fire.455.png', 'fire'], ['fire_dataset/fire_images/fire.608.png', 'fire'], ['fire_dataset/fire_images/fire.322.png', 'fire'], ['fire_dataset/non_fire_images/non_fire.218.png', 'non-fire'], ['fire_dataset/fire_images/fire.219.png', 'fire'], ['fire_dataset/fire_images/fire.461.png', 'fire'], ['fire_dataset/fire_images/fire.388.png', 'fire'], ['fire_dataset/fire_images/fire.495.png', 'fire'], ['fire_dataset/fire_images/fire.706.png', 'fire'], ['fire_dataset/fire_images/fire.663.png', 'fire'], ['fire_dataset/fire_images/fire.124.png', 'fire'], ['fire_dataset/fire_images/fire.743.png', 'fire'], ['fire_dataset/fire_images/fire.649.png', 'fire'], ['fire_dataset/fire_images/fire.673.png', 'fire'], ['fire_dataset/fire_images/fire.187.png', 'fire'], ['fire_dataset/non_fire_images/non_fire.217.png', 'non-fire'], ['fire_dataset/non_fire_images/non_fire.211.png', 'non-fire'], ['fire_dataset/fire_images/fire.182.png', 'fire'], ['fire_dataset/fire_images/fire.575.png', 'fire'], ['fire_dataset/non_fire_images/non_fire.104.png', 'non-fire'], ['fire_dataset/fire_images/fire.651.png', 'fire'], ['fire_dataset/fire_images/fire.641.png', 'fire'], ['fire_dataset/non_fire_images/non_fire.59.png', 'non-fire'], ['fire_dataset/non_fire_images/non_fire.162.png', 'non-fire'], ['fire_dataset/non_fire_images/non_fire.64.png', 'non-fire'], ['fire_dataset/non_fire_images/non_fire.29.png', 'non-fire'], ['fire_dataset/non_fire_images/non_fire.22.png', 'non-fire'], ['fire_dataset/non_fire_images/non_fire.87.png', 'non-fire'], ['fire_dataset/fire_images/fire.51.png', 'fire'], ['fire_dataset/non_fire_images/non_fire.220.png', 'non-fire'], ['fire_dataset/non_fire_images/non_fire.146.png', 'non-fire'], ['fire_dataset/fire_images/fire.454.png', 'fire'], ['fire_dataset/non_fire_images/non_fire.96.png', 'non-fire'], ['fire_dataset/fire_images/fire.410.png', 'fire'], ['fire_dataset/non_fire_images/non_fire.51.png', 'non-fire'], ['fire_dataset/fire_images/fire.354.png', 'fire'], ['fire_dataset/non_fire_images/non_fire.12.png', 'non-fire'], ['fire_dataset/fire_images/fire.538.png', 'fire']]\n"
          ]
        }
      ]
    },
    {
      "cell_type": "code",
      "metadata": {
        "execution": {
          "iopub.status.busy": "2021-06-19T10:28:48.269851Z",
          "iopub.execute_input": "2021-06-19T10:28:48.270461Z",
          "iopub.status.idle": "2021-06-19T10:28:48.283023Z",
          "shell.execute_reply.started": "2021-06-19T10:28:48.270308Z",
          "shell.execute_reply": "2021-06-19T10:28:48.281736Z"
        },
        "trusted": true,
        "colab": {
          "base_uri": "https://localhost:8080/"
        },
        "id": "1K_YCkovpffE",
        "outputId": "7b8b9000-60d9-4e2c-e222-aa98b7f0bf10"
      },
      "source": [
        "data_df = pd.DataFrame(df, columns = ['path','label'])\n",
        "print (data_df)"
      ],
      "execution_count": 8,
      "outputs": [
        {
          "output_type": "stream",
          "name": "stdout",
          "text": [
            "                                              path     label\n",
            "0    fire_dataset/non_fire_images/non_fire.195.png  non-fire\n",
            "1            fire_dataset/fire_images/fire.755.png      fire\n",
            "2            fire_dataset/fire_images/fire.249.png      fire\n",
            "3            fire_dataset/fire_images/fire.590.png      fire\n",
            "4            fire_dataset/fire_images/fire.289.png      fire\n",
            "..                                             ...       ...\n",
            "994          fire_dataset/fire_images/fire.410.png      fire\n",
            "995   fire_dataset/non_fire_images/non_fire.51.png  non-fire\n",
            "996          fire_dataset/fire_images/fire.354.png      fire\n",
            "997   fire_dataset/non_fire_images/non_fire.12.png  non-fire\n",
            "998          fire_dataset/fire_images/fire.538.png      fire\n",
            "\n",
            "[999 rows x 2 columns]\n"
          ]
        }
      ]
    },
    {
      "cell_type": "code",
      "metadata": {
        "id": "6hVyxRLTpmeN"
      },
      "source": [
        "!rm -rf fire_dataset/fire_images/non_fire_images/* "
      ],
      "execution_count": 47,
      "outputs": []
    },
    {
      "cell_type": "code",
      "metadata": {
        "id": "pkahsvdnt5Ca"
      },
      "source": [
        "! rm -rf new_fire_dataset/"
      ],
      "execution_count": 86,
      "outputs": []
    },
    {
      "cell_type": "code",
      "metadata": {
        "id": "x2sL0YC4qdw0"
      },
      "source": [
        "! cp -rf fire_dataset/fire_images/non_fire_images/* "
      ],
      "execution_count": 46,
      "outputs": []
    },
    {
      "cell_type": "code",
      "metadata": {
        "id": "N12p3sO9gPly",
        "colab": {
          "base_uri": "https://localhost:8080/",
          "height": 370
        },
        "outputId": "b3a0dc81-d923-42a5-a47a-4a5c82bfa718"
      },
      "source": [
        "import os, shutil, pathlib\n",
        "\n",
        "original_dir = pathlib.Path(\"fire_dataset/fire_images\")\n",
        "new_base_dir = pathlib.Path(\"new_fire_dataset\")\n",
        "\n",
        "def make_subset(subset_name, start_index, end_index):\n",
        "    for category in (\"fire\", \"no_fire\"):\n",
        "        dir = new_base_dir / subset_name \n",
        "        os.makedirs(dir)\n",
        "        fnames = [f\"{category}.{i}.png\" for i in range(start_index, end_index)]\n",
        "        for fname in fnames:\n",
        "          shutil.copyfile(src=original_dir / fname ,dst=dir / fname)\n",
        "\n",
        "make_subset(\"train\", start_index=1, end_index=300)\n",
        "make_subset(\"validation\", start_index=300, end_index=500)\n",
        "make_subset(\"test\", start_index=500, end_index=1000)"
      ],
      "execution_count": 85,
      "outputs": [
        {
          "output_type": "error",
          "ename": "FileExistsError",
          "evalue": "ignored",
          "traceback": [
            "\u001b[0;31m---------------------------------------------------------------------------\u001b[0m",
            "\u001b[0;31mFileExistsError\u001b[0m                           Traceback (most recent call last)",
            "\u001b[0;32m<ipython-input-85-b57c69f7983c>\u001b[0m in \u001b[0;36m<module>\u001b[0;34m()\u001b[0m\n\u001b[1;32m     13\u001b[0m           \u001b[0mshutil\u001b[0m\u001b[0;34m.\u001b[0m\u001b[0mcopyfile\u001b[0m\u001b[0;34m(\u001b[0m\u001b[0msrc\u001b[0m\u001b[0;34m=\u001b[0m\u001b[0moriginal_dir\u001b[0m \u001b[0;34m/\u001b[0m \u001b[0mfname\u001b[0m \u001b[0;34m,\u001b[0m\u001b[0mdst\u001b[0m\u001b[0;34m=\u001b[0m\u001b[0mdir\u001b[0m \u001b[0;34m/\u001b[0m \u001b[0mfname\u001b[0m\u001b[0;34m)\u001b[0m\u001b[0;34m\u001b[0m\u001b[0;34m\u001b[0m\u001b[0m\n\u001b[1;32m     14\u001b[0m \u001b[0;34m\u001b[0m\u001b[0m\n\u001b[0;32m---> 15\u001b[0;31m \u001b[0mmake_subset\u001b[0m\u001b[0;34m(\u001b[0m\u001b[0;34m\"train\"\u001b[0m\u001b[0;34m,\u001b[0m \u001b[0mstart_index\u001b[0m\u001b[0;34m=\u001b[0m\u001b[0;36m1\u001b[0m\u001b[0;34m,\u001b[0m \u001b[0mend_index\u001b[0m\u001b[0;34m=\u001b[0m\u001b[0;36m300\u001b[0m\u001b[0;34m)\u001b[0m\u001b[0;34m\u001b[0m\u001b[0;34m\u001b[0m\u001b[0m\n\u001b[0m\u001b[1;32m     16\u001b[0m \u001b[0mmake_subset\u001b[0m\u001b[0;34m(\u001b[0m\u001b[0;34m\"validation\"\u001b[0m\u001b[0;34m,\u001b[0m \u001b[0mstart_index\u001b[0m\u001b[0;34m=\u001b[0m\u001b[0;36m300\u001b[0m\u001b[0;34m,\u001b[0m \u001b[0mend_index\u001b[0m\u001b[0;34m=\u001b[0m\u001b[0;36m500\u001b[0m\u001b[0;34m)\u001b[0m\u001b[0;34m\u001b[0m\u001b[0;34m\u001b[0m\u001b[0m\n\u001b[1;32m     17\u001b[0m \u001b[0mmake_subset\u001b[0m\u001b[0;34m(\u001b[0m\u001b[0;34m\"test\"\u001b[0m\u001b[0;34m,\u001b[0m \u001b[0mstart_index\u001b[0m\u001b[0;34m=\u001b[0m\u001b[0;36m500\u001b[0m\u001b[0;34m,\u001b[0m \u001b[0mend_index\u001b[0m\u001b[0;34m=\u001b[0m\u001b[0;36m1000\u001b[0m\u001b[0;34m)\u001b[0m\u001b[0;34m\u001b[0m\u001b[0;34m\u001b[0m\u001b[0m\n",
            "\u001b[0;32m<ipython-input-85-b57c69f7983c>\u001b[0m in \u001b[0;36mmake_subset\u001b[0;34m(subset_name, start_index, end_index)\u001b[0m\n\u001b[1;32m      8\u001b[0m     \u001b[0;32mfor\u001b[0m \u001b[0mcategory\u001b[0m \u001b[0;32min\u001b[0m \u001b[0;34m(\u001b[0m\u001b[0;34m\"fire\"\u001b[0m\u001b[0;34m,\u001b[0m \u001b[0;34m\"no_fire\"\u001b[0m\u001b[0;34m)\u001b[0m\u001b[0;34m:\u001b[0m\u001b[0;34m\u001b[0m\u001b[0;34m\u001b[0m\u001b[0m\n\u001b[1;32m      9\u001b[0m         \u001b[0mdir\u001b[0m \u001b[0;34m=\u001b[0m \u001b[0mnew_base_dir\u001b[0m \u001b[0;34m/\u001b[0m \u001b[0msubset_name\u001b[0m\u001b[0;34m\u001b[0m\u001b[0;34m\u001b[0m\u001b[0m\n\u001b[0;32m---> 10\u001b[0;31m         \u001b[0mos\u001b[0m\u001b[0;34m.\u001b[0m\u001b[0mmakedirs\u001b[0m\u001b[0;34m(\u001b[0m\u001b[0mdir\u001b[0m\u001b[0;34m)\u001b[0m\u001b[0;34m\u001b[0m\u001b[0;34m\u001b[0m\u001b[0m\n\u001b[0m\u001b[1;32m     11\u001b[0m         \u001b[0mfnames\u001b[0m \u001b[0;34m=\u001b[0m \u001b[0;34m[\u001b[0m\u001b[0;34mf\"{category}.{i}.png\"\u001b[0m \u001b[0;32mfor\u001b[0m \u001b[0mi\u001b[0m \u001b[0;32min\u001b[0m \u001b[0mrange\u001b[0m\u001b[0;34m(\u001b[0m\u001b[0mstart_index\u001b[0m\u001b[0;34m,\u001b[0m \u001b[0mend_index\u001b[0m\u001b[0;34m)\u001b[0m\u001b[0;34m]\u001b[0m\u001b[0;34m\u001b[0m\u001b[0;34m\u001b[0m\u001b[0m\n\u001b[1;32m     12\u001b[0m         \u001b[0;32mfor\u001b[0m \u001b[0mfname\u001b[0m \u001b[0;32min\u001b[0m \u001b[0mfnames\u001b[0m\u001b[0;34m:\u001b[0m\u001b[0;34m\u001b[0m\u001b[0;34m\u001b[0m\u001b[0m\n",
            "\u001b[0;32m/usr/lib/python3.7/os.py\u001b[0m in \u001b[0;36mmakedirs\u001b[0;34m(name, mode, exist_ok)\u001b[0m\n\u001b[1;32m    221\u001b[0m             \u001b[0;32mreturn\u001b[0m\u001b[0;34m\u001b[0m\u001b[0;34m\u001b[0m\u001b[0m\n\u001b[1;32m    222\u001b[0m     \u001b[0;32mtry\u001b[0m\u001b[0;34m:\u001b[0m\u001b[0;34m\u001b[0m\u001b[0;34m\u001b[0m\u001b[0m\n\u001b[0;32m--> 223\u001b[0;31m         \u001b[0mmkdir\u001b[0m\u001b[0;34m(\u001b[0m\u001b[0mname\u001b[0m\u001b[0;34m,\u001b[0m \u001b[0mmode\u001b[0m\u001b[0;34m)\u001b[0m\u001b[0;34m\u001b[0m\u001b[0;34m\u001b[0m\u001b[0m\n\u001b[0m\u001b[1;32m    224\u001b[0m     \u001b[0;32mexcept\u001b[0m \u001b[0mOSError\u001b[0m\u001b[0;34m:\u001b[0m\u001b[0;34m\u001b[0m\u001b[0;34m\u001b[0m\u001b[0m\n\u001b[1;32m    225\u001b[0m         \u001b[0;31m# Cannot rely on checking for EEXIST, since the operating system\u001b[0m\u001b[0;34m\u001b[0m\u001b[0;34m\u001b[0m\u001b[0;34m\u001b[0m\u001b[0m\n",
            "\u001b[0;31mFileExistsError\u001b[0m: [Errno 17] File exists: 'new_fire_dataset/train'"
          ]
        }
      ]
    },
    {
      "cell_type": "code",
      "metadata": {
        "id": "-yP-IuzNybYW"
      },
      "source": [
        "test_datagen = ImageDataGenerator(rescale = 1.0/255.)\n",
        "\n",
        "validation_generator =  test_datagen.flow_from_directory( \"cats_and_dogs/dataset/test_set/\",\n",
        "                                                          batch_size  = 20,\n",
        "                                                          class_mode  = 'binary', \n",
        "                                                          target_size = (150, 150))"
      ],
      "execution_count": null,
      "outputs": []
    },
    {
      "cell_type": "code",
      "metadata": {
        "execution": {
          "iopub.status.busy": "2021-06-19T10:28:48.285047Z",
          "iopub.execute_input": "2021-06-19T10:28:48.285592Z",
          "iopub.status.idle": "2021-06-19T10:28:48.295289Z",
          "shell.execute_reply.started": "2021-06-19T10:28:48.285491Z",
          "shell.execute_reply": "2021-06-19T10:28:48.294166Z"
        },
        "trusted": true,
        "id": "odEztBkrpffF"
      },
      "source": [
        "datagen = ImageDataGenerator(rescale=1./255,\n",
        "                            #rotation_range = 40,\n",
        "                            #width_shift_range = 0.2,\n",
        "                            #height_shift_range = 0.2,\n",
        "                            #shear_range = 0.2,\n",
        "                            #zoom_range = 0.2,\n",
        "                            horizontal_flip = True)"
      ],
      "execution_count": 87,
      "outputs": []
    },
    {
      "cell_type": "code",
      "metadata": {
        "execution": {
          "iopub.status.busy": "2021-06-19T10:28:48.297176Z",
          "iopub.execute_input": "2021-06-19T10:28:48.297815Z",
          "iopub.status.idle": "2021-06-19T10:28:48.363153Z",
          "shell.execute_reply.started": "2021-06-19T10:28:48.297622Z",
          "shell.execute_reply": "2021-06-19T10:28:48.361396Z"
        },
        "trusted": true,
        "colab": {
          "base_uri": "https://localhost:8080/"
        },
        "id": "FDGL8RUNpffG",
        "outputId": "21486bda-8de9-4497-f018-049330097fd5"
      },
      "source": [
        "train_generator = datagen.flow_from_directory(\"fire_dataset/fire_images/\",\n",
        "                                             target_size=(256,256),\n",
        "                                              class_mode='binary',\n",
        "                                              )\n"
      ],
      "execution_count": 89,
      "outputs": [
        {
          "output_type": "stream",
          "name": "stdout",
          "text": [
            "Found 0 images belonging to 1 classes.\n"
          ]
        }
      ]
    },
    {
      "cell_type": "code",
      "metadata": {
        "id": "pjATAsDj5rO6"
      },
      "source": [
        "validation_generator = datagen.flow_from_dataframe(data_df,\n",
        "                                                   x_col='path',\n",
        "                                                   y_col='label',\n",
        "                                                   images_size=(256,256),\n",
        "                                                   class_mode='binary',\n",
        "                                                   subset='validation')"
      ],
      "execution_count": null,
      "outputs": []
    },
    {
      "cell_type": "code",
      "metadata": {
        "id": "9jNqMtFX6EI4"
      },
      "source": [
        ""
      ],
      "execution_count": null,
      "outputs": []
    },
    {
      "cell_type": "markdown",
      "metadata": {
        "id": "iEqjCjlPpffI"
      },
      "source": [
        "### InceptionV3"
      ]
    },
    {
      "cell_type": "code",
      "metadata": {
        "execution": {
          "iopub.status.busy": "2021-06-19T10:28:48.364627Z",
          "iopub.execute_input": "2021-06-19T10:28:48.365032Z",
          "iopub.status.idle": "2021-06-19T10:28:56.796002Z",
          "shell.execute_reply.started": "2021-06-19T10:28:48.364993Z",
          "shell.execute_reply": "2021-06-19T10:28:56.794794Z"
        },
        "trusted": true,
        "colab": {
          "base_uri": "https://localhost:8080/"
        },
        "id": "5GB0ZO9epffL",
        "outputId": "7904eceb-f017-425c-b6f1-3b9bf665e8b5"
      },
      "source": [
        "inception_v3 = InceptionV3(input_shape=(256,256,3),\n",
        "                           weights='imagenet',\n",
        "                           include_top=False)\n",
        "inception_v3.trainable = False"
      ],
      "execution_count": null,
      "outputs": [
        {
          "output_type": "stream",
          "name": "stdout",
          "text": [
            "Downloading data from https://storage.googleapis.com/tensorflow/keras-applications/inception_v3/inception_v3_weights_tf_dim_ordering_tf_kernels_notop.h5\n",
            "87916544/87910968 [==============================] - 1s 0us/step\n",
            "87924736/87910968 [==============================] - 1s 0us/step\n"
          ]
        }
      ]
    },
    {
      "cell_type": "code",
      "metadata": {
        "execution": {
          "iopub.status.busy": "2021-06-19T10:28:56.80376Z",
          "iopub.execute_input": "2021-06-19T10:28:56.806382Z",
          "iopub.status.idle": "2021-06-19T10:28:56.929417Z",
          "shell.execute_reply.started": "2021-06-19T10:28:56.806337Z",
          "shell.execute_reply": "2021-06-19T10:28:56.928179Z"
        },
        "trusted": true,
        "id": "cr4Rda7spffN"
      },
      "source": [
        "from keras import models\n",
        "from keras import layers\n",
        "\n",
        "model = models.Sequential()\n",
        "model.add(layers.Flatten())\n",
        "model.add(layers.BatchNormalization())\n",
        "model.add(layers.Dense(128, activation='relu', input_shape=(256,)))\n",
        "model.add(layers.Dropout(0.2))\n",
        "model.add(layers.Dense(1, activation='sigmoid'))\n",
        "\n",
        "#x = layers.Flatten()(inception_v3.output)\n",
        "#x = layers.BatchNormalization()(x)\n",
        "#x = layers.Dense(1024,activation='relu')(x)\n",
        "#x = layers.Dropout(0.2)(x)                  \n",
        "#x = layers.Dense(1,activation='sigmoid')(x)           \n",
        "\n",
        "#model1 = Model(inception_v3.input, x) \n",
        "\n",
        "model.compile(optimizer = Adam(learning_rate=0.0001), \n",
        "               loss = 'binary_crossentropy', \n",
        "               metrics =['acc'])"
      ],
      "execution_count": null,
      "outputs": []
    },
    {
      "cell_type": "code",
      "metadata": {
        "execution": {
          "iopub.status.busy": "2021-06-19T10:28:56.93595Z",
          "iopub.execute_input": "2021-06-19T10:28:56.938741Z",
          "iopub.status.idle": "2021-06-19T11:06:32.921078Z",
          "shell.execute_reply.started": "2021-06-19T10:28:56.938694Z",
          "shell.execute_reply": "2021-06-19T11:06:32.919913Z"
        },
        "trusted": true,
        "colab": {
          "base_uri": "https://localhost:8080/",
          "height": 405
        },
        "id": "43cCMTNApffN",
        "outputId": "4fa83095-c8f5-4595-d7b1-d71b28b60e25"
      },
      "source": [
        "history = model.fit_generator(train_generator,\n",
        "                               epochs=50,\n",
        "                               verbose=0,\n",
        "                               validation_data=validation_generator)"
      ],
      "execution_count": null,
      "outputs": [
        {
          "output_type": "stream",
          "text": [
            "/usr/local/lib/python3.7/dist-packages/keras/engine/training.py:1972: UserWarning: `Model.fit_generator` is deprecated and will be removed in a future version. Please use `Model.fit`, which supports generators.\n",
            "  warnings.warn('`Model.fit_generator` is deprecated and '\n"
          ],
          "name": "stderr"
        },
        {
          "output_type": "error",
          "ename": "KeyboardInterrupt",
          "evalue": "ignored",
          "traceback": [
            "\u001b[0;31m---------------------------------------------------------------------------\u001b[0m",
            "\u001b[0;31mKeyboardInterrupt\u001b[0m                         Traceback (most recent call last)",
            "\u001b[0;32m<ipython-input-31-9e9c0323d25c>\u001b[0m in \u001b[0;36m<module>\u001b[0;34m()\u001b[0m\n\u001b[1;32m      2\u001b[0m                                \u001b[0mepochs\u001b[0m\u001b[0;34m=\u001b[0m\u001b[0;36m50\u001b[0m\u001b[0;34m,\u001b[0m\u001b[0;34m\u001b[0m\u001b[0;34m\u001b[0m\u001b[0m\n\u001b[1;32m      3\u001b[0m                                \u001b[0mverbose\u001b[0m\u001b[0;34m=\u001b[0m\u001b[0;36m0\u001b[0m\u001b[0;34m,\u001b[0m\u001b[0;34m\u001b[0m\u001b[0;34m\u001b[0m\u001b[0m\n\u001b[0;32m----> 4\u001b[0;31m                                validation_data=validation_generator)\n\u001b[0m",
            "\u001b[0;32m/usr/local/lib/python3.7/dist-packages/keras/engine/training.py\u001b[0m in \u001b[0;36mfit_generator\u001b[0;34m(self, generator, steps_per_epoch, epochs, verbose, callbacks, validation_data, validation_steps, validation_freq, class_weight, max_queue_size, workers, use_multiprocessing, shuffle, initial_epoch)\u001b[0m\n\u001b[1;32m   1987\u001b[0m         \u001b[0muse_multiprocessing\u001b[0m\u001b[0;34m=\u001b[0m\u001b[0muse_multiprocessing\u001b[0m\u001b[0;34m,\u001b[0m\u001b[0;34m\u001b[0m\u001b[0;34m\u001b[0m\u001b[0m\n\u001b[1;32m   1988\u001b[0m         \u001b[0mshuffle\u001b[0m\u001b[0;34m=\u001b[0m\u001b[0mshuffle\u001b[0m\u001b[0;34m,\u001b[0m\u001b[0;34m\u001b[0m\u001b[0;34m\u001b[0m\u001b[0m\n\u001b[0;32m-> 1989\u001b[0;31m         initial_epoch=initial_epoch)\n\u001b[0m\u001b[1;32m   1990\u001b[0m \u001b[0;34m\u001b[0m\u001b[0m\n\u001b[1;32m   1991\u001b[0m   \u001b[0;34m@\u001b[0m\u001b[0mdoc_controls\u001b[0m\u001b[0;34m.\u001b[0m\u001b[0mdo_not_generate_docs\u001b[0m\u001b[0;34m\u001b[0m\u001b[0;34m\u001b[0m\u001b[0m\n",
            "\u001b[0;32m/usr/local/lib/python3.7/dist-packages/keras/engine/training.py\u001b[0m in \u001b[0;36mfit\u001b[0;34m(self, x, y, batch_size, epochs, verbose, callbacks, validation_split, validation_data, shuffle, class_weight, sample_weight, initial_epoch, steps_per_epoch, validation_steps, validation_batch_size, validation_freq, max_queue_size, workers, use_multiprocessing)\u001b[0m\n\u001b[1;32m   1182\u001b[0m                 _r=1):\n\u001b[1;32m   1183\u001b[0m               \u001b[0mcallbacks\u001b[0m\u001b[0;34m.\u001b[0m\u001b[0mon_train_batch_begin\u001b[0m\u001b[0;34m(\u001b[0m\u001b[0mstep\u001b[0m\u001b[0;34m)\u001b[0m\u001b[0;34m\u001b[0m\u001b[0;34m\u001b[0m\u001b[0m\n\u001b[0;32m-> 1184\u001b[0;31m               \u001b[0mtmp_logs\u001b[0m \u001b[0;34m=\u001b[0m \u001b[0mself\u001b[0m\u001b[0;34m.\u001b[0m\u001b[0mtrain_function\u001b[0m\u001b[0;34m(\u001b[0m\u001b[0miterator\u001b[0m\u001b[0;34m)\u001b[0m\u001b[0;34m\u001b[0m\u001b[0;34m\u001b[0m\u001b[0m\n\u001b[0m\u001b[1;32m   1185\u001b[0m               \u001b[0;32mif\u001b[0m \u001b[0mdata_handler\u001b[0m\u001b[0;34m.\u001b[0m\u001b[0mshould_sync\u001b[0m\u001b[0;34m:\u001b[0m\u001b[0;34m\u001b[0m\u001b[0;34m\u001b[0m\u001b[0m\n\u001b[1;32m   1186\u001b[0m                 \u001b[0mcontext\u001b[0m\u001b[0;34m.\u001b[0m\u001b[0masync_wait\u001b[0m\u001b[0;34m(\u001b[0m\u001b[0;34m)\u001b[0m\u001b[0;34m\u001b[0m\u001b[0;34m\u001b[0m\u001b[0m\n",
            "\u001b[0;32m/usr/local/lib/python3.7/dist-packages/tensorflow/python/eager/def_function.py\u001b[0m in \u001b[0;36m__call__\u001b[0;34m(self, *args, **kwds)\u001b[0m\n\u001b[1;32m    883\u001b[0m \u001b[0;34m\u001b[0m\u001b[0m\n\u001b[1;32m    884\u001b[0m       \u001b[0;32mwith\u001b[0m \u001b[0mOptionalXlaContext\u001b[0m\u001b[0;34m(\u001b[0m\u001b[0mself\u001b[0m\u001b[0;34m.\u001b[0m\u001b[0m_jit_compile\u001b[0m\u001b[0;34m)\u001b[0m\u001b[0;34m:\u001b[0m\u001b[0;34m\u001b[0m\u001b[0;34m\u001b[0m\u001b[0m\n\u001b[0;32m--> 885\u001b[0;31m         \u001b[0mresult\u001b[0m \u001b[0;34m=\u001b[0m \u001b[0mself\u001b[0m\u001b[0;34m.\u001b[0m\u001b[0m_call\u001b[0m\u001b[0;34m(\u001b[0m\u001b[0;34m*\u001b[0m\u001b[0margs\u001b[0m\u001b[0;34m,\u001b[0m \u001b[0;34m**\u001b[0m\u001b[0mkwds\u001b[0m\u001b[0;34m)\u001b[0m\u001b[0;34m\u001b[0m\u001b[0;34m\u001b[0m\u001b[0m\n\u001b[0m\u001b[1;32m    886\u001b[0m \u001b[0;34m\u001b[0m\u001b[0m\n\u001b[1;32m    887\u001b[0m       \u001b[0mnew_tracing_count\u001b[0m \u001b[0;34m=\u001b[0m \u001b[0mself\u001b[0m\u001b[0;34m.\u001b[0m\u001b[0mexperimental_get_tracing_count\u001b[0m\u001b[0;34m(\u001b[0m\u001b[0;34m)\u001b[0m\u001b[0;34m\u001b[0m\u001b[0;34m\u001b[0m\u001b[0m\n",
            "\u001b[0;32m/usr/local/lib/python3.7/dist-packages/tensorflow/python/eager/def_function.py\u001b[0m in \u001b[0;36m_call\u001b[0;34m(self, *args, **kwds)\u001b[0m\n\u001b[1;32m    915\u001b[0m       \u001b[0;31m# In this case we have created variables on the first call, so we run the\u001b[0m\u001b[0;34m\u001b[0m\u001b[0;34m\u001b[0m\u001b[0;34m\u001b[0m\u001b[0m\n\u001b[1;32m    916\u001b[0m       \u001b[0;31m# defunned version which is guaranteed to never create variables.\u001b[0m\u001b[0;34m\u001b[0m\u001b[0;34m\u001b[0m\u001b[0;34m\u001b[0m\u001b[0m\n\u001b[0;32m--> 917\u001b[0;31m       \u001b[0;32mreturn\u001b[0m \u001b[0mself\u001b[0m\u001b[0;34m.\u001b[0m\u001b[0m_stateless_fn\u001b[0m\u001b[0;34m(\u001b[0m\u001b[0;34m*\u001b[0m\u001b[0margs\u001b[0m\u001b[0;34m,\u001b[0m \u001b[0;34m**\u001b[0m\u001b[0mkwds\u001b[0m\u001b[0;34m)\u001b[0m  \u001b[0;31m# pylint: disable=not-callable\u001b[0m\u001b[0;34m\u001b[0m\u001b[0;34m\u001b[0m\u001b[0m\n\u001b[0m\u001b[1;32m    918\u001b[0m     \u001b[0;32melif\u001b[0m \u001b[0mself\u001b[0m\u001b[0;34m.\u001b[0m\u001b[0m_stateful_fn\u001b[0m \u001b[0;32mis\u001b[0m \u001b[0;32mnot\u001b[0m \u001b[0;32mNone\u001b[0m\u001b[0;34m:\u001b[0m\u001b[0;34m\u001b[0m\u001b[0;34m\u001b[0m\u001b[0m\n\u001b[1;32m    919\u001b[0m       \u001b[0;31m# Release the lock early so that multiple threads can perform the call\u001b[0m\u001b[0;34m\u001b[0m\u001b[0;34m\u001b[0m\u001b[0;34m\u001b[0m\u001b[0m\n",
            "\u001b[0;32m/usr/local/lib/python3.7/dist-packages/tensorflow/python/eager/function.py\u001b[0m in \u001b[0;36m__call__\u001b[0;34m(self, *args, **kwargs)\u001b[0m\n\u001b[1;32m   3038\u001b[0m        filtered_flat_args) = self._maybe_define_function(args, kwargs)\n\u001b[1;32m   3039\u001b[0m     return graph_function._call_flat(\n\u001b[0;32m-> 3040\u001b[0;31m         filtered_flat_args, captured_inputs=graph_function.captured_inputs)  # pylint: disable=protected-access\n\u001b[0m\u001b[1;32m   3041\u001b[0m \u001b[0;34m\u001b[0m\u001b[0m\n\u001b[1;32m   3042\u001b[0m   \u001b[0;34m@\u001b[0m\u001b[0mproperty\u001b[0m\u001b[0;34m\u001b[0m\u001b[0;34m\u001b[0m\u001b[0m\n",
            "\u001b[0;32m/usr/local/lib/python3.7/dist-packages/tensorflow/python/eager/function.py\u001b[0m in \u001b[0;36m_call_flat\u001b[0;34m(self, args, captured_inputs, cancellation_manager)\u001b[0m\n\u001b[1;32m   1962\u001b[0m       \u001b[0;31m# No tape is watching; skip to running the function.\u001b[0m\u001b[0;34m\u001b[0m\u001b[0;34m\u001b[0m\u001b[0;34m\u001b[0m\u001b[0m\n\u001b[1;32m   1963\u001b[0m       return self._build_call_outputs(self._inference_function.call(\n\u001b[0;32m-> 1964\u001b[0;31m           ctx, args, cancellation_manager=cancellation_manager))\n\u001b[0m\u001b[1;32m   1965\u001b[0m     forward_backward = self._select_forward_and_backward_functions(\n\u001b[1;32m   1966\u001b[0m         \u001b[0margs\u001b[0m\u001b[0;34m,\u001b[0m\u001b[0;34m\u001b[0m\u001b[0;34m\u001b[0m\u001b[0m\n",
            "\u001b[0;32m/usr/local/lib/python3.7/dist-packages/tensorflow/python/eager/function.py\u001b[0m in \u001b[0;36mcall\u001b[0;34m(self, ctx, args, cancellation_manager)\u001b[0m\n\u001b[1;32m    594\u001b[0m               \u001b[0minputs\u001b[0m\u001b[0;34m=\u001b[0m\u001b[0margs\u001b[0m\u001b[0;34m,\u001b[0m\u001b[0;34m\u001b[0m\u001b[0;34m\u001b[0m\u001b[0m\n\u001b[1;32m    595\u001b[0m               \u001b[0mattrs\u001b[0m\u001b[0;34m=\u001b[0m\u001b[0mattrs\u001b[0m\u001b[0;34m,\u001b[0m\u001b[0;34m\u001b[0m\u001b[0;34m\u001b[0m\u001b[0m\n\u001b[0;32m--> 596\u001b[0;31m               ctx=ctx)\n\u001b[0m\u001b[1;32m    597\u001b[0m         \u001b[0;32melse\u001b[0m\u001b[0;34m:\u001b[0m\u001b[0;34m\u001b[0m\u001b[0;34m\u001b[0m\u001b[0m\n\u001b[1;32m    598\u001b[0m           outputs = execute.execute_with_cancellation(\n",
            "\u001b[0;32m/usr/local/lib/python3.7/dist-packages/tensorflow/python/eager/execute.py\u001b[0m in \u001b[0;36mquick_execute\u001b[0;34m(op_name, num_outputs, inputs, attrs, ctx, name)\u001b[0m\n\u001b[1;32m     58\u001b[0m     \u001b[0mctx\u001b[0m\u001b[0;34m.\u001b[0m\u001b[0mensure_initialized\u001b[0m\u001b[0;34m(\u001b[0m\u001b[0;34m)\u001b[0m\u001b[0;34m\u001b[0m\u001b[0;34m\u001b[0m\u001b[0m\n\u001b[1;32m     59\u001b[0m     tensors = pywrap_tfe.TFE_Py_Execute(ctx._handle, device_name, op_name,\n\u001b[0;32m---> 60\u001b[0;31m                                         inputs, attrs, num_outputs)\n\u001b[0m\u001b[1;32m     61\u001b[0m   \u001b[0;32mexcept\u001b[0m \u001b[0mcore\u001b[0m\u001b[0;34m.\u001b[0m\u001b[0m_NotOkStatusException\u001b[0m \u001b[0;32mas\u001b[0m \u001b[0me\u001b[0m\u001b[0;34m:\u001b[0m\u001b[0;34m\u001b[0m\u001b[0;34m\u001b[0m\u001b[0m\n\u001b[1;32m     62\u001b[0m     \u001b[0;32mif\u001b[0m \u001b[0mname\u001b[0m \u001b[0;32mis\u001b[0m \u001b[0;32mnot\u001b[0m \u001b[0;32mNone\u001b[0m\u001b[0;34m:\u001b[0m\u001b[0;34m\u001b[0m\u001b[0;34m\u001b[0m\u001b[0m\n",
            "\u001b[0;31mKeyboardInterrupt\u001b[0m: "
          ]
        }
      ]
    },
    {
      "cell_type": "code",
      "metadata": {
        "execution": {
          "iopub.status.busy": "2021-06-19T11:06:32.92324Z",
          "iopub.execute_input": "2021-06-19T11:06:32.924059Z",
          "iopub.status.idle": "2021-06-19T11:06:33.375722Z",
          "shell.execute_reply.started": "2021-06-19T11:06:32.924009Z",
          "shell.execute_reply": "2021-06-19T11:06:33.374545Z"
        },
        "trusted": true,
        "colab": {
          "base_uri": "https://localhost:8080/",
          "height": 545
        },
        "id": "z7ByxYjxpffO",
        "outputId": "cdb4c833-d8b6-415d-cc7a-3180f5466156"
      },
      "source": [
        "%matplotlib inline\n",
        "import matplotlib.pyplot as plt\n",
        "acc = history.history['acc']\n",
        "val_acc = history.history['val_acc']\n",
        "loss = history.history['loss']\n",
        "val_loss = history.history['val_loss']\n",
        "\n",
        "epochs = range(len(acc))\n",
        "\n",
        "plt.plot(epochs, acc, 'r', label='Training accuracy')\n",
        "plt.plot(epochs, val_acc, 'b', label='Validation accuracy')\n",
        "plt.title('Training and validation accuracy')\n",
        "plt.legend(loc=0)\n",
        "plt.figure()\n",
        "\n",
        "plt.plot(epochs, loss, 'r', label='Training Loss')\n",
        "plt.plot(epochs, val_loss, 'b', label='Validation Loss')\n",
        "plt.title('Training and validation loss')\n",
        "plt.legend()\n",
        "\n",
        "plt.show()"
      ],
      "execution_count": null,
      "outputs": [
        {
          "output_type": "display_data",
          "data": {
            "image/png": "[encoded data removed]",
            "text/plain": [
              "<Figure size 432x288 with 1 Axes>"
            ]
          },
          "metadata": {
            "needs_background": "light"
          }
        },
        {
          "output_type": "display_data",
          "data": {
            "image/png": "[encoded data removed]",
            "text/plain": [
              "<Figure size 432x288 with 1 Axes>"
            ]
          },
          "metadata": {
            "needs_background": "light"
          }
        }
      ]
    },
    {
      "cell_type": "code",
      "metadata": {
        "execution": {
          "iopub.status.busy": "2021-06-19T11:06:33.377297Z",
          "iopub.execute_input": "2021-06-19T11:06:33.377771Z",
          "iopub.status.idle": "2021-06-19T11:06:43.25472Z",
          "shell.execute_reply.started": "2021-06-19T11:06:33.377729Z",
          "shell.execute_reply": "2021-06-19T11:06:43.253453Z"
        },
        "trusted": true,
        "colab": {
          "base_uri": "https://localhost:8080/"
        },
        "id": "fz72QOqzpffP",
        "outputId": "47c4f12f-6b60-4217-fa05-955cd57f36c8"
      },
      "source": [
        "val_acc1 = model1.evaluate(validation_generator)[1]\n",
        "print(\"validation_accuracy: \" + str(val_acc1))"
      ],
      "execution_count": null,
      "outputs": [
        {
          "output_type": "stream",
          "text": [
            "7/7 [==============================] - 8s 1s/step - loss: 0.7592 - acc: 0.9749\n",
            "validation_accuracy: 0.9748743772506714\n"
          ],
          "name": "stdout"
        }
      ]
    },
    {
      "cell_type": "markdown",
      "metadata": {
        "id": "T-iUlGyRpffQ"
      },
      "source": [
        "### EfficientNet B0"
      ]
    },
    {
      "cell_type": "code",
      "metadata": {
        "execution": {
          "iopub.status.busy": "2021-06-19T11:06:43.258242Z",
          "iopub.execute_input": "2021-06-19T11:06:43.258537Z",
          "iopub.status.idle": "2021-06-19T11:06:43.266701Z",
          "shell.execute_reply.started": "2021-06-19T11:06:43.258504Z",
          "shell.execute_reply": "2021-06-19T11:06:43.265449Z"
        },
        "trusted": true,
        "id": "QPaq-OBnpffQ"
      },
      "source": [
        "from tensorflow.keras.applications import EfficientNetB0"
      ],
      "execution_count": null,
      "outputs": []
    },
    {
      "cell_type": "code",
      "metadata": {
        "execution": {
          "iopub.status.busy": "2021-06-19T11:06:43.26866Z",
          "iopub.execute_input": "2021-06-19T11:06:43.269166Z",
          "iopub.status.idle": "2021-06-19T11:06:47.015001Z",
          "shell.execute_reply.started": "2021-06-19T11:06:43.269122Z",
          "shell.execute_reply": "2021-06-19T11:06:47.013867Z"
        },
        "trusted": true,
        "id": "KkKAfksdpffQ"
      },
      "source": [
        "efficientnet_b0 = EfficientNetB0(include_top=False,\n",
        "                             weights=\"imagenet\",\n",
        "                             input_shape=(256,256,3))\n",
        "efficientnet_b0.trainable = False"
      ],
      "execution_count": null,
      "outputs": []
    },
    {
      "cell_type": "code",
      "metadata": {
        "execution": {
          "iopub.status.busy": "2021-06-19T11:06:47.016618Z",
          "iopub.execute_input": "2021-06-19T11:06:47.017068Z",
          "iopub.status.idle": "2021-06-19T11:06:47.093258Z",
          "shell.execute_reply.started": "2021-06-19T11:06:47.017026Z",
          "shell.execute_reply": "2021-06-19T11:06:47.092235Z"
        },
        "trusted": true,
        "id": "oZT9vVutpffR"
      },
      "source": [
        "x = layers.Flatten()(efficientnet_b0.output)\n",
        "x = layers.BatchNormalization()(x)\n",
        "x = layers.Dense(1024,activation='relu')(x)\n",
        "x = layers.Dropout(0.2)(x)                  \n",
        "x = layers.Dense(1,activation='sigmoid')(x)           \n",
        "\n",
        "model2 = Model(efficientnet_b0.input, x) \n",
        "\n",
        "model2.compile(optimizer = Adam(lr=0.0001), \n",
        "               loss = 'binary_crossentropy', \n",
        "               metrics =['acc'])"
      ],
      "execution_count": null,
      "outputs": []
    },
    {
      "cell_type": "code",
      "metadata": {
        "scrolled": true,
        "execution": {
          "iopub.status.busy": "2021-06-19T11:06:47.094837Z",
          "iopub.execute_input": "2021-06-19T11:06:47.095258Z",
          "iopub.status.idle": "2021-06-19T11:44:18.337153Z",
          "shell.execute_reply.started": "2021-06-19T11:06:47.095216Z",
          "shell.execute_reply": "2021-06-19T11:44:18.335917Z"
        },
        "trusted": true,
        "id": "tnm3Egj3pffR"
      },
      "source": [
        "history = model2.fit_generator(train_generator,\n",
        "                               epochs=50,\n",
        "                               verbose=0,\n",
        "                               validation_data=validation_generator)"
      ],
      "execution_count": null,
      "outputs": []
    },
    {
      "cell_type": "code",
      "metadata": {
        "execution": {
          "iopub.status.busy": "2021-06-19T11:44:18.339414Z",
          "iopub.execute_input": "2021-06-19T11:44:18.339875Z",
          "iopub.status.idle": "2021-06-19T11:44:18.759422Z",
          "shell.execute_reply.started": "2021-06-19T11:44:18.339801Z",
          "shell.execute_reply": "2021-06-19T11:44:18.757996Z"
        },
        "trusted": true,
        "id": "QusNKIPXpffR"
      },
      "source": [
        "acc = history.history['acc']\n",
        "val_acc = history.history['val_acc']\n",
        "loss = history.history['loss']\n",
        "val_loss = history.history['val_loss']\n",
        "\n",
        "epochs = range(len(acc))\n",
        "\n",
        "plt.plot(epochs, acc, 'r', label='Training accuracy')\n",
        "plt.plot(epochs, val_acc, 'b', label='Validation accuracy')\n",
        "plt.title('Training and validation accuracy')\n",
        "plt.legend(loc=0)\n",
        "plt.figure()\n",
        "\n",
        "plt.plot(epochs, loss, 'r', label='Training Loss')\n",
        "plt.plot(epochs, val_loss, 'b', label='Validation Loss')\n",
        "plt.title('Training and validation loss')\n",
        "plt.legend()\n",
        "\n",
        "plt.show()"
      ],
      "execution_count": null,
      "outputs": []
    },
    {
      "cell_type": "code",
      "metadata": {
        "execution": {
          "iopub.status.busy": "2021-06-19T11:44:18.761458Z",
          "iopub.execute_input": "2021-06-19T11:44:18.762027Z",
          "iopub.status.idle": "2021-06-19T11:44:28.82794Z",
          "shell.execute_reply.started": "2021-06-19T11:44:18.761885Z",
          "shell.execute_reply": "2021-06-19T11:44:28.826777Z"
        },
        "trusted": true,
        "id": "bRwqfAtypffS"
      },
      "source": [
        "val_acc2 = model2.evaluate(validation_generator)[1]\n",
        "print(\"validation_accuracy: \" + str(val_acc2))"
      ],
      "execution_count": null,
      "outputs": []
    },
    {
      "cell_type": "markdown",
      "metadata": {
        "id": "RRZEsllepffT"
      },
      "source": [
        "### EfficientNet B7"
      ]
    },
    {
      "cell_type": "code",
      "metadata": {
        "execution": {
          "iopub.status.busy": "2021-06-19T11:44:28.832723Z",
          "iopub.execute_input": "2021-06-19T11:44:28.835455Z",
          "iopub.status.idle": "2021-06-19T11:44:28.842698Z",
          "shell.execute_reply.started": "2021-06-19T11:44:28.83538Z",
          "shell.execute_reply": "2021-06-19T11:44:28.841588Z"
        },
        "trusted": true,
        "id": "ttjFe5MEpffT"
      },
      "source": [
        "from tensorflow.keras.applications import EfficientNetB7"
      ],
      "execution_count": null,
      "outputs": []
    },
    {
      "cell_type": "code",
      "metadata": {
        "execution": {
          "iopub.status.busy": "2021-06-19T11:44:28.845766Z",
          "iopub.execute_input": "2021-06-19T11:44:28.848087Z",
          "iopub.status.idle": "2021-06-19T11:44:43.484381Z",
          "shell.execute_reply.started": "2021-06-19T11:44:28.848039Z",
          "shell.execute_reply": "2021-06-19T11:44:43.483254Z"
        },
        "trusted": true,
        "id": "aOK-S6qkpffT"
      },
      "source": [
        "efficientnet_b7 = EfficientNetB7(include_top=False,\n",
        "                                 weights=\"imagenet\",\n",
        "                                 input_shape=(256,256,3))\n",
        "efficientnet_b7.trainable = False"
      ],
      "execution_count": null,
      "outputs": []
    },
    {
      "cell_type": "code",
      "metadata": {
        "execution": {
          "iopub.status.busy": "2021-06-19T11:44:43.486262Z",
          "iopub.execute_input": "2021-06-19T11:44:43.486755Z",
          "iopub.status.idle": "2021-06-19T11:44:43.616074Z",
          "shell.execute_reply.started": "2021-06-19T11:44:43.486711Z",
          "shell.execute_reply": "2021-06-19T11:44:43.614813Z"
        },
        "trusted": true,
        "id": "tUQjkm0YpffU"
      },
      "source": [
        "x = layers.Flatten()(efficientnet_b7.output)\n",
        "x = layers.BatchNormalization()(x)\n",
        "x = layers.Dense(1024,activation='relu')(x)\n",
        "x = layers.Dropout(0.2)(x)                  \n",
        "x = layers.Dense(1,activation='sigmoid')(x)           \n",
        "\n",
        "model3 = Model(efficientnet_b7.input, x) \n",
        "\n",
        "model3.compile(optimizer = Adam(lr=0.0001), \n",
        "               loss = 'binary_crossentropy', \n",
        "               metrics =['acc'])"
      ],
      "execution_count": null,
      "outputs": []
    },
    {
      "cell_type": "code",
      "metadata": {
        "execution": {
          "iopub.status.busy": "2021-06-19T11:44:43.617824Z",
          "iopub.execute_input": "2021-06-19T11:44:43.618266Z",
          "iopub.status.idle": "2021-06-19T12:24:47.088982Z",
          "shell.execute_reply.started": "2021-06-19T11:44:43.618223Z",
          "shell.execute_reply": "2021-06-19T12:24:47.087828Z"
        },
        "trusted": true,
        "id": "PAy5YhsgpffV"
      },
      "source": [
        "history = model3.fit_generator(train_generator,epochs=50,\n",
        "                               verbose=0,\n",
        "                               validation_data=validation_generator)"
      ],
      "execution_count": null,
      "outputs": []
    },
    {
      "cell_type": "code",
      "metadata": {
        "execution": {
          "iopub.status.busy": "2021-06-19T12:24:47.091143Z",
          "iopub.execute_input": "2021-06-19T12:24:47.091855Z",
          "iopub.status.idle": "2021-06-19T12:24:47.476012Z",
          "shell.execute_reply.started": "2021-06-19T12:24:47.091809Z",
          "shell.execute_reply": "2021-06-19T12:24:47.474895Z"
        },
        "jupyter": {
          "source_hidden": true
        },
        "trusted": true,
        "id": "ugO7koKApffV"
      },
      "source": [
        "acc = history.history['acc']\n",
        "val_acc = history.history['val_acc']\n",
        "loss = history.history['loss']\n",
        "val_loss = history.history['val_loss']\n",
        "\n",
        "epochs = range(len(acc))\n",
        "\n",
        "plt.plot(epochs, acc, 'r', label='Training accuracy')\n",
        "plt.plot(epochs, val_acc, 'b', label='Validation accuracy')\n",
        "plt.title('Training and validation accuracy')\n",
        "plt.legend(loc=0)\n",
        "plt.figure()\n",
        "\n",
        "plt.plot(epochs, loss, 'r', label='Training Loss')\n",
        "plt.plot(epochs, val_loss, 'b', label='Validation Loss')\n",
        "plt.title('Training and validation loss')\n",
        "plt.legend()\n",
        "\n",
        "plt.show()"
      ],
      "execution_count": null,
      "outputs": []
    },
    {
      "cell_type": "code",
      "metadata": {
        "execution": {
          "iopub.status.busy": "2021-06-19T12:24:47.480491Z",
          "iopub.execute_input": "2021-06-19T12:24:47.480816Z",
          "iopub.status.idle": "2021-06-19T12:24:58.478461Z",
          "shell.execute_reply.started": "2021-06-19T12:24:47.480771Z",
          "shell.execute_reply": "2021-06-19T12:24:58.47712Z"
        },
        "trusted": true,
        "id": "FN0eKGIEpffV"
      },
      "source": [
        "val_acc3 = model3.evaluate(validation_generator)[1]\n",
        "print(\"validation_accuracy: \" + str(val_acc3))"
      ],
      "execution_count": null,
      "outputs": []
    },
    {
      "cell_type": "markdown",
      "metadata": {
        "id": "7EuOImiCpffV"
      },
      "source": [
        "### Model Comparison"
      ]
    },
    {
      "cell_type": "code",
      "metadata": {
        "execution": {
          "iopub.status.busy": "2021-06-19T12:29:52.903286Z",
          "iopub.execute_input": "2021-06-19T12:29:52.903688Z",
          "iopub.status.idle": "2021-06-19T12:29:53.033046Z",
          "shell.execute_reply.started": "2021-06-19T12:29:52.903652Z",
          "shell.execute_reply": "2021-06-19T12:29:53.031634Z"
        },
        "trusted": true,
        "id": "lC8fYW9TpffW"
      },
      "source": [
        "fig = plt.figure()\n",
        "ax = fig.add_axes([0,0,1,1])\n",
        "acc = [val_acc1,val_acc2,val_acc3]\n",
        "model = ['InceptionV3','EfficientNetB0','EfficientNetB7']\n",
        "ax.bar(model,acc)\n",
        "plt.show()"
      ],
      "execution_count": null,
      "outputs": []
    }
  ]
}