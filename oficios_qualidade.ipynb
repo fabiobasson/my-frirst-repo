{
  "nbformat": 4,
  "nbformat_minor": 0,
  "metadata": {
    "colab": {
      "provenance": [],
      "authorship_tag": "ABX9TyPPCvqbMdplL8xZrLdBvKUr",
      "include_colab_link": true
    },
    "kernelspec": {
      "name": "python3",
      "display_name": "Python 3"
    },
    "language_info": {
      "name": "python"
    }
  },
  "cells": [
    {
      "cell_type": "markdown",
      "metadata": {
        "id": "view-in-github",
        "colab_type": "text"
      },
      "source": [
        "<a href=\"https://colab.research.google.com/github/fabiobasson/my-repo/blob/main/oficios_qualidade.ipynb\" target=\"_parent\"><img src=\"https://colab.research.google.com/assets/colab-badge.svg\" alt=\"Open In Colab\"/></a>"
      ]
    },
    {
      "cell_type": "code",
      "source": [
        "!git clone https://www.github.com/camelot-dev/camelot\n",
        "!cd camelot\n",
        "!pip install \".[cv]\""
      ],
      "metadata": {
        "colab": {
          "base_uri": "https://localhost:8080/"
        },
        "id": "krrBhjUclYL6",
        "outputId": "dc0e792e-f010-4e1e-d1a5-e78467c59850"
      },
      "execution_count": 6,
      "outputs": [
        {
          "output_type": "stream",
          "name": "stdout",
          "text": [
            "Cloning into 'camelot'...\n",
            "warning: redirecting to https://github.com/camelot-dev/camelot.git/\n",
            "remote: Enumerating objects: 3878, done.\u001b[K\n",
            "remote: Counting objects: 100% (47/47), done.\u001b[K\n",
            "remote: Compressing objects: 100% (34/34), done.\u001b[K\n",
            "remote: Total 3878 (delta 18), reused 30 (delta 12), pack-reused 3831\u001b[K\n",
            "Receiving objects: 100% (3878/3878), 16.68 MiB | 10.75 MiB/s, done.\n",
            "Resolving deltas: 100% (2517/2517), done.\n",
            "\u001b[31mERROR: Directory '.[cv]' is not installable. Neither 'setup.py' nor 'pyproject.toml' found.\u001b[0m\u001b[31m\n",
            "\u001b[0m"
          ]
        }
      ]
    },
    {
      "cell_type": "code",
      "source": [
        "import camelot\n",
        "tables = camelot.read_pdf('Laudo_3047648.pdf')"
      ],
      "metadata": {
        "id": "UR14L8OBl_qg"
      },
      "execution_count": 9,
      "outputs": []
    },
    {
      "cell_type": "code",
      "source": [
        "tables.n"
      ],
      "metadata": {
        "colab": {
          "base_uri": "https://localhost:8080/"
        },
        "id": "yYyraUeBmC_P",
        "outputId": "017efc7c-dd03-4828-c3b5-9f5c923a726c"
      },
      "execution_count": 10,
      "outputs": [
        {
          "output_type": "execute_result",
          "data": {
            "text/plain": [
              "1"
            ]
          },
          "metadata": {},
          "execution_count": 10
        }
      ]
    },
    {
      "cell_type": "code",
      "source": [
        "print(tables[0].parsing_report)\n",
        ">>> {'accuracy': 100.0, 'whitespace': 0.0, 'order': 1, 'page': 1}\n",
        "for i in range(tables.n):\n",
        "    print(tables[i].parsing_report)\n",
        ">>> {'accuracy': 100.0, 'whitespace': 0.0, 'order': 1, 'page': 1}\n",
        ">>> {'accuracy': 100.0, 'whitespace': 0.0, 'order': 2, 'page': 1}"
      ],
      "metadata": {
        "colab": {
          "base_uri": "https://localhost:8080/"
        },
        "id": "Jw2GR1PamSJp",
        "outputId": "ee43b9b5-cacd-40af-c3cc-8551390da1aa"
      },
      "execution_count": 11,
      "outputs": [
        {
          "output_type": "stream",
          "name": "stdout",
          "text": [
            "{'accuracy': 100.0, 'whitespace': 41.07, 'order': 1, 'page': 1}\n",
            "{'accuracy': 100.0, 'whitespace': 41.07, 'order': 1, 'page': 1}\n"
          ]
        },
        {
          "output_type": "execute_result",
          "data": {
            "text/plain": [
              "{'accuracy': 100.0, 'whitespace': 0.0, 'order': 2, 'page': 1}"
            ]
          },
          "metadata": {},
          "execution_count": 11
        }
      ]
    },
    {
      "cell_type": "code",
      "source": [
        "print(tables[0])\n",
        "\n",
        "for i in range(tables.n):\n",
        "    print(tables[i])\n"
      ],
      "metadata": {
        "colab": {
          "base_uri": "https://localhost:8080/"
        },
        "id": "_L60urXBmZEQ",
        "outputId": "7df788ed-199b-47ef-d2c5-a72415dd775b"
      },
      "execution_count": 13,
      "outputs": [
        {
          "output_type": "stream",
          "name": "stdout",
          "text": [
            "<Table shape=(14, 4)>\n",
            "<Table shape=(14, 4)>\n"
          ]
        }
      ]
    },
    {
      "cell_type": "code",
      "source": [
        "tables[0].to_csv('nse_holiday_list_table1.csv')\n"
      ],
      "metadata": {
        "id": "c9H-wNICmd4A"
      },
      "execution_count": 18,
      "outputs": []
    },
    {
      "cell_type": "code",
      "source": [
        "tables[0].df"
      ],
      "metadata": {
        "colab": {
          "base_uri": "https://localhost:8080/",
          "height": 488
        },
        "id": "_X-bQl99m4k8",
        "outputId": "5afa04d9-076f-4bfa-ed9d-2d40aaeb5ef9"
      },
      "execution_count": 19,
      "outputs": [
        {
          "output_type": "execute_result",
          "data": {
            "text/plain": [
              "                                                    0                     1  \\\n",
              "0                       3. RELAÇÃO DE DADOS RECEBIDOS                         \n",
              "1                                     Tipos de Dados:  Norma de Referência:   \n",
              "2   3.1. Arquivos Auxiliares - Esquemas de Ferrame...      RANP n° 880/2022   \n",
              "3        3.2. Arquivos Auxiliares - Dados Direcionais      RANP n° 880/2022   \n",
              "4   3.3. Arquivos Auxiliares - Relatório de Campo ...      RANP n° 880/2022   \n",
              "5                    3.4. Perfis Durante a Perfuração      RANP n° 880/2022   \n",
              "6                           3.5. Perfis Convencionais      RANP n° 880/2022   \n",
              "7    3.6. Perfis Especiais - Teste de Formação a Cabo      RANP n° 880/2022   \n",
              "8             3.7. Perfis Especiais - Sísmica de Poço      RANP n° 880/2022   \n",
              "9          3.8. Perfis Especiais - Amostrador Lateral      RANP n° 880/2022   \n",
              "10                     3.9. Perfil Digital Processado      RANP n° 880/2022   \n",
              "11                              3.10. Perfil Composto      RANP n° 880/2022   \n",
              "12  3.11. Perfil de Acompanhamento Geológico (PAG)...      RANP n° 880/2022   \n",
              "13                            3.12. Teste de Formação                 ANP08   \n",
              "\n",
              "                               2 3  \n",
              "0                                   \n",
              "1   Situação dos Dados no BDEP*:    \n",
              "2                   NÃO CONFORME    \n",
              "3                       APROVADO    \n",
              "4                                   \n",
              "5                       APROVADO    \n",
              "6                       APROVADO    \n",
              "7                                   \n",
              "8                                   \n",
              "9                                   \n",
              "10                      APROVADO    \n",
              "11                                  \n",
              "12                                  \n",
              "13                                  "
            ],
            "text/html": [
              "\n",
              "  <div id=\"df-b8e101fc-0347-40e6-832f-b0c7df8e3ff4\">\n",
              "    <div class=\"colab-df-container\">\n",
              "      <div>\n",
              "<style scoped>\n",
              "    .dataframe tbody tr th:only-of-type {\n",
              "        vertical-align: middle;\n",
              "    }\n",
              "\n",
              "    .dataframe tbody tr th {\n",
              "        vertical-align: top;\n",
              "    }\n",
              "\n",
              "    .dataframe thead th {\n",
              "        text-align: right;\n",
              "    }\n",
              "</style>\n",
              "<table border=\"1\" class=\"dataframe\">\n",
              "  <thead>\n",
              "    <tr style=\"text-align: right;\">\n",
              "      <th></th>\n",
              "      <th>0</th>\n",
              "      <th>1</th>\n",
              "      <th>2</th>\n",
              "      <th>3</th>\n",
              "    </tr>\n",
              "  </thead>\n",
              "  <tbody>\n",
              "    <tr>\n",
              "      <th>0</th>\n",
              "      <td>3. RELAÇÃO DE DADOS RECEBIDOS</td>\n",
              "      <td></td>\n",
              "      <td></td>\n",
              "      <td></td>\n",
              "    </tr>\n",
              "    <tr>\n",
              "      <th>1</th>\n",
              "      <td>Tipos de Dados:</td>\n",
              "      <td>Norma de Referência:</td>\n",
              "      <td>Situação dos Dados no BDEP*:</td>\n",
              "      <td></td>\n",
              "    </tr>\n",
              "    <tr>\n",
              "      <th>2</th>\n",
              "      <td>3.1. Arquivos Auxiliares - Esquemas de Ferrame...</td>\n",
              "      <td>RANP n° 880/2022</td>\n",
              "      <td>NÃO CONFORME</td>\n",
              "      <td></td>\n",
              "    </tr>\n",
              "    <tr>\n",
              "      <th>3</th>\n",
              "      <td>3.2. Arquivos Auxiliares - Dados Direcionais</td>\n",
              "      <td>RANP n° 880/2022</td>\n",
              "      <td>APROVADO</td>\n",
              "      <td></td>\n",
              "    </tr>\n",
              "    <tr>\n",
              "      <th>4</th>\n",
              "      <td>3.3. Arquivos Auxiliares - Relatório de Campo ...</td>\n",
              "      <td>RANP n° 880/2022</td>\n",
              "      <td></td>\n",
              "      <td></td>\n",
              "    </tr>\n",
              "    <tr>\n",
              "      <th>5</th>\n",
              "      <td>3.4. Perfis Durante a Perfuração</td>\n",
              "      <td>RANP n° 880/2022</td>\n",
              "      <td>APROVADO</td>\n",
              "      <td></td>\n",
              "    </tr>\n",
              "    <tr>\n",
              "      <th>6</th>\n",
              "      <td>3.5. Perfis Convencionais</td>\n",
              "      <td>RANP n° 880/2022</td>\n",
              "      <td>APROVADO</td>\n",
              "      <td></td>\n",
              "    </tr>\n",
              "    <tr>\n",
              "      <th>7</th>\n",
              "      <td>3.6. Perfis Especiais - Teste de Formação a Cabo</td>\n",
              "      <td>RANP n° 880/2022</td>\n",
              "      <td></td>\n",
              "      <td></td>\n",
              "    </tr>\n",
              "    <tr>\n",
              "      <th>8</th>\n",
              "      <td>3.7. Perfis Especiais - Sísmica de Poço</td>\n",
              "      <td>RANP n° 880/2022</td>\n",
              "      <td></td>\n",
              "      <td></td>\n",
              "    </tr>\n",
              "    <tr>\n",
              "      <th>9</th>\n",
              "      <td>3.8. Perfis Especiais - Amostrador Lateral</td>\n",
              "      <td>RANP n° 880/2022</td>\n",
              "      <td></td>\n",
              "      <td></td>\n",
              "    </tr>\n",
              "    <tr>\n",
              "      <th>10</th>\n",
              "      <td>3.9. Perfil Digital Processado</td>\n",
              "      <td>RANP n° 880/2022</td>\n",
              "      <td>APROVADO</td>\n",
              "      <td></td>\n",
              "    </tr>\n",
              "    <tr>\n",
              "      <th>11</th>\n",
              "      <td>3.10. Perfil Composto</td>\n",
              "      <td>RANP n° 880/2022</td>\n",
              "      <td></td>\n",
              "      <td></td>\n",
              "    </tr>\n",
              "    <tr>\n",
              "      <th>12</th>\n",
              "      <td>3.11. Perfil de Acompanhamento Geológico (PAG)...</td>\n",
              "      <td>RANP n° 880/2022</td>\n",
              "      <td></td>\n",
              "      <td></td>\n",
              "    </tr>\n",
              "    <tr>\n",
              "      <th>13</th>\n",
              "      <td>3.12. Teste de Formação</td>\n",
              "      <td>ANP08</td>\n",
              "      <td></td>\n",
              "      <td></td>\n",
              "    </tr>\n",
              "  </tbody>\n",
              "</table>\n",
              "</div>\n",
              "      <button class=\"colab-df-convert\" onclick=\"convertToInteractive('df-b8e101fc-0347-40e6-832f-b0c7df8e3ff4')\"\n",
              "              title=\"Convert this dataframe to an interactive table.\"\n",
              "              style=\"display:none;\">\n",
              "        \n",
              "  <svg xmlns=\"http://www.w3.org/2000/svg\" height=\"24px\"viewBox=\"0 0 24 24\"\n",
              "       width=\"24px\">\n",
              "    <path d=\"M0 0h24v24H0V0z\" fill=\"none\"/>\n",
              "    <path d=\"M18.56 5.44l.94 2.06.94-2.06 2.06-.94-2.06-.94-.94-2.06-.94 2.06-2.06.94zm-11 1L8.5 8.5l.94-2.06 2.06-.94-2.06-.94L8.5 2.5l-.94 2.06-2.06.94zm10 10l.94 2.06.94-2.06 2.06-.94-2.06-.94-.94-2.06-.94 2.06-2.06.94z\"/><path d=\"M17.41 7.96l-1.37-1.37c-.4-.4-.92-.59-1.43-.59-.52 0-1.04.2-1.43.59L10.3 9.45l-7.72 7.72c-.78.78-.78 2.05 0 2.83L4 21.41c.39.39.9.59 1.41.59.51 0 1.02-.2 1.41-.59l7.78-7.78 2.81-2.81c.8-.78.8-2.07 0-2.86zM5.41 20L4 18.59l7.72-7.72 1.47 1.35L5.41 20z\"/>\n",
              "  </svg>\n",
              "      </button>\n",
              "      \n",
              "  <style>\n",
              "    .colab-df-container {\n",
              "      display:flex;\n",
              "      flex-wrap:wrap;\n",
              "      gap: 12px;\n",
              "    }\n",
              "\n",
              "    .colab-df-convert {\n",
              "      background-color: #E8F0FE;\n",
              "      border: none;\n",
              "      border-radius: 50%;\n",
              "      cursor: pointer;\n",
              "      display: none;\n",
              "      fill: #1967D2;\n",
              "      height: 32px;\n",
              "      padding: 0 0 0 0;\n",
              "      width: 32px;\n",
              "    }\n",
              "\n",
              "    .colab-df-convert:hover {\n",
              "      background-color: #E2EBFA;\n",
              "      box-shadow: 0px 1px 2px rgba(60, 64, 67, 0.3), 0px 1px 3px 1px rgba(60, 64, 67, 0.15);\n",
              "      fill: #174EA6;\n",
              "    }\n",
              "\n",
              "    [theme=dark] .colab-df-convert {\n",
              "      background-color: #3B4455;\n",
              "      fill: #D2E3FC;\n",
              "    }\n",
              "\n",
              "    [theme=dark] .colab-df-convert:hover {\n",
              "      background-color: #434B5C;\n",
              "      box-shadow: 0px 1px 3px 1px rgba(0, 0, 0, 0.15);\n",
              "      filter: drop-shadow(0px 1px 2px rgba(0, 0, 0, 0.3));\n",
              "      fill: #FFFFFF;\n",
              "    }\n",
              "  </style>\n",
              "\n",
              "      <script>\n",
              "        const buttonEl =\n",
              "          document.querySelector('#df-b8e101fc-0347-40e6-832f-b0c7df8e3ff4 button.colab-df-convert');\n",
              "        buttonEl.style.display =\n",
              "          google.colab.kernel.accessAllowed ? 'block' : 'none';\n",
              "\n",
              "        async function convertToInteractive(key) {\n",
              "          const element = document.querySelector('#df-b8e101fc-0347-40e6-832f-b0c7df8e3ff4');\n",
              "          const dataTable =\n",
              "            await google.colab.kernel.invokeFunction('convertToInteractive',\n",
              "                                                     [key], {});\n",
              "          if (!dataTable) return;\n",
              "\n",
              "          const docLinkHtml = 'Like what you see? Visit the ' +\n",
              "            '<a target=\"_blank\" href=https://colab.research.google.com/notebooks/data_table.ipynb>data table notebook</a>'\n",
              "            + ' to learn more about interactive tables.';\n",
              "          element.innerHTML = '';\n",
              "          dataTable['output_type'] = 'display_data';\n",
              "          await google.colab.output.renderOutput(dataTable, element);\n",
              "          const docLink = document.createElement('div');\n",
              "          docLink.innerHTML = docLinkHtml;\n",
              "          element.appendChild(docLink);\n",
              "        }\n",
              "      </script>\n",
              "    </div>\n",
              "  </div>\n",
              "  "
            ]
          },
          "metadata": {},
          "execution_count": 19
        }
      ]
    }
  ]
}