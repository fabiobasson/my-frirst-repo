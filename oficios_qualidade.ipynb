{
  "nbformat": 4,
  "nbformat_minor": 0,
  "metadata": {
    "colab": {
      "provenance": [],
      "authorship_tag": "ABX9TyNkB318/V0xbVI7KrRxerFS",
      "include_colab_link": true
    },
    "kernelspec": {
      "name": "python3",
      "display_name": "Python 3"
    },
    "language_info": {
      "name": "python"
    }
  },
  "cells": [
    {
      "cell_type": "markdown",
      "metadata": {
        "id": "view-in-github",
        "colab_type": "text"
      },
      "source": [
        "<a href=\"https://colab.research.google.com/github/fabiobasson/my-repo/blob/main/oficios_qualidade.ipynb\" target=\"_parent\"><img src=\"https://colab.research.google.com/assets/colab-badge.svg\" alt=\"Open In Colab\"/></a>"
      ]
    },
    {
      "cell_type": "code",
      "source": [
        "! rm -rf camelot"
      ],
      "metadata": {
        "id": "uta-25E8gflL"
      },
      "execution_count": null,
      "outputs": []
    },
    {
      "cell_type": "code",
      "source": [
        "#!git clone https://www.github.com/camelot-dev/camelot\n",
        "#!cd camelot\n",
        "!pip install \"camelot-py[cv]\"\n",
        "\n",
        "!apt-get install ghostscript\n",
        "\n",
        "!pip install 'PyPDF2<3.0'\n",
        "!pip install xlwt"
      ],
      "metadata": {
        "colab": {
          "base_uri": "https://localhost:8080/"
        },
        "id": "krrBhjUclYL6",
        "outputId": "362bed0a-d09d-465c-df11-f3a3f2157331"
      },
      "execution_count": 1,
      "outputs": [
        {
          "output_type": "stream",
          "name": "stdout",
          "text": [
            "Looking in indexes: https://pypi.org/simple, https://us-python.pkg.dev/colab-wheels/public/simple/\n",
            "Collecting camelot-py[cv]\n",
            "  Downloading camelot_py-0.11.0-py3-none-any.whl (40 kB)\n",
            "\u001b[2K     \u001b[90m━━━━━━━━━━━━━━━━━━━━━━━━━━━━━━━━━━━━━━━━\u001b[0m \u001b[32m41.0/41.0 kB\u001b[0m \u001b[31m3.9 MB/s\u001b[0m eta \u001b[36m0:00:00\u001b[0m\n",
            "\u001b[?25hRequirement already satisfied: chardet>=3.0.4 in /usr/local/lib/python3.10/dist-packages (from camelot-py[cv]) (4.0.0)\n",
            "Requirement already satisfied: click>=6.7 in /usr/local/lib/python3.10/dist-packages (from camelot-py[cv]) (8.1.3)\n",
            "Requirement already satisfied: numpy>=1.13.3 in /usr/local/lib/python3.10/dist-packages (from camelot-py[cv]) (1.22.4)\n",
            "Requirement already satisfied: openpyxl>=2.5.8 in /usr/local/lib/python3.10/dist-packages (from camelot-py[cv]) (3.0.10)\n",
            "Requirement already satisfied: pandas>=0.23.4 in /usr/local/lib/python3.10/dist-packages (from camelot-py[cv]) (1.5.3)\n",
            "Collecting pdfminer.six>=20200726 (from camelot-py[cv])\n",
            "  Downloading pdfminer.six-20221105-py3-none-any.whl (5.6 MB)\n",
            "\u001b[2K     \u001b[90m━━━━━━━━━━━━━━━━━━━━━━━━━━━━━━━━━━━━━━━━\u001b[0m \u001b[32m5.6/5.6 MB\u001b[0m \u001b[31m92.4 MB/s\u001b[0m eta \u001b[36m0:00:00\u001b[0m\n",
            "\u001b[?25hCollecting pypdf>=3.0.0 (from camelot-py[cv])\n",
            "  Downloading pypdf-3.9.0-py3-none-any.whl (249 kB)\n",
            "\u001b[2K     \u001b[90m━━━━━━━━━━━━━━━━━━━━━━━━━━━━━━━━━━━━━━\u001b[0m \u001b[32m249.5/249.5 kB\u001b[0m \u001b[31m20.5 MB/s\u001b[0m eta \u001b[36m0:00:00\u001b[0m\n",
            "\u001b[?25hRequirement already satisfied: tabulate>=0.8.9 in /usr/local/lib/python3.10/dist-packages (from camelot-py[cv]) (0.8.10)\n",
            "Collecting ghostscript>=0.7 (from camelot-py[cv])\n",
            "  Downloading ghostscript-0.7-py2.py3-none-any.whl (25 kB)\n",
            "Requirement already satisfied: opencv-python>=3.4.2.17 in /usr/local/lib/python3.10/dist-packages (from camelot-py[cv]) (4.7.0.72)\n",
            "INFO: pip is looking at multiple versions of camelot-py[cv] to determine which version is compatible with other requirements. This could take a while.\n",
            "Collecting camelot-py[cv]\n",
            "  Downloading camelot_py-0.10.1-py3-none-any.whl (40 kB)\n",
            "\u001b[2K     \u001b[90m━━━━━━━━━━━━━━━━━━━━━━━━━━━━━━━━━━━━━━━━\u001b[0m \u001b[32m41.0/41.0 kB\u001b[0m \u001b[31m5.0 MB/s\u001b[0m eta \u001b[36m0:00:00\u001b[0m\n",
            "\u001b[?25hCollecting PyPDF2>=1.26.0 (from camelot-py[cv])\n",
            "  Downloading pypdf2-3.0.1-py3-none-any.whl (232 kB)\n",
            "\u001b[2K     \u001b[90m━━━━━━━━━━━━━━━━━━━━━━━━━━━━━━━━━━━━━━\u001b[0m \u001b[32m232.6/232.6 kB\u001b[0m \u001b[31m25.1 MB/s\u001b[0m eta \u001b[36m0:00:00\u001b[0m\n",
            "\u001b[?25hCollecting camelot-py[cv]\n",
            "  Downloading camelot_py-0.10.0-py3-none-any.whl (40 kB)\n",
            "\u001b[2K     \u001b[90m━━━━━━━━━━━━━━━━━━━━━━━━━━━━━━━━━━━━━━━━\u001b[0m \u001b[32m41.0/41.0 kB\u001b[0m \u001b[31m4.3 MB/s\u001b[0m eta \u001b[36m0:00:00\u001b[0m\n",
            "\u001b[?25h  Downloading camelot_py-0.9.0-py3-none-any.whl (43 kB)\n",
            "\u001b[2K     \u001b[90m━━━━━━━━━━━━━━━━━━━━━━━━━━━━━━━━━━━━━━━━\u001b[0m \u001b[32m43.2/43.2 kB\u001b[0m \u001b[31m5.5 MB/s\u001b[0m eta \u001b[36m0:00:00\u001b[0m\n",
            "\u001b[?25hRequirement already satisfied: et-xmlfile in /usr/local/lib/python3.10/dist-packages (from openpyxl>=2.5.8->camelot-py[cv]) (1.1.0)\n",
            "Requirement already satisfied: python-dateutil>=2.8.1 in /usr/local/lib/python3.10/dist-packages (from pandas>=0.23.4->camelot-py[cv]) (2.8.2)\n",
            "Requirement already satisfied: pytz>=2020.1 in /usr/local/lib/python3.10/dist-packages (from pandas>=0.23.4->camelot-py[cv]) (2022.7.1)\n",
            "Requirement already satisfied: charset-normalizer>=2.0.0 in /usr/local/lib/python3.10/dist-packages (from pdfminer.six>=20200726->camelot-py[cv]) (2.0.12)\n",
            "Requirement already satisfied: cryptography>=36.0.0 in /usr/local/lib/python3.10/dist-packages (from pdfminer.six>=20200726->camelot-py[cv]) (40.0.2)\n",
            "Requirement already satisfied: cffi>=1.12 in /usr/local/lib/python3.10/dist-packages (from cryptography>=36.0.0->pdfminer.six>=20200726->camelot-py[cv]) (1.15.1)\n",
            "Requirement already satisfied: six>=1.5 in /usr/local/lib/python3.10/dist-packages (from python-dateutil>=2.8.1->pandas>=0.23.4->camelot-py[cv]) (1.16.0)\n",
            "Requirement already satisfied: pycparser in /usr/local/lib/python3.10/dist-packages (from cffi>=1.12->cryptography>=36.0.0->pdfminer.six>=20200726->camelot-py[cv]) (2.21)\n",
            "Installing collected packages: PyPDF2, pdfminer.six, camelot-py\n",
            "Successfully installed PyPDF2-3.0.1 camelot-py-0.9.0 pdfminer.six-20221105\n"
          ]
        }
      ]
    },
    {
      "cell_type": "code",
      "source": [
        "import camelot\n",
        "tables = camelot.read_pdf('Laudo_3047648.pdf')"
      ],
      "metadata": {
        "id": "UR14L8OBl_qg"
      },
      "execution_count": 50,
      "outputs": []
    },
    {
      "cell_type": "code",
      "source": [
        "tables.n"
      ],
      "metadata": {
        "colab": {
          "base_uri": "https://localhost:8080/"
        },
        "id": "yYyraUeBmC_P",
        "outputId": "2c3aa259-dff9-4179-87cd-72d6de3dbfb5"
      },
      "execution_count": 51,
      "outputs": [
        {
          "output_type": "execute_result",
          "data": {
            "text/plain": [
              "1"
            ]
          },
          "metadata": {},
          "execution_count": 51
        }
      ]
    },
    {
      "cell_type": "code",
      "source": [
        "print(tables[0].parsing_report)\n",
        ">>> {'accuracy': 100.0, 'whitespace': 0.0, 'order': 1, 'page': 1}\n",
        "for i in range(tables.n):\n",
        "    print(tables[i].parsing_report)\n",
        ">>> {'accuracy': 100.0, 'whitespace': 0.0, 'order': 1, 'page': 1}\n",
        ">>> {'accuracy': 100.0, 'whitespace': 0.0, 'order': 2, 'page': 1}"
      ],
      "metadata": {
        "colab": {
          "base_uri": "https://localhost:8080/"
        },
        "id": "Jw2GR1PamSJp",
        "outputId": "7e11edf2-c4e6-48dc-9e1d-9832635ef1a2"
      },
      "execution_count": 52,
      "outputs": [
        {
          "output_type": "stream",
          "name": "stdout",
          "text": [
            "{'accuracy': 100.0, 'whitespace': 41.07, 'order': 1, 'page': 1}\n",
            "{'accuracy': 100.0, 'whitespace': 41.07, 'order': 1, 'page': 1}\n"
          ]
        },
        {
          "output_type": "execute_result",
          "data": {
            "text/plain": [
              "{'accuracy': 100.0, 'whitespace': 0.0, 'order': 2, 'page': 1}"
            ]
          },
          "metadata": {},
          "execution_count": 52
        }
      ]
    },
    {
      "cell_type": "code",
      "source": [
        "print(tables[0])\n",
        "\n",
        "for i in range(tables.n):\n",
        "    print(tables[i])\n"
      ],
      "metadata": {
        "colab": {
          "base_uri": "https://localhost:8080/"
        },
        "id": "_L60urXBmZEQ",
        "outputId": "c2358b78-d3f1-47b1-ca64-2339b1d26f9c"
      },
      "execution_count": 53,
      "outputs": [
        {
          "output_type": "stream",
          "name": "stdout",
          "text": [
            "<Table shape=(14, 4)>\n",
            "<Table shape=(14, 4)>\n"
          ]
        }
      ]
    },
    {
      "cell_type": "code",
      "source": [
        "tables[0].to_excel('oficios_qualidade.xls')\n"
      ],
      "metadata": {
        "id": "c9H-wNICmd4A",
        "colab": {
          "base_uri": "https://localhost:8080/"
        },
        "outputId": "5eac4059-eaf6-46a4-a3c1-acea6c56a085"
      },
      "execution_count": 54,
      "outputs": [
        {
          "output_type": "stream",
          "name": "stderr",
          "text": [
            "/usr/local/lib/python3.10/dist-packages/camelot/core.py:614: FutureWarning: As the xlwt package is no longer maintained, the xlwt engine will be removed in a future version of pandas. This is the only engine in pandas that supports writing in the xls format. Install openpyxl and write to an xlsx file instead. You can set the option io.excel.xls.writer to 'xlwt' to silence this warning. While this option is deprecated and will also raise a warning, it can be globally set and the warning suppressed.\n",
            "  writer = pd.ExcelWriter(path)\n",
            "/usr/local/lib/python3.10/dist-packages/pandas/util/_decorators.py:211: FutureWarning: the 'encoding' keyword is deprecated and will be removed in a future version. Please take steps to stop the use of 'encoding'\n",
            "  return func(*args, **kwargs)\n",
            "/usr/local/lib/python3.10/dist-packages/camelot/core.py:616: FutureWarning: save is not part of the public API, usage can give unexpected results and will be removed in a future version\n",
            "  writer.save()\n"
          ]
        }
      ]
    },
    {
      "cell_type": "code",
      "source": [
        "tables[0].df[[1,0,2]]"
      ],
      "metadata": {
        "colab": {
          "base_uri": "https://localhost:8080/",
          "height": 488
        },
        "id": "WupqyEvnjjaF",
        "outputId": "6fc118f7-3efe-4745-b0cb-6f43ebccd06a"
      },
      "execution_count": 55,
      "outputs": [
        {
          "output_type": "execute_result",
          "data": {
            "text/plain": [
              "                       1                                                  0  \\\n",
              "0                                             3. RELAÇÃO DE DADOS RECEBIDOS   \n",
              "1   Norma de Referência:                                    Tipos de Dados:   \n",
              "2       RANP n° 880/2022  3.1. Arquivos Auxiliares - Esquemas de Ferrame...   \n",
              "3       RANP n° 880/2022       3.2. Arquivos Auxiliares - Dados Direcionais   \n",
              "4       RANP n° 880/2022  3.3. Arquivos Auxiliares - Relatório de Campo ...   \n",
              "5       RANP n° 880/2022                   3.4. Perfis Durante a Perfuração   \n",
              "6       RANP n° 880/2022                          3.5. Perfis Convencionais   \n",
              "7       RANP n° 880/2022   3.6. Perfis Especiais - Teste de Formação a Cabo   \n",
              "8       RANP n° 880/2022            3.7. Perfis Especiais - Sísmica de Poço   \n",
              "9       RANP n° 880/2022         3.8. Perfis Especiais - Amostrador Lateral   \n",
              "10      RANP n° 880/2022                     3.9. Perfil Digital Processado   \n",
              "11      RANP n° 880/2022                              3.10. Perfil Composto   \n",
              "12      RANP n° 880/2022  3.11. Perfil de Acompanhamento Geológico (PAG)...   \n",
              "13                 ANP08                            3.12. Teste de Formação   \n",
              "\n",
              "                               2  \n",
              "0                                 \n",
              "1   Situação dos Dados no BDEP*:  \n",
              "2                   NÃO CONFORME  \n",
              "3                       APROVADO  \n",
              "4                                 \n",
              "5                       APROVADO  \n",
              "6                       APROVADO  \n",
              "7                                 \n",
              "8                                 \n",
              "9                                 \n",
              "10                      APROVADO  \n",
              "11                                \n",
              "12                                \n",
              "13                                "
            ],
            "text/html": [
              "\n",
              "  <div id=\"df-ce6b7875-d190-4852-9edf-9d5bab35e3ef\">\n",
              "    <div class=\"colab-df-container\">\n",
              "      <div>\n",
              "<style scoped>\n",
              "    .dataframe tbody tr th:only-of-type {\n",
              "        vertical-align: middle;\n",
              "    }\n",
              "\n",
              "    .dataframe tbody tr th {\n",
              "        vertical-align: top;\n",
              "    }\n",
              "\n",
              "    .dataframe thead th {\n",
              "        text-align: right;\n",
              "    }\n",
              "</style>\n",
              "<table border=\"1\" class=\"dataframe\">\n",
              "  <thead>\n",
              "    <tr style=\"text-align: right;\">\n",
              "      <th></th>\n",
              "      <th>1</th>\n",
              "      <th>0</th>\n",
              "      <th>2</th>\n",
              "    </tr>\n",
              "  </thead>\n",
              "  <tbody>\n",
              "    <tr>\n",
              "      <th>0</th>\n",
              "      <td></td>\n",
              "      <td>3. RELAÇÃO DE DADOS RECEBIDOS</td>\n",
              "      <td></td>\n",
              "    </tr>\n",
              "    <tr>\n",
              "      <th>1</th>\n",
              "      <td>Norma de Referência:</td>\n",
              "      <td>Tipos de Dados:</td>\n",
              "      <td>Situação dos Dados no BDEP*:</td>\n",
              "    </tr>\n",
              "    <tr>\n",
              "      <th>2</th>\n",
              "      <td>RANP n° 880/2022</td>\n",
              "      <td>3.1. Arquivos Auxiliares - Esquemas de Ferrame...</td>\n",
              "      <td>NÃO CONFORME</td>\n",
              "    </tr>\n",
              "    <tr>\n",
              "      <th>3</th>\n",
              "      <td>RANP n° 880/2022</td>\n",
              "      <td>3.2. Arquivos Auxiliares - Dados Direcionais</td>\n",
              "      <td>APROVADO</td>\n",
              "    </tr>\n",
              "    <tr>\n",
              "      <th>4</th>\n",
              "      <td>RANP n° 880/2022</td>\n",
              "      <td>3.3. Arquivos Auxiliares - Relatório de Campo ...</td>\n",
              "      <td></td>\n",
              "    </tr>\n",
              "    <tr>\n",
              "      <th>5</th>\n",
              "      <td>RANP n° 880/2022</td>\n",
              "      <td>3.4. Perfis Durante a Perfuração</td>\n",
              "      <td>APROVADO</td>\n",
              "    </tr>\n",
              "    <tr>\n",
              "      <th>6</th>\n",
              "      <td>RANP n° 880/2022</td>\n",
              "      <td>3.5. Perfis Convencionais</td>\n",
              "      <td>APROVADO</td>\n",
              "    </tr>\n",
              "    <tr>\n",
              "      <th>7</th>\n",
              "      <td>RANP n° 880/2022</td>\n",
              "      <td>3.6. Perfis Especiais - Teste de Formação a Cabo</td>\n",
              "      <td></td>\n",
              "    </tr>\n",
              "    <tr>\n",
              "      <th>8</th>\n",
              "      <td>RANP n° 880/2022</td>\n",
              "      <td>3.7. Perfis Especiais - Sísmica de Poço</td>\n",
              "      <td></td>\n",
              "    </tr>\n",
              "    <tr>\n",
              "      <th>9</th>\n",
              "      <td>RANP n° 880/2022</td>\n",
              "      <td>3.8. Perfis Especiais - Amostrador Lateral</td>\n",
              "      <td></td>\n",
              "    </tr>\n",
              "    <tr>\n",
              "      <th>10</th>\n",
              "      <td>RANP n° 880/2022</td>\n",
              "      <td>3.9. Perfil Digital Processado</td>\n",
              "      <td>APROVADO</td>\n",
              "    </tr>\n",
              "    <tr>\n",
              "      <th>11</th>\n",
              "      <td>RANP n° 880/2022</td>\n",
              "      <td>3.10. Perfil Composto</td>\n",
              "      <td></td>\n",
              "    </tr>\n",
              "    <tr>\n",
              "      <th>12</th>\n",
              "      <td>RANP n° 880/2022</td>\n",
              "      <td>3.11. Perfil de Acompanhamento Geológico (PAG)...</td>\n",
              "      <td></td>\n",
              "    </tr>\n",
              "    <tr>\n",
              "      <th>13</th>\n",
              "      <td>ANP08</td>\n",
              "      <td>3.12. Teste de Formação</td>\n",
              "      <td></td>\n",
              "    </tr>\n",
              "  </tbody>\n",
              "</table>\n",
              "</div>\n",
              "      <button class=\"colab-df-convert\" onclick=\"convertToInteractive('df-ce6b7875-d190-4852-9edf-9d5bab35e3ef')\"\n",
              "              title=\"Convert this dataframe to an interactive table.\"\n",
              "              style=\"display:none;\">\n",
              "        \n",
              "  <svg xmlns=\"http://www.w3.org/2000/svg\" height=\"24px\"viewBox=\"0 0 24 24\"\n",
              "       width=\"24px\">\n",
              "    <path d=\"M0 0h24v24H0V0z\" fill=\"none\"/>\n",
              "    <path d=\"M18.56 5.44l.94 2.06.94-2.06 2.06-.94-2.06-.94-.94-2.06-.94 2.06-2.06.94zm-11 1L8.5 8.5l.94-2.06 2.06-.94-2.06-.94L8.5 2.5l-.94 2.06-2.06.94zm10 10l.94 2.06.94-2.06 2.06-.94-2.06-.94-.94-2.06-.94 2.06-2.06.94z\"/><path d=\"M17.41 7.96l-1.37-1.37c-.4-.4-.92-.59-1.43-.59-.52 0-1.04.2-1.43.59L10.3 9.45l-7.72 7.72c-.78.78-.78 2.05 0 2.83L4 21.41c.39.39.9.59 1.41.59.51 0 1.02-.2 1.41-.59l7.78-7.78 2.81-2.81c.8-.78.8-2.07 0-2.86zM5.41 20L4 18.59l7.72-7.72 1.47 1.35L5.41 20z\"/>\n",
              "  </svg>\n",
              "      </button>\n",
              "      \n",
              "  <style>\n",
              "    .colab-df-container {\n",
              "      display:flex;\n",
              "      flex-wrap:wrap;\n",
              "      gap: 12px;\n",
              "    }\n",
              "\n",
              "    .colab-df-convert {\n",
              "      background-color: #E8F0FE;\n",
              "      border: none;\n",
              "      border-radius: 50%;\n",
              "      cursor: pointer;\n",
              "      display: none;\n",
              "      fill: #1967D2;\n",
              "      height: 32px;\n",
              "      padding: 0 0 0 0;\n",
              "      width: 32px;\n",
              "    }\n",
              "\n",
              "    .colab-df-convert:hover {\n",
              "      background-color: #E2EBFA;\n",
              "      box-shadow: 0px 1px 2px rgba(60, 64, 67, 0.3), 0px 1px 3px 1px rgba(60, 64, 67, 0.15);\n",
              "      fill: #174EA6;\n",
              "    }\n",
              "\n",
              "    [theme=dark] .colab-df-convert {\n",
              "      background-color: #3B4455;\n",
              "      fill: #D2E3FC;\n",
              "    }\n",
              "\n",
              "    [theme=dark] .colab-df-convert:hover {\n",
              "      background-color: #434B5C;\n",
              "      box-shadow: 0px 1px 3px 1px rgba(0, 0, 0, 0.15);\n",
              "      filter: drop-shadow(0px 1px 2px rgba(0, 0, 0, 0.3));\n",
              "      fill: #FFFFFF;\n",
              "    }\n",
              "  </style>\n",
              "\n",
              "      <script>\n",
              "        const buttonEl =\n",
              "          document.querySelector('#df-ce6b7875-d190-4852-9edf-9d5bab35e3ef button.colab-df-convert');\n",
              "        buttonEl.style.display =\n",
              "          google.colab.kernel.accessAllowed ? 'block' : 'none';\n",
              "\n",
              "        async function convertToInteractive(key) {\n",
              "          const element = document.querySelector('#df-ce6b7875-d190-4852-9edf-9d5bab35e3ef');\n",
              "          const dataTable =\n",
              "            await google.colab.kernel.invokeFunction('convertToInteractive',\n",
              "                                                     [key], {});\n",
              "          if (!dataTable) return;\n",
              "\n",
              "          const docLinkHtml = 'Like what you see? Visit the ' +\n",
              "            '<a target=\"_blank\" href=https://colab.research.google.com/notebooks/data_table.ipynb>data table notebook</a>'\n",
              "            + ' to learn more about interactive tables.';\n",
              "          element.innerHTML = '';\n",
              "          dataTable['output_type'] = 'display_data';\n",
              "          await google.colab.output.renderOutput(dataTable, element);\n",
              "          const docLink = document.createElement('div');\n",
              "          docLink.innerHTML = docLinkHtml;\n",
              "          element.appendChild(docLink);\n",
              "        }\n",
              "      </script>\n",
              "    </div>\n",
              "  </div>\n",
              "  "
            ]
          },
          "metadata": {},
          "execution_count": 55
        }
      ]
    },
    {
      "cell_type": "code",
      "source": [
        "tables[0].df"
      ],
      "metadata": {
        "colab": {
          "base_uri": "https://localhost:8080/",
          "height": 488
        },
        "id": "_X-bQl99m4k8",
        "outputId": "9371e2c6-9c54-45b3-f54e-a1c52c482949"
      },
      "execution_count": 56,
      "outputs": [
        {
          "output_type": "execute_result",
          "data": {
            "text/plain": [
              "                                                    0                     1  \\\n",
              "0                       3. RELAÇÃO DE DADOS RECEBIDOS                         \n",
              "1                                     Tipos de Dados:  Norma de Referência:   \n",
              "2   3.1. Arquivos Auxiliares - Esquemas de Ferrame...      RANP n° 880/2022   \n",
              "3        3.2. Arquivos Auxiliares - Dados Direcionais      RANP n° 880/2022   \n",
              "4   3.3. Arquivos Auxiliares - Relatório de Campo ...      RANP n° 880/2022   \n",
              "5                    3.4. Perfis Durante a Perfuração      RANP n° 880/2022   \n",
              "6                           3.5. Perfis Convencionais      RANP n° 880/2022   \n",
              "7    3.6. Perfis Especiais - Teste de Formação a Cabo      RANP n° 880/2022   \n",
              "8             3.7. Perfis Especiais - Sísmica de Poço      RANP n° 880/2022   \n",
              "9          3.8. Perfis Especiais - Amostrador Lateral      RANP n° 880/2022   \n",
              "10                     3.9. Perfil Digital Processado      RANP n° 880/2022   \n",
              "11                              3.10. Perfil Composto      RANP n° 880/2022   \n",
              "12  3.11. Perfil de Acompanhamento Geológico (PAG)...      RANP n° 880/2022   \n",
              "13                            3.12. Teste de Formação                 ANP08   \n",
              "\n",
              "                               2 3  \n",
              "0                                   \n",
              "1   Situação dos Dados no BDEP*:    \n",
              "2                   NÃO CONFORME    \n",
              "3                       APROVADO    \n",
              "4                                   \n",
              "5                       APROVADO    \n",
              "6                       APROVADO    \n",
              "7                                   \n",
              "8                                   \n",
              "9                                   \n",
              "10                      APROVADO    \n",
              "11                                  \n",
              "12                                  \n",
              "13                                  "
            ],
            "text/html": [
              "\n",
              "  <div id=\"df-fd7474b9-9461-4619-91c7-5404c14d836a\">\n",
              "    <div class=\"colab-df-container\">\n",
              "      <div>\n",
              "<style scoped>\n",
              "    .dataframe tbody tr th:only-of-type {\n",
              "        vertical-align: middle;\n",
              "    }\n",
              "\n",
              "    .dataframe tbody tr th {\n",
              "        vertical-align: top;\n",
              "    }\n",
              "\n",
              "    .dataframe thead th {\n",
              "        text-align: right;\n",
              "    }\n",
              "</style>\n",
              "<table border=\"1\" class=\"dataframe\">\n",
              "  <thead>\n",
              "    <tr style=\"text-align: right;\">\n",
              "      <th></th>\n",
              "      <th>0</th>\n",
              "      <th>1</th>\n",
              "      <th>2</th>\n",
              "      <th>3</th>\n",
              "    </tr>\n",
              "  </thead>\n",
              "  <tbody>\n",
              "    <tr>\n",
              "      <th>0</th>\n",
              "      <td>3. RELAÇÃO DE DADOS RECEBIDOS</td>\n",
              "      <td></td>\n",
              "      <td></td>\n",
              "      <td></td>\n",
              "    </tr>\n",
              "    <tr>\n",
              "      <th>1</th>\n",
              "      <td>Tipos de Dados:</td>\n",
              "      <td>Norma de Referência:</td>\n",
              "      <td>Situação dos Dados no BDEP*:</td>\n",
              "      <td></td>\n",
              "    </tr>\n",
              "    <tr>\n",
              "      <th>2</th>\n",
              "      <td>3.1. Arquivos Auxiliares - Esquemas de Ferrame...</td>\n",
              "      <td>RANP n° 880/2022</td>\n",
              "      <td>NÃO CONFORME</td>\n",
              "      <td></td>\n",
              "    </tr>\n",
              "    <tr>\n",
              "      <th>3</th>\n",
              "      <td>3.2. Arquivos Auxiliares - Dados Direcionais</td>\n",
              "      <td>RANP n° 880/2022</td>\n",
              "      <td>APROVADO</td>\n",
              "      <td></td>\n",
              "    </tr>\n",
              "    <tr>\n",
              "      <th>4</th>\n",
              "      <td>3.3. Arquivos Auxiliares - Relatório de Campo ...</td>\n",
              "      <td>RANP n° 880/2022</td>\n",
              "      <td></td>\n",
              "      <td></td>\n",
              "    </tr>\n",
              "    <tr>\n",
              "      <th>5</th>\n",
              "      <td>3.4. Perfis Durante a Perfuração</td>\n",
              "      <td>RANP n° 880/2022</td>\n",
              "      <td>APROVADO</td>\n",
              "      <td></td>\n",
              "    </tr>\n",
              "    <tr>\n",
              "      <th>6</th>\n",
              "      <td>3.5. Perfis Convencionais</td>\n",
              "      <td>RANP n° 880/2022</td>\n",
              "      <td>APROVADO</td>\n",
              "      <td></td>\n",
              "    </tr>\n",
              "    <tr>\n",
              "      <th>7</th>\n",
              "      <td>3.6. Perfis Especiais - Teste de Formação a Cabo</td>\n",
              "      <td>RANP n° 880/2022</td>\n",
              "      <td></td>\n",
              "      <td></td>\n",
              "    </tr>\n",
              "    <tr>\n",
              "      <th>8</th>\n",
              "      <td>3.7. Perfis Especiais - Sísmica de Poço</td>\n",
              "      <td>RANP n° 880/2022</td>\n",
              "      <td></td>\n",
              "      <td></td>\n",
              "    </tr>\n",
              "    <tr>\n",
              "      <th>9</th>\n",
              "      <td>3.8. Perfis Especiais - Amostrador Lateral</td>\n",
              "      <td>RANP n° 880/2022</td>\n",
              "      <td></td>\n",
              "      <td></td>\n",
              "    </tr>\n",
              "    <tr>\n",
              "      <th>10</th>\n",
              "      <td>3.9. Perfil Digital Processado</td>\n",
              "      <td>RANP n° 880/2022</td>\n",
              "      <td>APROVADO</td>\n",
              "      <td></td>\n",
              "    </tr>\n",
              "    <tr>\n",
              "      <th>11</th>\n",
              "      <td>3.10. Perfil Composto</td>\n",
              "      <td>RANP n° 880/2022</td>\n",
              "      <td></td>\n",
              "      <td></td>\n",
              "    </tr>\n",
              "    <tr>\n",
              "      <th>12</th>\n",
              "      <td>3.11. Perfil de Acompanhamento Geológico (PAG)...</td>\n",
              "      <td>RANP n° 880/2022</td>\n",
              "      <td></td>\n",
              "      <td></td>\n",
              "    </tr>\n",
              "    <tr>\n",
              "      <th>13</th>\n",
              "      <td>3.12. Teste de Formação</td>\n",
              "      <td>ANP08</td>\n",
              "      <td></td>\n",
              "      <td></td>\n",
              "    </tr>\n",
              "  </tbody>\n",
              "</table>\n",
              "</div>\n",
              "      <button class=\"colab-df-convert\" onclick=\"convertToInteractive('df-fd7474b9-9461-4619-91c7-5404c14d836a')\"\n",
              "              title=\"Convert this dataframe to an interactive table.\"\n",
              "              style=\"display:none;\">\n",
              "        \n",
              "  <svg xmlns=\"http://www.w3.org/2000/svg\" height=\"24px\"viewBox=\"0 0 24 24\"\n",
              "       width=\"24px\">\n",
              "    <path d=\"M0 0h24v24H0V0z\" fill=\"none\"/>\n",
              "    <path d=\"M18.56 5.44l.94 2.06.94-2.06 2.06-.94-2.06-.94-.94-2.06-.94 2.06-2.06.94zm-11 1L8.5 8.5l.94-2.06 2.06-.94-2.06-.94L8.5 2.5l-.94 2.06-2.06.94zm10 10l.94 2.06.94-2.06 2.06-.94-2.06-.94-.94-2.06-.94 2.06-2.06.94z\"/><path d=\"M17.41 7.96l-1.37-1.37c-.4-.4-.92-.59-1.43-.59-.52 0-1.04.2-1.43.59L10.3 9.45l-7.72 7.72c-.78.78-.78 2.05 0 2.83L4 21.41c.39.39.9.59 1.41.59.51 0 1.02-.2 1.41-.59l7.78-7.78 2.81-2.81c.8-.78.8-2.07 0-2.86zM5.41 20L4 18.59l7.72-7.72 1.47 1.35L5.41 20z\"/>\n",
              "  </svg>\n",
              "      </button>\n",
              "      \n",
              "  <style>\n",
              "    .colab-df-container {\n",
              "      display:flex;\n",
              "      flex-wrap:wrap;\n",
              "      gap: 12px;\n",
              "    }\n",
              "\n",
              "    .colab-df-convert {\n",
              "      background-color: #E8F0FE;\n",
              "      border: none;\n",
              "      border-radius: 50%;\n",
              "      cursor: pointer;\n",
              "      display: none;\n",
              "      fill: #1967D2;\n",
              "      height: 32px;\n",
              "      padding: 0 0 0 0;\n",
              "      width: 32px;\n",
              "    }\n",
              "\n",
              "    .colab-df-convert:hover {\n",
              "      background-color: #E2EBFA;\n",
              "      box-shadow: 0px 1px 2px rgba(60, 64, 67, 0.3), 0px 1px 3px 1px rgba(60, 64, 67, 0.15);\n",
              "      fill: #174EA6;\n",
              "    }\n",
              "\n",
              "    [theme=dark] .colab-df-convert {\n",
              "      background-color: #3B4455;\n",
              "      fill: #D2E3FC;\n",
              "    }\n",
              "\n",
              "    [theme=dark] .colab-df-convert:hover {\n",
              "      background-color: #434B5C;\n",
              "      box-shadow: 0px 1px 3px 1px rgba(0, 0, 0, 0.15);\n",
              "      filter: drop-shadow(0px 1px 2px rgba(0, 0, 0, 0.3));\n",
              "      fill: #FFFFFF;\n",
              "    }\n",
              "  </style>\n",
              "\n",
              "      <script>\n",
              "        const buttonEl =\n",
              "          document.querySelector('#df-fd7474b9-9461-4619-91c7-5404c14d836a button.colab-df-convert');\n",
              "        buttonEl.style.display =\n",
              "          google.colab.kernel.accessAllowed ? 'block' : 'none';\n",
              "\n",
              "        async function convertToInteractive(key) {\n",
              "          const element = document.querySelector('#df-fd7474b9-9461-4619-91c7-5404c14d836a');\n",
              "          const dataTable =\n",
              "            await google.colab.kernel.invokeFunction('convertToInteractive',\n",
              "                                                     [key], {});\n",
              "          if (!dataTable) return;\n",
              "\n",
              "          const docLinkHtml = 'Like what you see? Visit the ' +\n",
              "            '<a target=\"_blank\" href=https://colab.research.google.com/notebooks/data_table.ipynb>data table notebook</a>'\n",
              "            + ' to learn more about interactive tables.';\n",
              "          element.innerHTML = '';\n",
              "          dataTable['output_type'] = 'display_data';\n",
              "          await google.colab.output.renderOutput(dataTable, element);\n",
              "          const docLink = document.createElement('div');\n",
              "          docLink.innerHTML = docLinkHtml;\n",
              "          element.appendChild(docLink);\n",
              "        }\n",
              "      </script>\n",
              "    </div>\n",
              "  </div>\n",
              "  "
            ]
          },
          "metadata": {},
          "execution_count": 56
        }
      ]
    },
    {
      "cell_type": "code",
      "source": [
        "!pip install pdfplumber -q\n",
        "!pip install os -q\n",
        "\n",
        "import os, pdfplumber\n",
        "\n",
        "Arquivos= os.listdir()\n",
        "\n",
        "pdf = pdfplumber.open('Laudo_3047648.pdf')\n",
        "\n",
        "pdf.pages"
      ],
      "metadata": {
        "colab": {
          "base_uri": "https://localhost:8080/"
        },
        "id": "_Wo1Ga_oMczi",
        "outputId": "7d92527e-6ba3-47df-9beb-b5d079cade55"
      },
      "execution_count": 60,
      "outputs": [
        {
          "output_type": "stream",
          "name": "stdout",
          "text": [
            "\u001b[31mERROR: Could not find a version that satisfies the requirement os (from versions: none)\u001b[0m\u001b[31m\n",
            "\u001b[0m\u001b[31mERROR: No matching distribution found for os\u001b[0m\u001b[31m\n",
            "\u001b[0m"
          ]
        },
        {
          "output_type": "execute_result",
          "data": {
            "text/plain": [
              "[<Page:1>, <Page:2>, <Page:3>, <Page:4>]"
            ]
          },
          "metadata": {},
          "execution_count": 60
        }
      ]
    },
    {
      "cell_type": "code",
      "source": [
        "page = pdf.pages[0]\n",
        "page"
      ],
      "metadata": {
        "colab": {
          "base_uri": "https://localhost:8080/"
        },
        "id": "kwuhdVcBN8TS",
        "outputId": "553a5173-fe0e-4c34-b964-576f2d88ea0f"
      },
      "execution_count": 61,
      "outputs": [
        {
          "output_type": "execute_result",
          "data": {
            "text/plain": [
              "<Page:1>"
            ]
          },
          "metadata": {},
          "execution_count": 61
        }
      ]
    },
    {
      "cell_type": "code",
      "source": [
        "text = page.extract_text()\n",
        "text \n"
      ],
      "metadata": {
        "colab": {
          "base_uri": "https://localhost:8080/",
          "height": 244
        },
        "id": "49Y5z0zPOQIC",
        "outputId": "55cc9863-211f-40e7-8be2-41d0267df5d7"
      },
      "execution_count": 62,
      "outputs": [
        {
          "output_type": "execute_result",
          "data": {
            "text/plain": [
              "'Agencia Nacional de Petróleo, Gás Natura e Biocombustíveis\\nSuperintendência de Dados Técnicos\\nBanco de Dados de Exploração e Produção\\nLaudo de Avaliação de Dados de Poço\\n1. CABEÇALHO\\n1.1. Nº do Laudo 1.2. Data da 1.3. Nome do 1.4. Nº Cadastro do 1.5. Conclusão do 1.6. Empresa\\nde Reprovação: Avaliação: Poço: Poço: Poço: Operadora:\\n2305.1.0099 08/05/2023 7-MRO-6DB-RJS 74316029648 23/02/2021 Petrobras\\n2. CONTROLE DE REMESSAS (USO INTERNO)\\n2.1. Número de Protocolo da(s) 2.2. Data de Protocolo da(s) 2.3. Código de Cadastro da(s)\\nRemessa(s): Remessa(s): Mídia(s) no BDEP:\\n48610.202029/2021-13 14/05/2021 370_2021\\n48610.202029/2021-13 17/05/2021 385_2021\\n3. RELAÇÃO DE DADOS RECEBIDOS\\nTipos de Dados: Norma de Referência: Situação dos Dados no BDEP*:\\n3.1. Arquivos Auxiliares - Esquemas de Ferramentas RANP n° 880/2022 NÃO CONFORME\\n3.2. Arquivos Auxiliares - Dados Direcionais RANP n° 880/2022 APROVADO\\n3.3. Arquivos Auxiliares - Relatório de Campo de Sísmica RANP n° 880/2022\\n3.4. Perfis Durante a Perfuração RANP n° 880/2022 APROVADO\\n3.5. Perfis Convencionais RANP n° 880/2022 APROVADO\\n3.6. Perfis Especiais - Teste de Formação a Cabo RANP n° 880/2022\\n3.7. Perfis Especiais - Sísmica de Poço RANP n° 880/2022\\n3.8. Perfis Especiais - Amostrador Lateral RANP n° 880/2022\\n3.9. Perfil Digital Processado RANP n° 880/2022 APROVADO\\n3.10. Perfil Composto RANP n° 880/2022\\n3.11. Perfil de Acompanhamento Geológico (PAG) - Anexos I, II e III RANP n° 880/2022\\n3.12. Teste de Formação ANP08\\n*Legenda da Situação dos Dados de Poço no BDEP:\\nNÃO RECEBIDO = Conjunto de dados adquiridos pela operadora, conforme Notificação de Perfilagem Realizada (NPR), mas não\\nremetidos ao BDEP;\\nNÃO CONFORME = Conjunto de dados avaliados como não conformes. As não conformidades estão descritas neste laudo;\\nAPROVADO = Conjunto de dados aprovados e carregados no banco de dados.\\n4. RELAÇÃO DOS ARQUIVOS REPROVADOS\\nItens: Localização (Diretórios/Pastas): Nome do(s) Arquivo(s) Não Relação das Não Conformidades:\\nConforme(s):\\n4.1,00 /000385_2021 7-mro-6db-rjs_bhpt_cast_xrmi_esq_f 6.1. Esquemas de Ferramentas\\nerramentas.pdf\\n4.2,00 /000385_2021 7-mro-6db-rjs_dll-msfl-sdl-dsn_gem_ 6.1. Esquemas de Ferramentas\\nmril_csng_esq_ferramentas.pdf\\n4.3,00 /000370_2021 BSAT_7-MRO-6DB-RJS_2A_290120 6.1. Esquemas de Ferramentas\\n21_BHA.pdf\\n5. NÃO CONFORMIDADES REFERENTES À REMESSA DE DADOS, À ESTRUTURA DE DIRETÓRIOS E AO FORMATO E\\nNOMENCLATURA DOS ARQUIVOS\\nItens: Não Conformidades:\\nLaudo de Avaliação do Poço 7-MRO-6DB-RJS Page 1 of 4'"
            ],
            "application/vnd.google.colaboratory.intrinsic+json": {
              "type": "string"
            }
          },
          "metadata": {},
          "execution_count": 62
        }
      ]
    },
    {
      "cell_type": "code",
      "source": [
        "tokenized_text = list(text)\n",
        "print(tokenized_text)"
      ],
      "metadata": {
        "id": "Z4DxBMvMSkQs",
        "outputId": "b2d690b7-34ea-433b-d527-2d04fa922ef0",
        "colab": {
          "base_uri": "https://localhost:8080/"
        }
      },
      "execution_count": 78,
      "outputs": [
        {
          "output_type": "stream",
          "name": "stdout",
          "text": [
            "['A', 'g', 'e', 'n', 'c', 'i', 'a', ' ', 'N', 'a', 'c', 'i', 'o', 'n', 'a', 'l', ' ', 'd', 'e', ' ', 'P', 'e', 't', 'r', 'ó', 'l', 'e', 'o', ',', ' ', 'G', 'á', 's', ' ', 'N', 'a', 't', 'u', 'r', 'a', ' ', 'e', ' ', 'B', 'i', 'o', 'c', 'o', 'm', 'b', 'u', 's', 't', 'í', 'v', 'e', 'i', 's', '\\n', 'S', 'u', 'p', 'e', 'r', 'i', 'n', 't', 'e', 'n', 'd', 'ê', 'n', 'c', 'i', 'a', ' ', 'd', 'e', ' ', 'D', 'a', 'd', 'o', 's', ' ', 'T', 'é', 'c', 'n', 'i', 'c', 'o', 's', '\\n', 'B', 'a', 'n', 'c', 'o', ' ', 'd', 'e', ' ', 'D', 'a', 'd', 'o', 's', ' ', 'd', 'e', ' ', 'E', 'x', 'p', 'l', 'o', 'r', 'a', 'ç', 'ã', 'o', ' ', 'e', ' ', 'P', 'r', 'o', 'd', 'u', 'ç', 'ã', 'o', '\\n', 'L', 'a', 'u', 'd', 'o', ' ', 'd', 'e', ' ', 'A', 'v', 'a', 'l', 'i', 'a', 'ç', 'ã', 'o', ' ', 'd', 'e', ' ', 'D', 'a', 'd', 'o', 's', ' ', 'd', 'e', ' ', 'P', 'o', 'ç', 'o', '\\n', '1', '.', ' ', 'C', 'A', 'B', 'E', 'Ç', 'A', 'L', 'H', 'O', '\\n', '1', '.', '1', '.', ' ', 'N', 'º', ' ', 'd', 'o', ' ', 'L', 'a', 'u', 'd', 'o', ' ', '1', '.', '2', '.', ' ', 'D', 'a', 't', 'a', ' ', 'd', 'a', ' ', '1', '.', '3', '.', ' ', 'N', 'o', 'm', 'e', ' ', 'd', 'o', ' ', '1', '.', '4', '.', ' ', 'N', 'º', ' ', 'C', 'a', 'd', 'a', 's', 't', 'r', 'o', ' ', 'd', 'o', ' ', '1', '.', '5', '.', ' ', 'C', 'o', 'n', 'c', 'l', 'u', 's', 'ã', 'o', ' ', 'd', 'o', ' ', '1', '.', '6', '.', ' ', 'E', 'm', 'p', 'r', 'e', 's', 'a', '\\n', 'd', 'e', ' ', 'R', 'e', 'p', 'r', 'o', 'v', 'a', 'ç', 'ã', 'o', ':', ' ', 'A', 'v', 'a', 'l', 'i', 'a', 'ç', 'ã', 'o', ':', ' ', 'P', 'o', 'ç', 'o', ':', ' ', 'P', 'o', 'ç', 'o', ':', ' ', 'P', 'o', 'ç', 'o', ':', ' ', 'O', 'p', 'e', 'r', 'a', 'd', 'o', 'r', 'a', ':', '\\n', '2', '3', '0', '5', '.', '1', '.', '0', '0', '9', '9', ' ', '0', '8', '/', '0', '5', '/', '2', '0', '2', '3', ' ', '7', '-', 'M', 'R', 'O', '-', '6', 'D', 'B', '-', 'R', 'J', 'S', ' ', '7', '4', '3', '1', '6', '0', '2', '9', '6', '4', '8', ' ', '2', '3', '/', '0', '2', '/', '2', '0', '2', '1', ' ', 'P', 'e', 't', 'r', 'o', 'b', 'r', 'a', 's', '\\n', '2', '.', ' ', 'C', 'O', 'N', 'T', 'R', 'O', 'L', 'E', ' ', 'D', 'E', ' ', 'R', 'E', 'M', 'E', 'S', 'S', 'A', 'S', ' ', '(', 'U', 'S', 'O', ' ', 'I', 'N', 'T', 'E', 'R', 'N', 'O', ')', '\\n', '2', '.', '1', '.', ' ', 'N', 'ú', 'm', 'e', 'r', 'o', ' ', 'd', 'e', ' ', 'P', 'r', 'o', 't', 'o', 'c', 'o', 'l', 'o', ' ', 'd', 'a', '(', 's', ')', ' ', '2', '.', '2', '.', ' ', 'D', 'a', 't', 'a', ' ', 'd', 'e', ' ', 'P', 'r', 'o', 't', 'o', 'c', 'o', 'l', 'o', ' ', 'd', 'a', '(', 's', ')', ' ', '2', '.', '3', '.', ' ', 'C', 'ó', 'd', 'i', 'g', 'o', ' ', 'd', 'e', ' ', 'C', 'a', 'd', 'a', 's', 't', 'r', 'o', ' ', 'd', 'a', '(', 's', ')', '\\n', 'R', 'e', 'm', 'e', 's', 's', 'a', '(', 's', ')', ':', ' ', 'R', 'e', 'm', 'e', 's', 's', 'a', '(', 's', ')', ':', ' ', 'M', 'í', 'd', 'i', 'a', '(', 's', ')', ' ', 'n', 'o', ' ', 'B', 'D', 'E', 'P', ':', '\\n', '4', '8', '6', '1', '0', '.', '2', '0', '2', '0', '2', '9', '/', '2', '0', '2', '1', '-', '1', '3', ' ', '1', '4', '/', '0', '5', '/', '2', '0', '2', '1', ' ', '3', '7', '0', '_', '2', '0', '2', '1', '\\n', '4', '8', '6', '1', '0', '.', '2', '0', '2', '0', '2', '9', '/', '2', '0', '2', '1', '-', '1', '3', ' ', '1', '7', '/', '0', '5', '/', '2', '0', '2', '1', ' ', '3', '8', '5', '_', '2', '0', '2', '1', '\\n', '3', '.', ' ', 'R', 'E', 'L', 'A', 'Ç', 'Ã', 'O', ' ', 'D', 'E', ' ', 'D', 'A', 'D', 'O', 'S', ' ', 'R', 'E', 'C', 'E', 'B', 'I', 'D', 'O', 'S', '\\n', 'T', 'i', 'p', 'o', 's', ' ', 'd', 'e', ' ', 'D', 'a', 'd', 'o', 's', ':', ' ', 'N', 'o', 'r', 'm', 'a', ' ', 'd', 'e', ' ', 'R', 'e', 'f', 'e', 'r', 'ê', 'n', 'c', 'i', 'a', ':', ' ', 'S', 'i', 't', 'u', 'a', 'ç', 'ã', 'o', ' ', 'd', 'o', 's', ' ', 'D', 'a', 'd', 'o', 's', ' ', 'n', 'o', ' ', 'B', 'D', 'E', 'P', '*', ':', '\\n', '3', '.', '1', '.', ' ', 'A', 'r', 'q', 'u', 'i', 'v', 'o', 's', ' ', 'A', 'u', 'x', 'i', 'l', 'i', 'a', 'r', 'e', 's', ' ', '-', ' ', 'E', 's', 'q', 'u', 'e', 'm', 'a', 's', ' ', 'd', 'e', ' ', 'F', 'e', 'r', 'r', 'a', 'm', 'e', 'n', 't', 'a', 's', ' ', 'R', 'A', 'N', 'P', ' ', 'n', '°', ' ', '8', '8', '0', '/', '2', '0', '2', '2', ' ', 'N', 'Ã', 'O', ' ', 'C', 'O', 'N', 'F', 'O', 'R', 'M', 'E', '\\n', '3', '.', '2', '.', ' ', 'A', 'r', 'q', 'u', 'i', 'v', 'o', 's', ' ', 'A', 'u', 'x', 'i', 'l', 'i', 'a', 'r', 'e', 's', ' ', '-', ' ', 'D', 'a', 'd', 'o', 's', ' ', 'D', 'i', 'r', 'e', 'c', 'i', 'o', 'n', 'a', 'i', 's', ' ', 'R', 'A', 'N', 'P', ' ', 'n', '°', ' ', '8', '8', '0', '/', '2', '0', '2', '2', ' ', 'A', 'P', 'R', 'O', 'V', 'A', 'D', 'O', '\\n', '3', '.', '3', '.', ' ', 'A', 'r', 'q', 'u', 'i', 'v', 'o', 's', ' ', 'A', 'u', 'x', 'i', 'l', 'i', 'a', 'r', 'e', 's', ' ', '-', ' ', 'R', 'e', 'l', 'a', 't', 'ó', 'r', 'i', 'o', ' ', 'd', 'e', ' ', 'C', 'a', 'm', 'p', 'o', ' ', 'd', 'e', ' ', 'S', 'í', 's', 'm', 'i', 'c', 'a', ' ', 'R', 'A', 'N', 'P', ' ', 'n', '°', ' ', '8', '8', '0', '/', '2', '0', '2', '2', '\\n', '3', '.', '4', '.', ' ', 'P', 'e', 'r', 'f', 'i', 's', ' ', 'D', 'u', 'r', 'a', 'n', 't', 'e', ' ', 'a', ' ', 'P', 'e', 'r', 'f', 'u', 'r', 'a', 'ç', 'ã', 'o', ' ', 'R', 'A', 'N', 'P', ' ', 'n', '°', ' ', '8', '8', '0', '/', '2', '0', '2', '2', ' ', 'A', 'P', 'R', 'O', 'V', 'A', 'D', 'O', '\\n', '3', '.', '5', '.', ' ', 'P', 'e', 'r', 'f', 'i', 's', ' ', 'C', 'o', 'n', 'v', 'e', 'n', 'c', 'i', 'o', 'n', 'a', 'i', 's', ' ', 'R', 'A', 'N', 'P', ' ', 'n', '°', ' ', '8', '8', '0', '/', '2', '0', '2', '2', ' ', 'A', 'P', 'R', 'O', 'V', 'A', 'D', 'O', '\\n', '3', '.', '6', '.', ' ', 'P', 'e', 'r', 'f', 'i', 's', ' ', 'E', 's', 'p', 'e', 'c', 'i', 'a', 'i', 's', ' ', '-', ' ', 'T', 'e', 's', 't', 'e', ' ', 'd', 'e', ' ', 'F', 'o', 'r', 'm', 'a', 'ç', 'ã', 'o', ' ', 'a', ' ', 'C', 'a', 'b', 'o', ' ', 'R', 'A', 'N', 'P', ' ', 'n', '°', ' ', '8', '8', '0', '/', '2', '0', '2', '2', '\\n', '3', '.', '7', '.', ' ', 'P', 'e', 'r', 'f', 'i', 's', ' ', 'E', 's', 'p', 'e', 'c', 'i', 'a', 'i', 's', ' ', '-', ' ', 'S', 'í', 's', 'm', 'i', 'c', 'a', ' ', 'd', 'e', ' ', 'P', 'o', 'ç', 'o', ' ', 'R', 'A', 'N', 'P', ' ', 'n', '°', ' ', '8', '8', '0', '/', '2', '0', '2', '2', '\\n', '3', '.', '8', '.', ' ', 'P', 'e', 'r', 'f', 'i', 's', ' ', 'E', 's', 'p', 'e', 'c', 'i', 'a', 'i', 's', ' ', '-', ' ', 'A', 'm', 'o', 's', 't', 'r', 'a', 'd', 'o', 'r', ' ', 'L', 'a', 't', 'e', 'r', 'a', 'l', ' ', 'R', 'A', 'N', 'P', ' ', 'n', '°', ' ', '8', '8', '0', '/', '2', '0', '2', '2', '\\n', '3', '.', '9', '.', ' ', 'P', 'e', 'r', 'f', 'i', 'l', ' ', 'D', 'i', 'g', 'i', 't', 'a', 'l', ' ', 'P', 'r', 'o', 'c', 'e', 's', 's', 'a', 'd', 'o', ' ', 'R', 'A', 'N', 'P', ' ', 'n', '°', ' ', '8', '8', '0', '/', '2', '0', '2', '2', ' ', 'A', 'P', 'R', 'O', 'V', 'A', 'D', 'O', '\\n', '3', '.', '1', '0', '.', ' ', 'P', 'e', 'r', 'f', 'i', 'l', ' ', 'C', 'o', 'm', 'p', 'o', 's', 't', 'o', ' ', 'R', 'A', 'N', 'P', ' ', 'n', '°', ' ', '8', '8', '0', '/', '2', '0', '2', '2', '\\n', '3', '.', '1', '1', '.', ' ', 'P', 'e', 'r', 'f', 'i', 'l', ' ', 'd', 'e', ' ', 'A', 'c', 'o', 'm', 'p', 'a', 'n', 'h', 'a', 'm', 'e', 'n', 't', 'o', ' ', 'G', 'e', 'o', 'l', 'ó', 'g', 'i', 'c', 'o', ' ', '(', 'P', 'A', 'G', ')', ' ', '-', ' ', 'A', 'n', 'e', 'x', 'o', 's', ' ', 'I', ',', ' ', 'I', 'I', ' ', 'e', ' ', 'I', 'I', 'I', ' ', 'R', 'A', 'N', 'P', ' ', 'n', '°', ' ', '8', '8', '0', '/', '2', '0', '2', '2', '\\n', '3', '.', '1', '2', '.', ' ', 'T', 'e', 's', 't', 'e', ' ', 'd', 'e', ' ', 'F', 'o', 'r', 'm', 'a', 'ç', 'ã', 'o', ' ', 'A', 'N', 'P', '0', '8', '\\n', '*', 'L', 'e', 'g', 'e', 'n', 'd', 'a', ' ', 'd', 'a', ' ', 'S', 'i', 't', 'u', 'a', 'ç', 'ã', 'o', ' ', 'd', 'o', 's', ' ', 'D', 'a', 'd', 'o', 's', ' ', 'd', 'e', ' ', 'P', 'o', 'ç', 'o', ' ', 'n', 'o', ' ', 'B', 'D', 'E', 'P', ':', '\\n', 'N', 'Ã', 'O', ' ', 'R', 'E', 'C', 'E', 'B', 'I', 'D', 'O', ' ', '=', ' ', 'C', 'o', 'n', 'j', 'u', 'n', 't', 'o', ' ', 'd', 'e', ' ', 'd', 'a', 'd', 'o', 's', ' ', 'a', 'd', 'q', 'u', 'i', 'r', 'i', 'd', 'o', 's', ' ', 'p', 'e', 'l', 'a', ' ', 'o', 'p', 'e', 'r', 'a', 'd', 'o', 'r', 'a', ',', ' ', 'c', 'o', 'n', 'f', 'o', 'r', 'm', 'e', ' ', 'N', 'o', 't', 'i', 'f', 'i', 'c', 'a', 'ç', 'ã', 'o', ' ', 'd', 'e', ' ', 'P', 'e', 'r', 'f', 'i', 'l', 'a', 'g', 'e', 'm', ' ', 'R', 'e', 'a', 'l', 'i', 'z', 'a', 'd', 'a', ' ', '(', 'N', 'P', 'R', ')', ',', ' ', 'm', 'a', 's', ' ', 'n', 'ã', 'o', '\\n', 'r', 'e', 'm', 'e', 't', 'i', 'd', 'o', 's', ' ', 'a', 'o', ' ', 'B', 'D', 'E', 'P', ';', '\\n', 'N', 'Ã', 'O', ' ', 'C', 'O', 'N', 'F', 'O', 'R', 'M', 'E', ' ', '=', ' ', 'C', 'o', 'n', 'j', 'u', 'n', 't', 'o', ' ', 'd', 'e', ' ', 'd', 'a', 'd', 'o', 's', ' ', 'a', 'v', 'a', 'l', 'i', 'a', 'd', 'o', 's', ' ', 'c', 'o', 'm', 'o', ' ', 'n', 'ã', 'o', ' ', 'c', 'o', 'n', 'f', 'o', 'r', 'm', 'e', 's', '.', ' ', 'A', 's', ' ', 'n', 'ã', 'o', ' ', 'c', 'o', 'n', 'f', 'o', 'r', 'm', 'i', 'd', 'a', 'd', 'e', 's', ' ', 'e', 's', 't', 'ã', 'o', ' ', 'd', 'e', 's', 'c', 'r', 'i', 't', 'a', 's', ' ', 'n', 'e', 's', 't', 'e', ' ', 'l', 'a', 'u', 'd', 'o', ';', '\\n', 'A', 'P', 'R', 'O', 'V', 'A', 'D', 'O', ' ', '=', ' ', 'C', 'o', 'n', 'j', 'u', 'n', 't', 'o', ' ', 'd', 'e', ' ', 'd', 'a', 'd', 'o', 's', ' ', 'a', 'p', 'r', 'o', 'v', 'a', 'd', 'o', 's', ' ', 'e', ' ', 'c', 'a', 'r', 'r', 'e', 'g', 'a', 'd', 'o', 's', ' ', 'n', 'o', ' ', 'b', 'a', 'n', 'c', 'o', ' ', 'd', 'e', ' ', 'd', 'a', 'd', 'o', 's', '.', '\\n', '4', '.', ' ', 'R', 'E', 'L', 'A', 'Ç', 'Ã', 'O', ' ', 'D', 'O', 'S', ' ', 'A', 'R', 'Q', 'U', 'I', 'V', 'O', 'S', ' ', 'R', 'E', 'P', 'R', 'O', 'V', 'A', 'D', 'O', 'S', '\\n', 'I', 't', 'e', 'n', 's', ':', ' ', 'L', 'o', 'c', 'a', 'l', 'i', 'z', 'a', 'ç', 'ã', 'o', ' ', '(', 'D', 'i', 'r', 'e', 't', 'ó', 'r', 'i', 'o', 's', '/', 'P', 'a', 's', 't', 'a', 's', ')', ':', ' ', 'N', 'o', 'm', 'e', ' ', 'd', 'o', '(', 's', ')', ' ', 'A', 'r', 'q', 'u', 'i', 'v', 'o', '(', 's', ')', ' ', 'N', 'ã', 'o', ' ', 'R', 'e', 'l', 'a', 'ç', 'ã', 'o', ' ', 'd', 'a', 's', ' ', 'N', 'ã', 'o', ' ', 'C', 'o', 'n', 'f', 'o', 'r', 'm', 'i', 'd', 'a', 'd', 'e', 's', ':', '\\n', 'C', 'o', 'n', 'f', 'o', 'r', 'm', 'e', '(', 's', ')', ':', '\\n', '4', '.', '1', ',', '0', '0', ' ', '/', '0', '0', '0', '3', '8', '5', '_', '2', '0', '2', '1', ' ', '7', '-', 'm', 'r', 'o', '-', '6', 'd', 'b', '-', 'r', 'j', 's', '_', 'b', 'h', 'p', 't', '_', 'c', 'a', 's', 't', '_', 'x', 'r', 'm', 'i', '_', 'e', 's', 'q', '_', 'f', ' ', '6', '.', '1', '.', ' ', 'E', 's', 'q', 'u', 'e', 'm', 'a', 's', ' ', 'd', 'e', ' ', 'F', 'e', 'r', 'r', 'a', 'm', 'e', 'n', 't', 'a', 's', '\\n', 'e', 'r', 'r', 'a', 'm', 'e', 'n', 't', 'a', 's', '.', 'p', 'd', 'f', '\\n', '4', '.', '2', ',', '0', '0', ' ', '/', '0', '0', '0', '3', '8', '5', '_', '2', '0', '2', '1', ' ', '7', '-', 'm', 'r', 'o', '-', '6', 'd', 'b', '-', 'r', 'j', 's', '_', 'd', 'l', 'l', '-', 'm', 's', 'f', 'l', '-', 's', 'd', 'l', '-', 'd', 's', 'n', '_', 'g', 'e', 'm', '_', ' ', '6', '.', '1', '.', ' ', 'E', 's', 'q', 'u', 'e', 'm', 'a', 's', ' ', 'd', 'e', ' ', 'F', 'e', 'r', 'r', 'a', 'm', 'e', 'n', 't', 'a', 's', '\\n', 'm', 'r', 'i', 'l', '_', 'c', 's', 'n', 'g', '_', 'e', 's', 'q', '_', 'f', 'e', 'r', 'r', 'a', 'm', 'e', 'n', 't', 'a', 's', '.', 'p', 'd', 'f', '\\n', '4', '.', '3', ',', '0', '0', ' ', '/', '0', '0', '0', '3', '7', '0', '_', '2', '0', '2', '1', ' ', 'B', 'S', 'A', 'T', '_', '7', '-', 'M', 'R', 'O', '-', '6', 'D', 'B', '-', 'R', 'J', 'S', '_', '2', 'A', '_', '2', '9', '0', '1', '2', '0', ' ', '6', '.', '1', '.', ' ', 'E', 's', 'q', 'u', 'e', 'm', 'a', 's', ' ', 'd', 'e', ' ', 'F', 'e', 'r', 'r', 'a', 'm', 'e', 'n', 't', 'a', 's', '\\n', '2', '1', '_', 'B', 'H', 'A', '.', 'p', 'd', 'f', '\\n', '5', '.', ' ', 'N', 'Ã', 'O', ' ', 'C', 'O', 'N', 'F', 'O', 'R', 'M', 'I', 'D', 'A', 'D', 'E', 'S', ' ', 'R', 'E', 'F', 'E', 'R', 'E', 'N', 'T', 'E', 'S', ' ', 'À', ' ', 'R', 'E', 'M', 'E', 'S', 'S', 'A', ' ', 'D', 'E', ' ', 'D', 'A', 'D', 'O', 'S', ',', ' ', 'À', ' ', 'E', 'S', 'T', 'R', 'U', 'T', 'U', 'R', 'A', ' ', 'D', 'E', ' ', 'D', 'I', 'R', 'E', 'T', 'Ó', 'R', 'I', 'O', 'S', ' ', 'E', ' ', 'A', 'O', ' ', 'F', 'O', 'R', 'M', 'A', 'T', 'O', ' ', 'E', '\\n', 'N', 'O', 'M', 'E', 'N', 'C', 'L', 'A', 'T', 'U', 'R', 'A', ' ', 'D', 'O', 'S', ' ', 'A', 'R', 'Q', 'U', 'I', 'V', 'O', 'S', '\\n', 'I', 't', 'e', 'n', 's', ':', ' ', 'N', 'ã', 'o', ' ', 'C', 'o', 'n', 'f', 'o', 'r', 'm', 'i', 'd', 'a', 'd', 'e', 's', ':', '\\n', 'L', 'a', 'u', 'd', 'o', ' ', 'd', 'e', ' ', 'A', 'v', 'a', 'l', 'i', 'a', 'ç', 'ã', 'o', ' ', 'd', 'o', ' ', 'P', 'o', 'ç', 'o', ' ', '7', '-', 'M', 'R', 'O', '-', '6', 'D', 'B', '-', 'R', 'J', 'S', ' ', 'P', 'a', 'g', 'e', ' ', '1', ' ', 'o', 'f', ' ', '4']\n"
          ]
        }
      ]
    },
    {
      "cell_type": "code",
      "source": [
        "tokenized_text = text.split()\n",
        "print(tokenized_text)\n"
      ],
      "metadata": {
        "id": "LpMX55g7S8nl",
        "outputId": "a7d015b0-5b06-4b78-a414-a53d52317edf",
        "colab": {
          "base_uri": "https://localhost:8080/"
        }
      },
      "execution_count": 79,
      "outputs": [
        {
          "output_type": "stream",
          "name": "stdout",
          "text": [
            "['Agencia', 'Nacional', 'de', 'Petróleo,', 'Gás', 'Natura', 'e', 'Biocombustíveis', 'Superintendência', 'de', 'Dados', 'Técnicos', 'Banco', 'de', 'Dados', 'de', 'Exploração', 'e', 'Produção', 'Laudo', 'de', 'Avaliação', 'de', 'Dados', 'de', 'Poço', '1.', 'CABEÇALHO', '1.1.', 'Nº', 'do', 'Laudo', '1.2.', 'Data', 'da', '1.3.', 'Nome', 'do', '1.4.', 'Nº', 'Cadastro', 'do', '1.5.', 'Conclusão', 'do', '1.6.', 'Empresa', 'de', 'Reprovação:', 'Avaliação:', 'Poço:', 'Poço:', 'Poço:', 'Operadora:', '2305.1.0099', '08/05/2023', '7-MRO-6DB-RJS', '74316029648', '23/02/2021', 'Petrobras', '2.', 'CONTROLE', 'DE', 'REMESSAS', '(USO', 'INTERNO)', '2.1.', 'Número', 'de', 'Protocolo', 'da(s)', '2.2.', 'Data', 'de', 'Protocolo', 'da(s)', '2.3.', 'Código', 'de', 'Cadastro', 'da(s)', 'Remessa(s):', 'Remessa(s):', 'Mídia(s)', 'no', 'BDEP:', '48610.202029/2021-13', '14/05/2021', '370_2021', '48610.202029/2021-13', '17/05/2021', '385_2021', '3.', 'RELAÇÃO', 'DE', 'DADOS', 'RECEBIDOS', 'Tipos', 'de', 'Dados:', 'Norma', 'de', 'Referência:', 'Situação', 'dos', 'Dados', 'no', 'BDEP*:', '3.1.', 'Arquivos', 'Auxiliares', '-', 'Esquemas', 'de', 'Ferramentas', 'RANP', 'n°', '880/2022', 'NÃO', 'CONFORME', '3.2.', 'Arquivos', 'Auxiliares', '-', 'Dados', 'Direcionais', 'RANP', 'n°', '880/2022', 'APROVADO', '3.3.', 'Arquivos', 'Auxiliares', '-', 'Relatório', 'de', 'Campo', 'de', 'Sísmica', 'RANP', 'n°', '880/2022', '3.4.', 'Perfis', 'Durante', 'a', 'Perfuração', 'RANP', 'n°', '880/2022', 'APROVADO', '3.5.', 'Perfis', 'Convencionais', 'RANP', 'n°', '880/2022', 'APROVADO', '3.6.', 'Perfis', 'Especiais', '-', 'Teste', 'de', 'Formação', 'a', 'Cabo', 'RANP', 'n°', '880/2022', '3.7.', 'Perfis', 'Especiais', '-', 'Sísmica', 'de', 'Poço', 'RANP', 'n°', '880/2022', '3.8.', 'Perfis', 'Especiais', '-', 'Amostrador', 'Lateral', 'RANP', 'n°', '880/2022', '3.9.', 'Perfil', 'Digital', 'Processado', 'RANP', 'n°', '880/2022', 'APROVADO', '3.10.', 'Perfil', 'Composto', 'RANP', 'n°', '880/2022', '3.11.', 'Perfil', 'de', 'Acompanhamento', 'Geológico', '(PAG)', '-', 'Anexos', 'I,', 'II', 'e', 'III', 'RANP', 'n°', '880/2022', '3.12.', 'Teste', 'de', 'Formação', 'ANP08', '*Legenda', 'da', 'Situação', 'dos', 'Dados', 'de', 'Poço', 'no', 'BDEP:', 'NÃO', 'RECEBIDO', '=', 'Conjunto', 'de', 'dados', 'adquiridos', 'pela', 'operadora,', 'conforme', 'Notificação', 'de', 'Perfilagem', 'Realizada', '(NPR),', 'mas', 'não', 'remetidos', 'ao', 'BDEP;', 'NÃO', 'CONFORME', '=', 'Conjunto', 'de', 'dados', 'avaliados', 'como', 'não', 'conformes.', 'As', 'não', 'conformidades', 'estão', 'descritas', 'neste', 'laudo;', 'APROVADO', '=', 'Conjunto', 'de', 'dados', 'aprovados', 'e', 'carregados', 'no', 'banco', 'de', 'dados.', '4.', 'RELAÇÃO', 'DOS', 'ARQUIVOS', 'REPROVADOS', 'Itens:', 'Localização', '(Diretórios/Pastas):', 'Nome', 'do(s)', 'Arquivo(s)', 'Não', 'Relação', 'das', 'Não', 'Conformidades:', 'Conforme(s):', '4.1,00', '/000385_2021', '7-mro-6db-rjs_bhpt_cast_xrmi_esq_f', '6.1.', 'Esquemas', 'de', 'Ferramentas', 'erramentas.pdf', '4.2,00', '/000385_2021', '7-mro-6db-rjs_dll-msfl-sdl-dsn_gem_', '6.1.', 'Esquemas', 'de', 'Ferramentas', 'mril_csng_esq_ferramentas.pdf', '4.3,00', '/000370_2021', 'BSAT_7-MRO-6DB-RJS_2A_290120', '6.1.', 'Esquemas', 'de', 'Ferramentas', '21_BHA.pdf', '5.', 'NÃO', 'CONFORMIDADES', 'REFERENTES', 'À', 'REMESSA', 'DE', 'DADOS,', 'À', 'ESTRUTURA', 'DE', 'DIRETÓRIOS', 'E', 'AO', 'FORMATO', 'E', 'NOMENCLATURA', 'DOS', 'ARQUIVOS', 'Itens:', 'Não', 'Conformidades:', 'Laudo', 'de', 'Avaliação', 'do', 'Poço', '7-MRO-6DB-RJS', 'Page', '1', 'of', '4']\n"
          ]
        }
      ]
    },
    {
      "cell_type": "code",
      "source": [
        "text.split('\\n')[4:8]\n"
      ],
      "metadata": {
        "colab": {
          "base_uri": "https://localhost:8080/"
        },
        "id": "velBiStAOWCS",
        "outputId": "06cdbaf4-af81-4717-f300-be37658130be"
      },
      "execution_count": 94,
      "outputs": [
        {
          "output_type": "execute_result",
          "data": {
            "text/plain": [
              "['1. CABEÇALHO',\n",
              " '1.1. Nº do Laudo 1.2. Data da 1.3. Nome do 1.4. Nº Cadastro do 1.5. Conclusão do 1.6. Empresa',\n",
              " 'de Reprovação: Avaliação: Poço: Poço: Poço: Operadora:',\n",
              " '2305.1.0099 08/05/2023 7-MRO-6DB-RJS 74316029648 23/02/2021 Petrobras']"
            ]
          },
          "metadata": {},
          "execution_count": 94
        }
      ]
    },
    {
      "cell_type": "code",
      "source": [
        "text.split('\\n')[32:41]"
      ],
      "metadata": {
        "id": "9cVW4dUPiRhS",
        "outputId": "398fe793-18c7-440e-c995-6bea050d7e89",
        "colab": {
          "base_uri": "https://localhost:8080/"
        }
      },
      "execution_count": 81,
      "outputs": [
        {
          "output_type": "execute_result",
          "data": {
            "text/plain": [
              "['4. RELAÇÃO DOS ARQUIVOS REPROVADOS',\n",
              " 'Itens: Localização (Diretórios/Pastas): Nome do(s) Arquivo(s) Não Relação das Não Conformidades:',\n",
              " 'Conforme(s):',\n",
              " '4.1,00 /000385_2021 7-mro-6db-rjs_bhpt_cast_xrmi_esq_f 6.1. Esquemas de Ferramentas',\n",
              " 'erramentas.pdf',\n",
              " '4.2,00 /000385_2021 7-mro-6db-rjs_dll-msfl-sdl-dsn_gem_ 6.1. Esquemas de Ferramentas',\n",
              " 'mril_csng_esq_ferramentas.pdf',\n",
              " '4.3,00 /000370_2021 BSAT_7-MRO-6DB-RJS_2A_290120 6.1. Esquemas de Ferramentas',\n",
              " '21_BHA.pdf']"
            ]
          },
          "metadata": {},
          "execution_count": 81
        }
      ]
    },
    {
      "cell_type": "code",
      "source": [],
      "metadata": {
        "id": "Z97CGttNMyQv"
      },
      "execution_count": null,
      "outputs": []
    }
  ]
}