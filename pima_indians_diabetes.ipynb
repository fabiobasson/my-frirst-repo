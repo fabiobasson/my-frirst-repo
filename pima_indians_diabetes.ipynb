{
  "nbformat": 4,
  "nbformat_minor": 0,
  "metadata": {
    "colab": {
      "name": "pima_indians_diabetes (1).ipynb",
      "provenance": [],
      "collapsed_sections": []
    },
    "kernelspec": {
      "name": "python3",
      "display_name": "Python 3"
    },
    "language_info": {
      "name": "python"
    },
    "accelerator": "GPU"
  },
  "cells": [
    {
      "cell_type": "code",
      "metadata": {
        "id": "nbxp7rKM5WNq"
      },
      "source": [
        "from keras.models import Sequential\n",
        "from keras.layers import Dense\n",
        "from sklearn.model_selection import train_test_split\n",
        "from keras.wrappers.scikit_learn import KerasClassifier\n",
        "from sklearn.model_selection import StratifiedKFold\n",
        "from sklearn.model_selection import cross_val_score\n",
        "from sklearn.model_selection import GridSearchCV\n",
        "from keras.utils import np_utils\n",
        "from sklearn.preprocessing import LabelEncoder\n",
        "from sklearn.pipeline import Pipelin\n",
        "\n",
        "# fix random seed for reproducibility\n",
        "seed = 7\n",
        "np.random.seed(seed)"
      ],
      "execution_count": 9,
      "outputs": []
    },
    {
      "cell_type": "code",
      "metadata": {
        "id": "0PrMGp2hVxX2"
      },
      "source": [
        "def create_model(optimizer= 'rmsprop' , init= 'glorot_uniform'):\n",
        "\n",
        "# create model\n",
        "  model = Sequential()\n",
        "  model.add(Dense(12, input_dim=8  ,activation= 'relu'))\n",
        "  model.add(Dense(8, activation= 'relu'))\n",
        "  model.add(Dense(1, activation= 'sigmoid'))\n",
        "\n",
        "# Compile model\n",
        "  model.compile(loss= 'binary_crossentropy' , optimizer= 'adam' , metrics=[ 'accuracy' ])\n",
        "\n",
        "  return model"
      ],
      "execution_count": 10,
      "outputs": []
    },
    {
      "cell_type": "code",
      "metadata": {
        "id": "FHVd8UBfgkk8"
      },
      "source": [
        "# load pima indians dataset\n",
        "dataset = pd.read_csv('https://raw.githubusercontent.com/fabiobasson/my-repo/main/datasets/pima-indians-diabetes.csv', sep =',',index_col=None)\n",
        "# split into input (X) and output (Y) variables\n",
        "dataset.shape\n",
        "dataset\n",
        "\n",
        "X = dataset.iloc[:,0:8]\n",
        "y = dataset.iloc[:,8]\n",
        "\n",
        "# X_train, X_test, y_train, y_test = train_test_split(X, y, test_size=0.33, random_state=seed)\n"
      ],
      "execution_count": 12,
      "outputs": []
    },
    {
      "cell_type": "code",
      "metadata": {
        "id": "aPk_bUUQdpE9"
      },
      "source": [
        "# create model\n",
        "model = KerasClassifier(build_fn=create_model, verbose=0)\n",
        "\n",
        "# grid search epochs, batch size and optimizer\n",
        "optimizers = ['rmsprop' , 'adam']\n",
        "init = ['glorot_uniform' , 'normal' , 'uniform']\n",
        "epochs = np.array([50, 100, 150])\n",
        "batches = np.array([5, 10, 20])\n",
        "param_grid = dict (optimizer=optimizers, epochs=epochs, batch_size=batches)\n",
        "grid = GridSearchCV(estimator=model, param_grid=param_grid)\n",
        "grid_result = grid.fit(X, y)\n",
        "\n",
        "# summarize results\n",
        "print(\"Best: %f using %s\" % (grid_result.best_score_, grid_result.best_params_))\n",
        "\n",
        "for params, mean_score, scores in grid_result.grid_scores_:\n",
        "  print(\"%f (%f) with: %r\" % (scores.mean(), scores.std(), params))\n"
      ],
      "execution_count": null,
      "outputs": []
    },
    {
      "cell_type": "code",
      "metadata": {
        "id": "MrkPoYOF9f_w"
      },
      "source": [
        ""
      ],
      "execution_count": null,
      "outputs": []
    }
  ]
}